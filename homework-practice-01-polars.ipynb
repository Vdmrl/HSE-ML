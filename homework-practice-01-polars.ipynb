{
  "cells": [
    {
      "cell_type": "markdown",
      "metadata": {
        "id": "qT4lcRBz3JKd"
      },
      "source": [
        "## Машинное обучение 1, ПМИ ФКН ВШЭ\n",
        "\n",
        "## Практическое домашнее задание 1\n",
        "\n",
        "### Общая информация\n",
        "\n",
        "Дата выдачи: 25.09.2024\n",
        "\n",
        "Мягкий дедлайн: 23:59MSK 06.10.2024\n",
        "\n",
        "Жесткий дедлайн: 23:59MSK 10.10.2024"
      ]
    },
    {
      "cell_type": "markdown",
      "metadata": {
        "id": "UzmZAvdT3JKf"
      },
      "source": [
        "### О задании\n",
        "\n",
        "Задание состоит из двух разделов, посвященных работе с табличными данными с помощью библиотеки `polars` и визуализации с помощью `matplotlib`. В первом разделе вам предстоит выполнить базовые задания с помощью вышеуказанных библиотек, а во втором распределить студентов по курсам. Баллы даются за выполнение отдельных пунктов. Задачи в рамках одного раздела рекомендуется решать в том порядке, в котором они даны в задании.\n",
        "\n",
        "Задание направлено на освоение jupyter notebook (будет использоваться в дальнейших заданиях), библиотек polars и matplotlib.\n",
        "\n",
        "### Оценивание и штрафы\n",
        "Каждая из задач имеет определенную «стоимость» (указана в скобках около задачи). Максимально допустимая оценка за работу — 10 баллов без учёта бонусов. Сдавать задание после жёсткого дедлайна нельзя.\n",
        "\n",
        "Задание выполняется самостоятельно. «Похожие» решения считаются плагиатом и все задействованные студенты (в том числе те, у кого списали) не могут получить за него больше 0 баллов (подробнее о плагиате см. на странице курса). Если вы нашли решение какого-то из заданий (или его часть) в открытом источнике, необходимо указать ссылку на этот источник (скорее всего вы будете не единственным, кто это нашел, поэтому чтобы исключить подозрение в плагиате, необходима ссылка на источник).\n",
        "\n",
        "### Формат сдачи\n",
        "Задания сдаются через систему Anytask. Инвайт можно получить у семинариста или ассистента. Присылать необходимо ноутбук с выполненным заданием. Сам ноутбук называйте в формате `homework-practice-01-polars-Username.ipynb`, где Username — ваша фамилия.\n",
        "\n",
        "Для удобства проверки самостоятельно посчитайте свою максимальную оценку (исходя из набора решенных задач) и укажите ниже.\n",
        "\n",
        "Оценка: 13 (10 + 3 за polars)."
      ]
    },
    {
      "cell_type": "markdown",
      "metadata": {
        "id": "bQMq9hxz3JKg"
      },
      "source": [
        "## 0. Введение"
      ]
    },
    {
      "cell_type": "markdown",
      "metadata": {
        "id": "rDm3xw-Y3JKg"
      },
      "source": [
        "Сейчас мы находимся в jupyter-ноутбуке (или ipython-ноутбуке). Это удобная среда для написания кода, проведения экспериментов, изучения данных, построения визуализаций и других нужд, не связанных с написанием production-кода.\n",
        "\n",
        "Ноутбук состоит из ячеек, каждая из которых может быть либо ячейкой с кодом, либо ячейкой с текстом размеченным и неразмеченным. Текст поддерживает markdown-разметку и формулы в Latex.\n",
        "\n",
        "Для работы с содержимым ячейки используется *режим редактирования* (*Edit mode*, включается нажатием клавиши **Enter** после выбора ячейки), а для навигации между ячейками искользуется *командный режим* (*Command mode*, включается нажатием клавиши **Esc**). Тип ячейки можно задать в командном режиме либо с помощью горячих клавиш (**y** to code, **m** to markdown, **r** to edit raw text), либо в меню *Cell -> Cell type*.\n",
        "\n",
        "После заполнения ячейки нужно нажать *Shift + Enter*, эта команда обработает содержимое ячейки: проинтерпретирует код или сверстает размеченный текст."
      ]
    },
    {
      "cell_type": "code",
      "execution_count": 1,
      "metadata": {
        "colab": {
          "base_uri": "https://localhost:8080/"
        },
        "id": "OEmmbrlv3JKh",
        "outputId": "b5af98b4-a985-4604-be48-6ccf9fb6606e"
      },
      "outputs": [
        {
          "output_type": "execute_result",
          "data": {
            "text/plain": [
              "4"
            ]
          },
          "metadata": {},
          "execution_count": 1
        }
      ],
      "source": [
        "# ячейка с кодом, при выполнении которой появится output\n",
        "2 + 2"
      ]
    },
    {
      "cell_type": "markdown",
      "metadata": {
        "id": "pHuI1gxN3JKi"
      },
      "source": [
        "Ячейка с неразмеченыным текстом."
      ]
    },
    {
      "cell_type": "markdown",
      "metadata": {
        "id": "7Od1jM9q3JKi"
      },
      "source": [
        "Попробуйте создать свои ячейки, написать какой-нибудь код и текст какой-нибудь формулой."
      ]
    },
    {
      "cell_type": "code",
      "execution_count": 2,
      "metadata": {
        "colab": {
          "base_uri": "https://localhost:8080/",
          "height": 35
        },
        "id": "bmR2-3Ut3JKi",
        "outputId": "eb932b8e-0376-4822-b9a7-b871a8b6e4ce"
      },
      "outputs": [
        {
          "output_type": "display_data",
          "data": {
            "text/plain": [
              "'formula'"
            ],
            "application/vnd.google.colaboratory.intrinsic+json": {
              "type": "string"
            }
          },
          "metadata": {}
        }
      ],
      "source": [
        "display(\"formula\")"
      ]
    },
    {
      "cell_type": "markdown",
      "metadata": {
        "id": "eNSsZ84J3JKj"
      },
      "source": [
        "[Здесь](https://athena.brynmawr.edu/jupyter/hub/dblank/public/Jupyter%20Notebook%20Users%20Manual.ipynb) находится <s>не</s>большая заметка о используемом языке разметки Markdown. Он позволяет:\n",
        "\n",
        "0. Составлять упорядоченные списки\n",
        "1. Выделять *текст* <s>при</s> **необходимости**\n",
        "2. Добавлять [ссылки](http://imgs.xkcd.com/comics/the_universal_label.png)\n",
        "\n",
        "\n",
        "* Составлять неупорядоченные списки\n",
        "\n",
        "Делать вставки с помощью LaTex:\n",
        "    \n",
        "$\n",
        "\\left\\{\n",
        "\\begin{array}{ll}\n",
        "x = 16 \\sin^3 (t) \\\\\n",
        "y = 13 \\cos (t) - 5 \\cos (2t) - 2 \\cos (3t) - \\cos (4t) \\\\\n",
        "t \\in [0, 2 \\pi]\n",
        "\\end{array}\n",
        "\\right.$"
      ]
    },
    {
      "cell_type": "markdown",
      "metadata": {
        "id": "lmR9WkMh3JKj"
      },
      "source": [
        "А ещё можно вставлять картинки, или гифки, или что захотите:\n",
        "\n",
        "<img src=\"https://i.imgur.com/k5df8lX.gif\" width=\"400px\">\n",
        "\n"
      ]
    },
    {
      "cell_type": "markdown",
      "metadata": {
        "id": "dPLYl66y3JKj"
      },
      "source": [
        "### Google Colab"
      ]
    },
    {
      "cell_type": "markdown",
      "metadata": {
        "id": "A4lqG21G3JKj"
      },
      "source": [
        "Что за колаб?\n",
        "\n",
        "**Google Colab (Colaboratory)** это **Jupyter Notebook + Cloud + Google Drive.**\n",
        "\n",
        "Компания Google предоставляет возможность бесплатно запускать ноутбуки (предварительно загрузив их на свой гугл-диск) прямо в облаке. При этом вам не требуется установка никаких пакетов на свою машину, а работать можно прямиком из браузера. Вот ссылка:"
      ]
    },
    {
      "cell_type": "markdown",
      "metadata": {
        "id": "79bVOFY_3JKj"
      },
      "source": [
        "https://colab.research.google.com"
      ]
    },
    {
      "cell_type": "markdown",
      "metadata": {
        "id": "LnMoUH2P3JKj"
      },
      "source": [
        "При использовании вы увидите много сходств с jupyter ноутбуком. Одним из преимуществ является доступность GPU, соответствующую опцию можно активировать в настройках сервиса. При желании вы сможете найти в интернете много туториалов по использованию или разобраться самостоятельно =)"
      ]
    },
    {
      "cell_type": "markdown",
      "metadata": {
        "id": "iAb44N3VjD11"
      },
      "source": [
        "### Kaggle\n",
        "\n",
        "Альтернативой является **Kaggle**, он же площадка для самых разных соревнований по машинному обучению\n",
        "\n",
        "Он, как и колаб, предоставляет бесплатный GPU, и даже не один, с чётким лимитом в 30 часов в неделю (colab может его внезапно отобрать, kaggle - нет) более мощные CPU с большим числом ядер, и больше Гб ОЗУ (раз так в 2.5)\n",
        "\n",
        "https://www.kaggle.com\n",
        "\n",
        "К сожалению мир не идеален, недостатки следующие:\n",
        "- необходимость загружать датасеты через специальную кнопочку\n",
        "- невозможность использовать свои скрипты и модули :(\n",
        "- нужно тыкать техподдержку, чтобы создать аккаунт из России"
      ]
    },
    {
      "cell_type": "markdown",
      "metadata": {
        "id": "91bWX9jd3JKk"
      },
      "source": [
        "## 1. Табличные данные и Polars"
      ]
    },
    {
      "cell_type": "markdown",
      "metadata": {
        "id": "Z9L3rKBm3JKk"
      },
      "source": [
        "Эта версия домашки предполагает, что вы уже являетесь уверенным пользователем `pandas` и знакомы с датафреймами, как они устроены и как ими манипулировать. Библиотека `polars` основана на тех же концептах.\n",
        "\n",
        "Главные достоинства, которые чуть позже продемонстрируем:\n",
        "- он написан на Rust, поэтому почти все операции в нём выполняются значительно быстрее, есть распараллеливание из коробки, автоматическая оптимизация запросов и пр\n",
        "- он позволяет работать с данными, которые не помещаются в оперативку, с этим поможет `pl.LazyFrame` и streaming\n",
        "- конечно же имеются дополнительные функции, которых в `pandas` нет, но очень хочется, например агрегации с расширяющимся окном, произвольные оконные функции и прочее, для этого есть крайне гибкая штука `pl.Expr`\n",
        "\n",
        "Подробнее можете прочитать на [любом](https://habr.com/ru/articles/710240/) [ресурсе](https://realpython.com/polars-python/), [посвящённом](https://blog.jetbrains.com/pycharm/2024/07/polars-vs-pandas/) [`polars`](https://habr.com/ru/companies/spectr/articles/738766/)\n",
        "\n",
        "В этой части потребуется выполнить несколько небольших заданий. Можно пойти двумя путями: сначала изучить материалы, а потом приступить к заданиям, или же разбираться \"по ходу\". Выбирайте сами\n",
        "\n",
        "Если не понятно, как вызывать конкретный метод, обратитесь к материалам ниже. Имейте в виду, что синтаксис `polars` отличается от привычного нампаевского.\n",
        "Скорее всего все ваши самые извращённые фантазии уже как-то реализованы в `polars`, поэтому читайте внимательно. Ну и конечно гуглить не запрещено, но желательно прикладывать источник\n",
        "\n",
        "Материалы:\n",
        "1. [Getting started](https://docs.pola.rs/user-guide/getting-started/#reading-writing) из официального руководства\n",
        "2. [Документация](https://docs.pola.rs/api/python/stable/reference/index.html) со всем необходимым\n",
        "3. [Модификация для Data Science](https://polars-ds-extension.readthedocs.io/en/latest/index.html), вам скорее всего не понадобится в данном задании, но имейте в виду\n",
        "\n",
        "Многие из заданий можно выполнить несколькими способами. Не существуют единственно верного, но попробуйте максимально задействовать арсенал polars и ориентируйтесь на простоту и понятность вашего кода. Мы не будем подсказывать, что нужно использовать для решения конкретной задачи, попробуйте находить необходимый функционал сами (название метода чаще всего очевидно)"
      ]
    },
    {
      "cell_type": "code",
      "execution_count": 3,
      "metadata": {
        "id": "TwYQ-X_Q-m2A",
        "colab": {
          "base_uri": "https://localhost:8080/"
        },
        "outputId": "2d268600-8e61-4d29-f4c7-f4770e923976"
      },
      "outputs": [
        {
          "output_type": "stream",
          "name": "stdout",
          "text": [
            "\u001b[2K   \u001b[90m━━━━━━━━━━━━━━━━━━━━━━━━━━━━━━━━━━━━━━━━\u001b[0m \u001b[32m31.6/31.6 MB\u001b[0m \u001b[31m18.4 MB/s\u001b[0m eta \u001b[36m0:00:00\u001b[0m\n",
            "\u001b[2K   \u001b[90m━━━━━━━━━━━━━━━━━━━━━━━━━━━━━━━━━━━━━━━━\u001b[0m \u001b[32m161.0/161.0 kB\u001b[0m \u001b[31m3.0 MB/s\u001b[0m eta \u001b[36m0:00:00\u001b[0m\n",
            "\u001b[?25h"
          ]
        }
      ],
      "source": [
        "# поларс относительно молодой, имейте в виду, что что-то может сломаться, если будете менять версию\n",
        "!pip install -qU hvplot xlsx2csv polars==1.5.0"
      ]
    },
    {
      "cell_type": "code",
      "execution_count": 4,
      "metadata": {
        "id": "QuroV3kMWMpY"
      },
      "outputs": [],
      "source": [
        "# !conda install polars -y"
      ]
    },
    {
      "cell_type": "code",
      "execution_count": 5,
      "metadata": {
        "id": "72smvZpD3JKk"
      },
      "outputs": [],
      "source": [
        "import polars as pl"
      ]
    },
    {
      "cell_type": "markdown",
      "metadata": {
        "id": "hX2zRkMI3JKk"
      },
      "source": [
        "Скачаем данные:"
      ]
    },
    {
      "cell_type": "code",
      "execution_count": 6,
      "metadata": {
        "id": "a4wqrhEA3JKk"
      },
      "outputs": [],
      "source": [
        "# Можно поставить cond'у на wsl и всё заработает на винде локально\n",
        "!wget  -O 'end_seminar.xlsx' -q 'https://www.dropbox.com/s/f4rm8sjc3v99p0m/_end_seminar.xlsx?dl=0'"
      ]
    },
    {
      "cell_type": "markdown",
      "metadata": {
        "id": "joackhzP3JKl"
      },
      "source": [
        "Для пользователей Windows: скачайте файл самостоятельно и поместите его в папку с тетрадкой. Или попробуйте один из следующих вариантов:"
      ]
    },
    {
      "cell_type": "code",
      "execution_count": 7,
      "metadata": {
        "id": "yhc9NUeE3JKl"
      },
      "outputs": [],
      "source": [
        "# !powershell iwr -outf somefile https://somesite/somefile"
      ]
    },
    {
      "cell_type": "code",
      "execution_count": 8,
      "metadata": {
        "id": "FxbRPi183JKl"
      },
      "outputs": [],
      "source": [
        "# !pip install wget\n",
        "# import wget\n",
        "# wget.download('https://dropbox.com/s/f4rm8sjc3v99p0m/_end_seminar.xlsx?dl=1', 'end_seminar.xlsx')"
      ]
    },
    {
      "cell_type": "markdown",
      "metadata": {
        "id": "5hIwLXz43JKl"
      },
      "source": [
        "### 📌 **Обязательно прочитайте блок ниже**\n",
        "\n",
        "> Пандасом и нампаем пользоваться неельзяя... Совсем\n",
        "\n",
        "> В первой части задания (до раздела \"Распределение студентов по курсам\") использование циклов запрещается и повлечет за собой снижение оценки. Во второй уже можно, но с оговорками, о чём ниже\n",
        "\n",
        "> Циклами в данном случае считается `for`, `while` и map-методы `polars`, где можно использовать лямбда-функцию. Главным образом `map_elements` и его производные.\n",
        "И как правило, всё то, что не умеет делать `pl.LazyFrame` - список [здесь](https://docs.pola.rs/api/python/stable/reference/lazyframe/index.html). Мотивация следующая - используя встроенные функции и методы, `polars` может оптимизировать ваш запрос и провести все нужные манипуляции, прежде чем сериализовать и вывести ответ (за некоторыми исключениями), поэтому важно научиться с этим управляться\n",
        "\n",
        "> Чтобы сделать выбор `polars` осмысленным, мы немножко модифицируем исходный датасет. Он будет больше в несколько раз и может не влезть в память, если у вас меньше 8 Гб, а с учётом преобразований может потребоваться до 64 Гб! Не пренебрегайте возможностями `pl.LazyFrame`. Его использование не обязательно, но может сильно облегчить вам жизнь\n",
        "\n",
        "> Трансформировать датасет `df` можно, как только это потребуется по условию (таких пунктов всего 2), на всякий случай поставим значок 🔄\n",
        "\n",
        "> Если небрежно обращаться с методами `polars`, вы рискуете крашнуть ядро, взорвать компутер, потерять рассудок... Если вдруг у вас есть тачка или хотите подебажить на исходном датасете, то пожалуйста, но помните про условия выше\n",
        "\n",
        "> Гарантируется, что задание можно выполнить, имея лишь ресурсы Google Colab (бесплатные), удачи ( ͡° ͜ʖ ͡°)"
      ]
    },
    {
      "cell_type": "markdown",
      "metadata": {
        "id": "das_ZBWy3JKl"
      },
      "source": [
        "Для каждой задачи из этого раздела вы должны написать код для получения ответа, а также дать текстовый ответ, если он предполагается.\n",
        "\n",
        "На некоторые вопросы вы можете получить путём пристального взгляда на таблицу, но это не будет засчитываться. Вы в любом случае должны получить ответ с помощью кода."
      ]
    },
    {
      "cell_type": "markdown",
      "metadata": {
        "id": "7L9UmKvHSBhk"
      },
      "source": [
        "### 🐻 Бонус polars. [3 балла]\n",
        "Бонус за использование `polars` равен вашей оценке за дз, умноженной на коэффициент 1.3, поэтому даже если сделали не всё, не отчаивайтесь)"
      ]
    },
    {
      "cell_type": "markdown",
      "metadata": {
        "id": "KH2B5XPBDlgp"
      },
      "source": [
        "#### 0. Ещё пара красивых слов"
      ]
    },
    {
      "cell_type": "markdown",
      "metadata": {
        "id": "-pO9LsL5Dsds"
      },
      "source": [
        "Первые несколько манипуляций мы сделаем за вас, а заодно поясним, в чём тут нюанс"
      ]
    },
    {
      "cell_type": "code",
      "execution_count": 9,
      "metadata": {
        "id": "O_14k6U0WMpa"
      },
      "outputs": [],
      "source": [
        "# !conda install xlsx2csv -y"
      ]
    },
    {
      "cell_type": "code",
      "execution_count": 10,
      "metadata": {
        "colab": {
          "base_uri": "https://localhost:8080/"
        },
        "id": "Ee0QXmptDrX7",
        "outputId": "c96bbec7-4881-40df-bf58-5cfe9ef4c368"
      },
      "outputs": [
        {
          "output_type": "stream",
          "name": "stdout",
          "text": [
            "361 rows\n",
            "0.14587879180908203 mb\n"
          ]
        }
      ],
      "source": [
        "# читаем датафрейм\n",
        "initial_df = pl.read_excel(\"end_seminar.xlsx\", engine=\"xlsx2csv\")\n",
        "print(initial_df.shape[0], \"rows\")\n",
        "print(initial_df.estimated_size(\"mb\"), \"mb\")"
      ]
    },
    {
      "cell_type": "markdown",
      "metadata": {
        "id": "P0nMQNXCD1IO"
      },
      "source": [
        "Как видим, он достаточно маленький. С такими объёмами выбор библиотеки это чисто вкусовщина. Давайте немного поднимем ставки"
      ]
    },
    {
      "cell_type": "code",
      "execution_count": 11,
      "metadata": {
        "id": "PzBRfWY1ECOV"
      },
      "outputs": [],
      "source": [
        "def repeat_df(df: pl.DataFrame | pl.LazyFrame, n: int = 2) -> pl.LazyFrame:\n",
        "    return (\n",
        "        df.lazy()\n",
        "        .select(pl.col(\"timestamp\").unique().sort().repeat_by(n).flatten())\n",
        "        .join(df.lazy(), on=\"timestamp\", how=\"left\")\n",
        "    )"
      ]
    },
    {
      "cell_type": "markdown",
      "metadata": {
        "id": "loouiViPEHGJ"
      },
      "source": [
        "Для работы с датафреймами, которые в память не влезают, нам понадобится объект `pl.LazyFrame`. Он представляет из себя схему выполнения вашего запроса, который оптимизируется, бьётся на батчи и параллелится под капотом через StreamingAPI, что для нас просто идеально. Перевести объект туда можно через метод `lazy`, обратно через `collect`. Учтите, что `streaming=True` работает не со всеми операциями, применяйте с умом, это можно проверить через `pl.LazyFrame.explain(streaming=True)`"
      ]
    },
    {
      "cell_type": "code",
      "execution_count": 12,
      "metadata": {
        "colab": {
          "base_uri": "https://localhost:8080/"
        },
        "id": "OvTbmiSjEEfA",
        "outputId": "793301a5-11f9-4fe1-f8e4-49561e35f5e8"
      },
      "outputs": [
        {
          "output_type": "stream",
          "name": "stdout",
          "text": [
            "Schema\n",
            "LEFT JOIN:\n",
            "LEFT PLAN ON: [col(\"timestamp\")]\n",
            "   SELECT [col(\"timestamp\").unique().sort(asc).repeat_by([dyn int: 2]).explode()] FROM\n",
            "    STREAMING:\n",
            "      DF [\"timestamp\", \"id\", \"rating\", \"18_group\"]; PROJECT 1/16 COLUMNS; SELECTION: None\n",
            "RIGHT PLAN ON: [col(\"timestamp\")]\n",
            "  DF [\"timestamp\", \"id\", \"rating\", \"18_group\"]; PROJECT */16 COLUMNS; SELECTION: None\n",
            "END LEFT JOIN\n"
          ]
        }
      ],
      "source": [
        "repeat_n = 2\n",
        "\n",
        "repeated_df = repeat_df(initial_df, repeat_n)\n",
        "print(\"Schema\")\n",
        "print(repeated_df.explain(streaming=True, optimized=True))"
      ]
    },
    {
      "cell_type": "code",
      "execution_count": 13,
      "metadata": {
        "colab": {
          "base_uri": "https://localhost:8080/"
        },
        "id": "7geBTZI6F691",
        "outputId": "712e4a57-2b10-48a8-da1f-cfc47910d380"
      },
      "outputs": [
        {
          "output_type": "stream",
          "name": "stdout",
          "text": [
            "722 rows\n",
            "0.2917900085449219 mb\n"
          ]
        }
      ],
      "source": [
        "# как видим, повторы работают\n",
        "repeated_df = repeated_df.collect()\n",
        "assert repeated_df.shape[0] == initial_df.shape[0] * repeat_n\n",
        "print(repeated_df.shape[0], \"rows\")\n",
        "print(repeated_df.estimated_size(\"mb\"), \"mb\")"
      ]
    },
    {
      "cell_type": "markdown",
      "metadata": {
        "id": "00wHctZJGe8s"
      },
      "source": [
        "Теперь ещё интереснее. Если бы наш датасет был не в 2 раза больше, а в 100000 раз, что бы мы делали? К счастью для нас, поларс может уместить 300кк строк всего лишь в 512Мб, и это даже не прикол, но работать с этим придётся немного иначе"
      ]
    },
    {
      "cell_type": "code",
      "execution_count": 14,
      "metadata": {
        "colab": {
          "base_uri": "https://localhost:8080/"
        },
        "id": "jm93pikEGqJi",
        "outputId": "ebc1eca6-6fdb-4f34-8457-93f786329e71"
      },
      "outputs": [
        {
          "output_type": "stream",
          "name": "stdout",
          "text": [
            "14.245975762605667 gb\n"
          ]
        }
      ],
      "source": [
        "N = 100000 # 100000\n",
        "\n",
        "df = repeat_df(initial_df, N)\n",
        "print(initial_df.estimated_size(\"gb\") * N, \"gb\")"
      ]
    },
    {
      "cell_type": "markdown",
      "metadata": {
        "id": "MGMtuNEiG-xH"
      },
      "source": [
        "Поэтому даже такая тривиальная задача, как подсчёт строк становится уже не такой простой. Про это и будет дз"
      ]
    },
    {
      "cell_type": "code",
      "execution_count": 15,
      "metadata": {
        "colab": {
          "base_uri": "https://localhost:8080/"
        },
        "id": "pKo9lSvnHlgW",
        "outputId": "0fa1ce6b-0b78-4084-bff9-d5735461dc1e"
      },
      "outputs": [
        {
          "output_type": "stream",
          "name": "stdout",
          "text": [
            "ой, не получилось...\n"
          ]
        }
      ],
      "source": [
        "try:\n",
        "    print(df.shape[0], \"rows\")\n",
        "except AttributeError:\n",
        "    print(\"ой, не получилось...\")\n",
        "\n",
        "# df.collect().shape[0] # тоже можно, если влезет\n",
        "# len(df.collect().to_pandas()) # а такое может крашнуть ядро, попробуйте, хехе..."
      ]
    },
    {
      "cell_type": "code",
      "execution_count": 16,
      "metadata": {
        "id": "sQv--xicWMpc"
      },
      "outputs": [],
      "source": [
        "# df.collect().shape[0]"
      ]
    },
    {
      "cell_type": "code",
      "execution_count": 17,
      "metadata": {
        "id": "cIU1amraWMpd"
      },
      "outputs": [],
      "source": [
        "# Ща тоже попробую\n",
        "# len(df.collect().to_pandas())\n",
        "# Почему-то очень долго работает...\n",
        "# Пришлось перезапустить ноутбук"
      ]
    },
    {
      "cell_type": "code",
      "execution_count": 18,
      "metadata": {
        "colab": {
          "base_uri": "https://localhost:8080/"
        },
        "id": "mt-cWy3LHhvR",
        "outputId": "32ca0767-3f40-4a17-8d56-d098ae70e086"
      },
      "outputs": [
        {
          "output_type": "stream",
          "name": "stdout",
          "text": [
            "36100000 rows\n"
          ]
        }
      ],
      "source": [
        "def lazy_len(df: pl.LazyFrame) -> int:\n",
        "    return df.select(pl.len()).collect().item()\n",
        "\n",
        "\n",
        "rows = lazy_len(df)  # намного экономнее, потому что оптимизировано под капотом\n",
        "assert rows == initial_df.shape[0] * N\n",
        "print(rows, \"rows\")"
      ]
    },
    {
      "cell_type": "markdown",
      "metadata": {
        "id": "JZd3QSTo3JKl"
      },
      "source": [
        "#### 1. [0.5 баллов] Откройте файл с таблицей (не забудьте про её формат). Выведите 3 последних строки\n",
        "\n",
        "Посмотрите на данные и скажите, что они из себя представляют, сколько в таблице строк, какие столбцы? (на это не надо отвечать, просто подумайте об этом)"
      ]
    },
    {
      "cell_type": "code",
      "execution_count": 19,
      "metadata": {
        "colab": {
          "base_uri": "https://localhost:8080/"
        },
        "id": "cbk7PM4OWMpd",
        "outputId": "7ba04025-2e59-44a8-e210-a6d3e5742851"
      },
      "outputs": [
        {
          "output_type": "stream",
          "name": "stdout",
          "text": [
            "количество строк:  36100000\n"
          ]
        }
      ],
      "source": [
        "print(\"количество строк: \", lazy_len(df))"
      ]
    },
    {
      "cell_type": "code",
      "execution_count": 20,
      "metadata": {
        "colab": {
          "base_uri": "https://localhost:8080/",
          "height": 201
        },
        "id": "xV8-qaGgWMpd",
        "outputId": "2176f933-2661-43a2-c6f3-143ccc2f1b35"
      },
      "outputs": [
        {
          "output_type": "execute_result",
          "data": {
            "text/plain": [
              "shape: (1, 16)\n",
              "┌─────────────┬─────────────┬────────┬──────────┬───┬────────────┬──────────┬─────────┬────────────┐\n",
              "│ timestamp   ┆ id          ┆ rating ┆ 18_group ┆ … ┆ percentile ┆ 17_group ┆ blended ┆ is_ml_stud │\n",
              "│ ---         ┆ ---         ┆ ---    ┆ ---      ┆   ┆ ---        ┆ ---      ┆ ---     ┆ ent        │\n",
              "│ str         ┆ str         ┆ i64    ┆ i64      ┆   ┆ f64        ┆ str      ┆ str     ┆ ---        │\n",
              "│             ┆             ┆        ┆          ┆   ┆            ┆          ┆         ┆ bool       │\n",
              "╞═════════════╪═════════════╪════════╪══════════╪═══╪════════════╪══════════╪═════════╪════════════╡\n",
              "│ 2020-05-14  ┆ d555d2805e1 ┆ 996    ┆ null     ┆ … ┆ 0.963768   ┆ 172      ┆ DevOps  ┆ null       │\n",
              "│ 20:23:21    ┆ d93d4f023e5 ┆        ┆          ┆   ┆            ┆          ┆         ┆            │\n",
              "│             ┆ 7dc4c8f4…   ┆        ┆          ┆   ┆            ┆          ┆         ┆            │\n",
              "└─────────────┴─────────────┴────────┴──────────┴───┴────────────┴──────────┴─────────┴────────────┘"
            ],
            "text/html": [
              "<div><style>\n",
              ".dataframe > thead > tr,\n",
              ".dataframe > tbody > tr {\n",
              "  text-align: right;\n",
              "  white-space: pre-wrap;\n",
              "}\n",
              "</style>\n",
              "<small>shape: (1, 16)</small><table border=\"1\" class=\"dataframe\"><thead><tr><th>timestamp</th><th>id</th><th>rating</th><th>18_group</th><th>is_mi</th><th>fall_1</th><th>fall_2</th><th>fall_3</th><th>spring_1</th><th>spring_2</th><th>spring_3</th><th>is_first_time</th><th>percentile</th><th>17_group</th><th>blended</th><th>is_ml_student</th></tr><tr><td>str</td><td>str</td><td>i64</td><td>i64</td><td>i64</td><td>str</td><td>str</td><td>str</td><td>str</td><td>str</td><td>str</td><td>str</td><td>f64</td><td>str</td><td>str</td><td>bool</td></tr></thead><tbody><tr><td>&quot;2020-05-14 20:23:21&quot;</td><td>&quot;d555d2805e1d93d4f023e57dc4c8f4…</td><td>996</td><td>null</td><td>null</td><td>&quot;Безопасность компьютерных сист…</td><td>&quot;Глубинное обучение в обработке…</td><td>&quot;Байесовские методы машинного о…</td><td>&quot;Компьютерное зрение&quot;</td><td>&quot;Обучение с подкреплением&quot;</td><td>&quot;Проектирование и разработка вы…</td><td>&quot;Да&quot;</td><td>0.963768</td><td>&quot;172&quot;</td><td>&quot;DevOps&quot;</td><td>null</td></tr></tbody></table></div>"
            ]
          },
          "metadata": {},
          "execution_count": 20
        }
      ],
      "source": [
        "# Пример первой строки. Всего 16 столбцов\n",
        "df.head(1).collect()"
      ]
    },
    {
      "cell_type": "markdown",
      "metadata": {
        "id": "o74LHRbU3JKl"
      },
      "source": [
        "### Ответьте на вопросы:\n",
        "1. Сколько было уникальных пользователей из групп 18-го года набора, а сколько из групп 17-го года?"
      ]
    },
    {
      "cell_type": "code",
      "execution_count": 21,
      "metadata": {
        "id": "P8U67LmG3JKm"
      },
      "outputs": [],
      "source": [
        "# Насколько я понял, в датасете студенты 18-го года имеют число в таблице 18_group, а 17-го, соответственно, 17_group\n",
        "# Я взял только столбцы, имеющие данных в столбце \"18_group\", выбрал их уникальные id и вычислил количество таких уникальных id\n",
        "uniq_18_len = df.filter(pl.col(\"18_group\").is_not_null()).select(pl.col(\"id\")).unique().select(\n",
        "    pl.len()).collect().item()  # 213\n",
        "uniq_17_len = df.filter(pl.col(\"17_group\").is_not_null()).select(pl.col(\"id\")).unique().select(\n",
        "    pl.len()).collect().item()  # 134\n"
      ]
    },
    {
      "cell_type": "code",
      "execution_count": 22,
      "metadata": {
        "colab": {
          "base_uri": "https://localhost:8080/"
        },
        "id": "Wxx2l9IbWMpf",
        "outputId": "26445e66-4e5b-4c8a-d769-371af4f15e9e"
      },
      "outputs": [
        {
          "output_type": "stream",
          "name": "stdout",
          "text": [
            "Количество уникальных пользователей из групп 18-го года набора: 213\n",
            "Количество уникальных пользователей из групп 17-го года набора: 134\n"
          ]
        }
      ],
      "source": [
        "print(\"Количество уникальных пользователей из групп 18-го года набора:\", uniq_18_len)\n",
        "print(\"Количество уникальных пользователей из групп 17-го года набора:\", uniq_17_len)"
      ]
    },
    {
      "cell_type": "markdown",
      "metadata": {
        "id": "nKYih84LTNfe"
      },
      "source": [
        "2. Есть ли уникальные студенты с равными перцентилями?"
      ]
    },
    {
      "cell_type": "code",
      "execution_count": 23,
      "metadata": {
        "id": "VlZxsjoO9964",
        "colab": {
          "base_uri": "https://localhost:8080/",
          "height": 160
        },
        "outputId": "c5773236-4839-46d4-9e23-3c821e912108"
      },
      "outputs": [
        {
          "output_type": "execute_result",
          "data": {
            "text/plain": [
              "shape: (2, 4)\n",
              "┌─────────────────────────────────┬────────────┬──────────┬──────────┐\n",
              "│ id                              ┆ percentile ┆ 18_group ┆ 17_group │\n",
              "│ ---                             ┆ ---        ┆ ---      ┆ ---      │\n",
              "│ str                             ┆ f64        ┆ i64      ┆ str      │\n",
              "╞═════════════════════════════════╪════════════╪══════════╪══════════╡\n",
              "│ 3a7326c9e355a67d3805824ca34c4b… ┆ 0.0        ┆ null     ┆ 173      │\n",
              "│ 3e106aaef8b24dbb01319c73e14c29… ┆ 0.0        ┆ 182      ┆ null     │\n",
              "└─────────────────────────────────┴────────────┴──────────┴──────────┘"
            ],
            "text/html": [
              "<div><style>\n",
              ".dataframe > thead > tr,\n",
              ".dataframe > tbody > tr {\n",
              "  text-align: right;\n",
              "  white-space: pre-wrap;\n",
              "}\n",
              "</style>\n",
              "<small>shape: (2, 4)</small><table border=\"1\" class=\"dataframe\"><thead><tr><th>id</th><th>percentile</th><th>18_group</th><th>17_group</th></tr><tr><td>str</td><td>f64</td><td>i64</td><td>str</td></tr></thead><tbody><tr><td>&quot;3a7326c9e355a67d3805824ca34c4b…</td><td>0.0</td><td>null</td><td>&quot;173&quot;</td></tr><tr><td>&quot;3e106aaef8b24dbb01319c73e14c29…</td><td>0.0</td><td>182</td><td>null</td></tr></tbody></table></div>"
            ]
          },
          "metadata": {},
          "execution_count": 23
        }
      ],
      "source": [
        "# Думаю, имеется в виду во всех группах в целом (для наглядности также выведу группы)\n",
        "uniq = df.select(pl.col(\"id\", \"percentile\", \"18_group\", \"17_group\")).unique().collect()\n",
        "dublicate_indexes = uniq.select(pl.col(\"percentile\")).is_duplicated()\n",
        "dublicates = uniq.filter(dublicate_indexes)\n",
        "dublicates\n",
        "# Да, есть уникальные студенты с равными перцентилями - это два лучших студента из разных групп с нулевым перцентилем"
      ]
    },
    {
      "cell_type": "markdown",
      "metadata": {
        "id": "PObB1agk3JKm"
      },
      "source": [
        "#### 2. [0.5 балла] Есть ли в данных пропуски? В каких колонках? Сколько их в каждой из этих колонок?\n",
        "\n",
        "Уникальных или нет - не столь важно"
      ]
    },
    {
      "cell_type": "code",
      "execution_count": 24,
      "metadata": {
        "id": "m_0kF1NLWMpg"
      },
      "outputs": [],
      "source": [
        "# df.null_count().collect() # не сработало"
      ]
    },
    {
      "cell_type": "code",
      "execution_count": 25,
      "metadata": {
        "id": "yo4gpH2wWMpg"
      },
      "outputs": [],
      "source": [
        "# df.unique().null_count().collect() # тоже..."
      ]
    },
    {
      "cell_type": "code",
      "execution_count": 26,
      "metadata": {
        "colab": {
          "base_uri": "https://localhost:8080/",
          "height": 129
        },
        "id": "sREEjsBuWMpg",
        "outputId": "01eb4493-2e77-419a-c1a9-88f76e81a353"
      },
      "outputs": [
        {
          "output_type": "execute_result",
          "data": {
            "text/plain": [
              "shape: (1, 16)\n",
              "┌───────────┬─────┬────────┬──────────┬───┬────────────┬──────────┬──────────┬───────────────┐\n",
              "│ timestamp ┆ id  ┆ rating ┆ 18_group ┆ … ┆ percentile ┆ 17_group ┆ blended  ┆ is_ml_student │\n",
              "│ ---       ┆ --- ┆ ---    ┆ ---      ┆   ┆ ---        ┆ ---      ┆ ---      ┆ ---           │\n",
              "│ u32       ┆ u32 ┆ u32    ┆ u32      ┆   ┆ u32        ┆ u32      ┆ u32      ┆ u32           │\n",
              "╞═══════════╪═════╪════════╪══════════╪═══╪════════════╪══════════╪══════════╪═══════════════╡\n",
              "│ 0         ┆ 0   ┆ 0      ┆ 13800000 ┆ … ┆ 0          ┆ 22300000 ┆ 22300000 ┆ 30400000      │\n",
              "└───────────┴─────┴────────┴──────────┴───┴────────────┴──────────┴──────────┴───────────────┘"
            ],
            "text/html": [
              "<div><style>\n",
              ".dataframe > thead > tr,\n",
              ".dataframe > tbody > tr {\n",
              "  text-align: right;\n",
              "  white-space: pre-wrap;\n",
              "}\n",
              "</style>\n",
              "<small>shape: (1, 16)</small><table border=\"1\" class=\"dataframe\"><thead><tr><th>timestamp</th><th>id</th><th>rating</th><th>18_group</th><th>is_mi</th><th>fall_1</th><th>fall_2</th><th>fall_3</th><th>spring_1</th><th>spring_2</th><th>spring_3</th><th>is_first_time</th><th>percentile</th><th>17_group</th><th>blended</th><th>is_ml_student</th></tr><tr><td>u32</td><td>u32</td><td>u32</td><td>u32</td><td>u32</td><td>u32</td><td>u32</td><td>u32</td><td>u32</td><td>u32</td><td>u32</td><td>u32</td><td>u32</td><td>u32</td><td>u32</td><td>u32</td></tr></thead><tbody><tr><td>0</td><td>0</td><td>0</td><td>13800000</td><td>34300000</td><td>0</td><td>0</td><td>0</td><td>0</td><td>0</td><td>0</td><td>200000</td><td>0</td><td>22300000</td><td>22300000</td><td>30400000</td></tr></tbody></table></div>"
            ]
          },
          "metadata": {},
          "execution_count": 26
        }
      ],
      "source": [
        "df.select([\n",
        "    pl.all().null_count()\n",
        "]).collect()\n",
        "# а это сломалось локально и заработало в коллабе (хотя у меня 16 гб), так что дальше буду использовать коллаб"
      ]
    },
    {
      "cell_type": "code",
      "execution_count": 27,
      "metadata": {
        "colab": {
          "base_uri": "https://localhost:8080/",
          "height": 129
        },
        "id": "bVypCfOaWMph",
        "outputId": "eec9794e-d486-4dca-fe75-13f2f57bdfb6"
      },
      "outputs": [
        {
          "output_type": "execute_result",
          "data": {
            "text/plain": [
              "shape: (1, 16)\n",
              "┌───────────┬─────┬────────┬──────────┬───┬────────────┬──────────┬──────────┬───────────────┐\n",
              "│ timestamp ┆ id  ┆ rating ┆ 18_group ┆ … ┆ percentile ┆ 17_group ┆ blended  ┆ is_ml_student │\n",
              "│ ---       ┆ --- ┆ ---    ┆ ---      ┆   ┆ ---        ┆ ---      ┆ ---      ┆ ---           │\n",
              "│ u32       ┆ u32 ┆ u32    ┆ u32      ┆   ┆ u32        ┆ u32      ┆ u32      ┆ u32           │\n",
              "╞═══════════╪═════╪════════╪══════════╪═══╪════════════╪══════════╪══════════╪═══════════════╡\n",
              "│ 0         ┆ 0   ┆ 0      ┆ 13800000 ┆ … ┆ 0          ┆ 22300000 ┆ 22300000 ┆ 30400000      │\n",
              "└───────────┴─────┴────────┴──────────┴───┴────────────┴──────────┴──────────┴───────────────┘"
            ],
            "text/html": [
              "<div><style>\n",
              ".dataframe > thead > tr,\n",
              ".dataframe > tbody > tr {\n",
              "  text-align: right;\n",
              "  white-space: pre-wrap;\n",
              "}\n",
              "</style>\n",
              "<small>shape: (1, 16)</small><table border=\"1\" class=\"dataframe\"><thead><tr><th>timestamp</th><th>id</th><th>rating</th><th>18_group</th><th>is_mi</th><th>fall_1</th><th>fall_2</th><th>fall_3</th><th>spring_1</th><th>spring_2</th><th>spring_3</th><th>is_first_time</th><th>percentile</th><th>17_group</th><th>blended</th><th>is_ml_student</th></tr><tr><td>u32</td><td>u32</td><td>u32</td><td>u32</td><td>u32</td><td>u32</td><td>u32</td><td>u32</td><td>u32</td><td>u32</td><td>u32</td><td>u32</td><td>u32</td><td>u32</td><td>u32</td><td>u32</td></tr></thead><tbody><tr><td>0</td><td>0</td><td>0</td><td>13800000</td><td>34300000</td><td>0</td><td>0</td><td>0</td><td>0</td><td>0</td><td>0</td><td>200000</td><td>0</td><td>22300000</td><td>22300000</td><td>30400000</td></tr></tbody></table></div>"
            ]
          },
          "metadata": {},
          "execution_count": 27
        }
      ],
      "source": [
        "# то же самое, но выписал каждый столбец отдельно\n",
        "df.select([\n",
        "    pl.col(\"timestamp\", \"id\",\"rating\", \"18_group\", \"is_mi\", \"fall_1\", \"fall_2\", \"fall_3\", \"spring_1\" ,\"spring_2\", \"spring_3\", \"is_first_time\", \"percentile\", \"17_group\", \"blended\", \"is_ml_student\").null_count()\n",
        "]).collect()\n",
        "# Можно увидеть, что пропуски есть в столцах с номерами групп, в столбцах с какими либо бинарными значеним(mi,ml, first time) и факультативом(?)"
      ]
    },
    {
      "cell_type": "markdown",
      "metadata": {
        "id": "H0gva-uD3JKm"
      },
      "source": [
        "🔄 Преобразуйте датасет - заполните пропуски пустой строкой для строковых колонок, нулём для числовых и False для булевых (постарайтесь избежать перечисления названий всех столбцов)."
      ]
    },
    {
      "cell_type": "code",
      "execution_count": 28,
      "metadata": {
        "id": "1WOBP3Yx3JKm"
      },
      "outputs": [],
      "source": [
        "# В данном случае числовыми посчитаю колонки 18_group и 17_group (даже с учётом того, что одна из них изначально строка)\n",
        "# Бинарными посчитаю is_mi, is_ml_student, is_first_time (даже если изначально в некоторых числа или строки)\n",
        "# Строковыми посчитаю blended\n",
        "df_filled = df.with_columns([\n",
        "    # int\n",
        "    pl.col(\"18_group\", \"17_group\").cast(pl.Int64).fill_null(0),\n",
        "    # bool\n",
        "    pl.col(\"is_mi\", \"is_ml_student\").cast(pl.Boolean).fill_null(False),\n",
        "    pl.when(pl.col(\"is_first_time\") == \"Да\").then(True).otherwise(False).alias(\"is_first_time\").fill_null(False),\n",
        "    # str\n",
        "    pl.col(\"blended\").fill_null(\"\")\n",
        "]).collect() # Если не сделать collect тут, то ниже всё почему-то начинает падать (я пытался... много раз...)\n"
      ]
    },
    {
      "cell_type": "code",
      "execution_count": 29,
      "metadata": {
        "colab": {
          "base_uri": "https://localhost:8080/",
          "height": 952
        },
        "id": "6WJ6bWaxnEY1",
        "outputId": "476062fa-5809-4b8e-cddd-74691405ed35"
      },
      "outputs": [
        {
          "output_type": "display_data",
          "data": {
            "text/plain": [
              "shape: (10, 16)\n",
              "┌─────────────┬─────────────┬────────┬──────────┬───┬────────────┬──────────┬─────────┬────────────┐\n",
              "│ timestamp   ┆ id          ┆ rating ┆ 18_group ┆ … ┆ percentile ┆ 17_group ┆ blended ┆ is_ml_stud │\n",
              "│ ---         ┆ ---         ┆ ---    ┆ ---      ┆   ┆ ---        ┆ ---      ┆ ---     ┆ ent        │\n",
              "│ str         ┆ str         ┆ i64    ┆ i64      ┆   ┆ f64        ┆ i64      ┆ str     ┆ ---        │\n",
              "│             ┆             ┆        ┆          ┆   ┆            ┆          ┆         ┆ bool       │\n",
              "╞═════════════╪═════════════╪════════╪══════════╪═══╪════════════╪══════════╪═════════╪════════════╡\n",
              "│ 2020-05-14  ┆ d555d2805e1 ┆ 996    ┆ 0        ┆ … ┆ 0.963768   ┆ 172      ┆ DevOps  ┆ false      │\n",
              "│ 20:23:21    ┆ d93d4f023e5 ┆        ┆          ┆   ┆            ┆          ┆         ┆            │\n",
              "│             ┆ 7dc4c8f4…   ┆        ┆          ┆   ┆            ┆          ┆         ┆            │\n",
              "│ 2020-05-14  ┆ d555d2805e1 ┆ 996    ┆ 0        ┆ … ┆ 0.963768   ┆ 172      ┆ DevOps  ┆ false      │\n",
              "│ 20:23:21    ┆ d93d4f023e5 ┆        ┆          ┆   ┆            ┆          ┆         ┆            │\n",
              "│             ┆ 7dc4c8f4…   ┆        ┆          ┆   ┆            ┆          ┆         ┆            │\n",
              "│ 2020-05-14  ┆ d555d2805e1 ┆ 996    ┆ 0        ┆ … ┆ 0.963768   ┆ 172      ┆ DevOps  ┆ false      │\n",
              "│ 20:23:21    ┆ d93d4f023e5 ┆        ┆          ┆   ┆            ┆          ┆         ┆            │\n",
              "│             ┆ 7dc4c8f4…   ┆        ┆          ┆   ┆            ┆          ┆         ┆            │\n",
              "│ 2020-05-14  ┆ d555d2805e1 ┆ 996    ┆ 0        ┆ … ┆ 0.963768   ┆ 172      ┆ DevOps  ┆ false      │\n",
              "│ 20:23:21    ┆ d93d4f023e5 ┆        ┆          ┆   ┆            ┆          ┆         ┆            │\n",
              "│             ┆ 7dc4c8f4…   ┆        ┆          ┆   ┆            ┆          ┆         ┆            │\n",
              "│ 2020-05-14  ┆ d555d2805e1 ┆ 996    ┆ 0        ┆ … ┆ 0.963768   ┆ 172      ┆ DevOps  ┆ false      │\n",
              "│ 20:23:21    ┆ d93d4f023e5 ┆        ┆          ┆   ┆            ┆          ┆         ┆            │\n",
              "│             ┆ 7dc4c8f4…   ┆        ┆          ┆   ┆            ┆          ┆         ┆            │\n",
              "│ 2020-05-14  ┆ d555d2805e1 ┆ 996    ┆ 0        ┆ … ┆ 0.963768   ┆ 172      ┆ DevOps  ┆ false      │\n",
              "│ 20:23:21    ┆ d93d4f023e5 ┆        ┆          ┆   ┆            ┆          ┆         ┆            │\n",
              "│             ┆ 7dc4c8f4…   ┆        ┆          ┆   ┆            ┆          ┆         ┆            │\n",
              "│ 2020-05-14  ┆ d555d2805e1 ┆ 996    ┆ 0        ┆ … ┆ 0.963768   ┆ 172      ┆ DevOps  ┆ false      │\n",
              "│ 20:23:21    ┆ d93d4f023e5 ┆        ┆          ┆   ┆            ┆          ┆         ┆            │\n",
              "│             ┆ 7dc4c8f4…   ┆        ┆          ┆   ┆            ┆          ┆         ┆            │\n",
              "│ 2020-05-14  ┆ d555d2805e1 ┆ 996    ┆ 0        ┆ … ┆ 0.963768   ┆ 172      ┆ DevOps  ┆ false      │\n",
              "│ 20:23:21    ┆ d93d4f023e5 ┆        ┆          ┆   ┆            ┆          ┆         ┆            │\n",
              "│             ┆ 7dc4c8f4…   ┆        ┆          ┆   ┆            ┆          ┆         ┆            │\n",
              "│ 2020-05-14  ┆ d555d2805e1 ┆ 996    ┆ 0        ┆ … ┆ 0.963768   ┆ 172      ┆ DevOps  ┆ false      │\n",
              "│ 20:23:21    ┆ d93d4f023e5 ┆        ┆          ┆   ┆            ┆          ┆         ┆            │\n",
              "│             ┆ 7dc4c8f4…   ┆        ┆          ┆   ┆            ┆          ┆         ┆            │\n",
              "│ 2020-05-14  ┆ d555d2805e1 ┆ 996    ┆ 0        ┆ … ┆ 0.963768   ┆ 172      ┆ DevOps  ┆ false      │\n",
              "│ 20:23:21    ┆ d93d4f023e5 ┆        ┆          ┆   ┆            ┆          ┆         ┆            │\n",
              "│             ┆ 7dc4c8f4…   ┆        ┆          ┆   ┆            ┆          ┆         ┆            │\n",
              "└─────────────┴─────────────┴────────┴──────────┴───┴────────────┴──────────┴─────────┴────────────┘"
            ],
            "text/html": [
              "<div><style>\n",
              ".dataframe > thead > tr,\n",
              ".dataframe > tbody > tr {\n",
              "  text-align: right;\n",
              "  white-space: pre-wrap;\n",
              "}\n",
              "</style>\n",
              "<small>shape: (10, 16)</small><table border=\"1\" class=\"dataframe\"><thead><tr><th>timestamp</th><th>id</th><th>rating</th><th>18_group</th><th>is_mi</th><th>fall_1</th><th>fall_2</th><th>fall_3</th><th>spring_1</th><th>spring_2</th><th>spring_3</th><th>is_first_time</th><th>percentile</th><th>17_group</th><th>blended</th><th>is_ml_student</th></tr><tr><td>str</td><td>str</td><td>i64</td><td>i64</td><td>bool</td><td>str</td><td>str</td><td>str</td><td>str</td><td>str</td><td>str</td><td>bool</td><td>f64</td><td>i64</td><td>str</td><td>bool</td></tr></thead><tbody><tr><td>&quot;2020-05-14 20:23:21&quot;</td><td>&quot;d555d2805e1d93d4f023e57dc4c8f4…</td><td>996</td><td>0</td><td>false</td><td>&quot;Безопасность компьютерных сист…</td><td>&quot;Глубинное обучение в обработке…</td><td>&quot;Байесовские методы машинного о…</td><td>&quot;Компьютерное зрение&quot;</td><td>&quot;Обучение с подкреплением&quot;</td><td>&quot;Проектирование и разработка вы…</td><td>true</td><td>0.963768</td><td>172</td><td>&quot;DevOps&quot;</td><td>false</td></tr><tr><td>&quot;2020-05-14 20:23:21&quot;</td><td>&quot;d555d2805e1d93d4f023e57dc4c8f4…</td><td>996</td><td>0</td><td>false</td><td>&quot;Безопасность компьютерных сист…</td><td>&quot;Глубинное обучение в обработке…</td><td>&quot;Байесовские методы машинного о…</td><td>&quot;Компьютерное зрение&quot;</td><td>&quot;Обучение с подкреплением&quot;</td><td>&quot;Проектирование и разработка вы…</td><td>true</td><td>0.963768</td><td>172</td><td>&quot;DevOps&quot;</td><td>false</td></tr><tr><td>&quot;2020-05-14 20:23:21&quot;</td><td>&quot;d555d2805e1d93d4f023e57dc4c8f4…</td><td>996</td><td>0</td><td>false</td><td>&quot;Безопасность компьютерных сист…</td><td>&quot;Глубинное обучение в обработке…</td><td>&quot;Байесовские методы машинного о…</td><td>&quot;Компьютерное зрение&quot;</td><td>&quot;Обучение с подкреплением&quot;</td><td>&quot;Проектирование и разработка вы…</td><td>true</td><td>0.963768</td><td>172</td><td>&quot;DevOps&quot;</td><td>false</td></tr><tr><td>&quot;2020-05-14 20:23:21&quot;</td><td>&quot;d555d2805e1d93d4f023e57dc4c8f4…</td><td>996</td><td>0</td><td>false</td><td>&quot;Безопасность компьютерных сист…</td><td>&quot;Глубинное обучение в обработке…</td><td>&quot;Байесовские методы машинного о…</td><td>&quot;Компьютерное зрение&quot;</td><td>&quot;Обучение с подкреплением&quot;</td><td>&quot;Проектирование и разработка вы…</td><td>true</td><td>0.963768</td><td>172</td><td>&quot;DevOps&quot;</td><td>false</td></tr><tr><td>&quot;2020-05-14 20:23:21&quot;</td><td>&quot;d555d2805e1d93d4f023e57dc4c8f4…</td><td>996</td><td>0</td><td>false</td><td>&quot;Безопасность компьютерных сист…</td><td>&quot;Глубинное обучение в обработке…</td><td>&quot;Байесовские методы машинного о…</td><td>&quot;Компьютерное зрение&quot;</td><td>&quot;Обучение с подкреплением&quot;</td><td>&quot;Проектирование и разработка вы…</td><td>true</td><td>0.963768</td><td>172</td><td>&quot;DevOps&quot;</td><td>false</td></tr><tr><td>&quot;2020-05-14 20:23:21&quot;</td><td>&quot;d555d2805e1d93d4f023e57dc4c8f4…</td><td>996</td><td>0</td><td>false</td><td>&quot;Безопасность компьютерных сист…</td><td>&quot;Глубинное обучение в обработке…</td><td>&quot;Байесовские методы машинного о…</td><td>&quot;Компьютерное зрение&quot;</td><td>&quot;Обучение с подкреплением&quot;</td><td>&quot;Проектирование и разработка вы…</td><td>true</td><td>0.963768</td><td>172</td><td>&quot;DevOps&quot;</td><td>false</td></tr><tr><td>&quot;2020-05-14 20:23:21&quot;</td><td>&quot;d555d2805e1d93d4f023e57dc4c8f4…</td><td>996</td><td>0</td><td>false</td><td>&quot;Безопасность компьютерных сист…</td><td>&quot;Глубинное обучение в обработке…</td><td>&quot;Байесовские методы машинного о…</td><td>&quot;Компьютерное зрение&quot;</td><td>&quot;Обучение с подкреплением&quot;</td><td>&quot;Проектирование и разработка вы…</td><td>true</td><td>0.963768</td><td>172</td><td>&quot;DevOps&quot;</td><td>false</td></tr><tr><td>&quot;2020-05-14 20:23:21&quot;</td><td>&quot;d555d2805e1d93d4f023e57dc4c8f4…</td><td>996</td><td>0</td><td>false</td><td>&quot;Безопасность компьютерных сист…</td><td>&quot;Глубинное обучение в обработке…</td><td>&quot;Байесовские методы машинного о…</td><td>&quot;Компьютерное зрение&quot;</td><td>&quot;Обучение с подкреплением&quot;</td><td>&quot;Проектирование и разработка вы…</td><td>true</td><td>0.963768</td><td>172</td><td>&quot;DevOps&quot;</td><td>false</td></tr><tr><td>&quot;2020-05-14 20:23:21&quot;</td><td>&quot;d555d2805e1d93d4f023e57dc4c8f4…</td><td>996</td><td>0</td><td>false</td><td>&quot;Безопасность компьютерных сист…</td><td>&quot;Глубинное обучение в обработке…</td><td>&quot;Байесовские методы машинного о…</td><td>&quot;Компьютерное зрение&quot;</td><td>&quot;Обучение с подкреплением&quot;</td><td>&quot;Проектирование и разработка вы…</td><td>true</td><td>0.963768</td><td>172</td><td>&quot;DevOps&quot;</td><td>false</td></tr><tr><td>&quot;2020-05-14 20:23:21&quot;</td><td>&quot;d555d2805e1d93d4f023e57dc4c8f4…</td><td>996</td><td>0</td><td>false</td><td>&quot;Безопасность компьютерных сист…</td><td>&quot;Глубинное обучение в обработке…</td><td>&quot;Байесовские методы машинного о…</td><td>&quot;Компьютерное зрение&quot;</td><td>&quot;Обучение с подкреплением&quot;</td><td>&quot;Проектирование и разработка вы…</td><td>true</td><td>0.963768</td><td>172</td><td>&quot;DevOps&quot;</td><td>false</td></tr></tbody></table></div>"
            ]
          },
          "metadata": {}
        }
      ],
      "source": [
        "# Проверка, что всё работает\n",
        "display(df_filled.head(10)) # проверка blended, 17_group, 18_group,\n"
      ]
    },
    {
      "cell_type": "code",
      "execution_count": 30,
      "metadata": {
        "colab": {
          "base_uri": "https://localhost:8080/",
          "height": 1000
        },
        "id": "uJadOnT29j7P",
        "outputId": "b5636f0e-9674-4877-d928-ebd0337675ab"
      },
      "outputs": [
        {
          "output_type": "execute_result",
          "data": {
            "text/plain": [
              "shape: (10, 16)\n",
              "┌─────────────┬─────────────┬────────┬──────────┬───┬────────────┬──────────┬─────────┬────────────┐\n",
              "│ timestamp   ┆ id          ┆ rating ┆ 18_group ┆ … ┆ percentile ┆ 17_group ┆ blended ┆ is_ml_stud │\n",
              "│ ---         ┆ ---         ┆ ---    ┆ ---      ┆   ┆ ---        ┆ ---      ┆ ---     ┆ ent        │\n",
              "│ str         ┆ str         ┆ i64    ┆ i64      ┆   ┆ f64        ┆ i64      ┆ str     ┆ ---        │\n",
              "│             ┆             ┆        ┆          ┆   ┆            ┆          ┆         ┆ bool       │\n",
              "╞═════════════╪═════════════╪════════╪══════════╪═══╪════════════╪══════════╪═════════╪════════════╡\n",
              "│ 2020-05-16  ┆ 2662600c2c3 ┆ 627    ┆ 182      ┆ … ┆ 0.520179   ┆ 0        ┆         ┆ false      │\n",
              "│ 21:11:40    ┆ 7e11e62f6ee ┆        ┆          ┆   ┆            ┆          ┆         ┆            │\n",
              "│             ┆ 0b88452f…   ┆        ┆          ┆   ┆            ┆          ┆         ┆            │\n",
              "│ 2020-05-16  ┆ 2662600c2c3 ┆ 627    ┆ 182      ┆ … ┆ 0.520179   ┆ 0        ┆         ┆ false      │\n",
              "│ 21:11:40    ┆ 7e11e62f6ee ┆        ┆          ┆   ┆            ┆          ┆         ┆            │\n",
              "│             ┆ 0b88452f…   ┆        ┆          ┆   ┆            ┆          ┆         ┆            │\n",
              "│ 2020-05-16  ┆ 2662600c2c3 ┆ 627    ┆ 182      ┆ … ┆ 0.520179   ┆ 0        ┆         ┆ false      │\n",
              "│ 21:11:40    ┆ 7e11e62f6ee ┆        ┆          ┆   ┆            ┆          ┆         ┆            │\n",
              "│             ┆ 0b88452f…   ┆        ┆          ┆   ┆            ┆          ┆         ┆            │\n",
              "│ 2020-05-16  ┆ 2662600c2c3 ┆ 627    ┆ 182      ┆ … ┆ 0.520179   ┆ 0        ┆         ┆ false      │\n",
              "│ 21:11:40    ┆ 7e11e62f6ee ┆        ┆          ┆   ┆            ┆          ┆         ┆            │\n",
              "│             ┆ 0b88452f…   ┆        ┆          ┆   ┆            ┆          ┆         ┆            │\n",
              "│ 2020-05-16  ┆ 2662600c2c3 ┆ 627    ┆ 182      ┆ … ┆ 0.520179   ┆ 0        ┆         ┆ false      │\n",
              "│ 21:11:40    ┆ 7e11e62f6ee ┆        ┆          ┆   ┆            ┆          ┆         ┆            │\n",
              "│             ┆ 0b88452f…   ┆        ┆          ┆   ┆            ┆          ┆         ┆            │\n",
              "│ 2020-05-16  ┆ 2662600c2c3 ┆ 627    ┆ 182      ┆ … ┆ 0.520179   ┆ 0        ┆         ┆ false      │\n",
              "│ 21:11:40    ┆ 7e11e62f6ee ┆        ┆          ┆   ┆            ┆          ┆         ┆            │\n",
              "│             ┆ 0b88452f…   ┆        ┆          ┆   ┆            ┆          ┆         ┆            │\n",
              "│ 2020-05-16  ┆ 2662600c2c3 ┆ 627    ┆ 182      ┆ … ┆ 0.520179   ┆ 0        ┆         ┆ false      │\n",
              "│ 21:11:40    ┆ 7e11e62f6ee ┆        ┆          ┆   ┆            ┆          ┆         ┆            │\n",
              "│             ┆ 0b88452f…   ┆        ┆          ┆   ┆            ┆          ┆         ┆            │\n",
              "│ 2020-05-16  ┆ 2662600c2c3 ┆ 627    ┆ 182      ┆ … ┆ 0.520179   ┆ 0        ┆         ┆ false      │\n",
              "│ 21:11:40    ┆ 7e11e62f6ee ┆        ┆          ┆   ┆            ┆          ┆         ┆            │\n",
              "│             ┆ 0b88452f…   ┆        ┆          ┆   ┆            ┆          ┆         ┆            │\n",
              "│ 2020-05-16  ┆ 2662600c2c3 ┆ 627    ┆ 182      ┆ … ┆ 0.520179   ┆ 0        ┆         ┆ false      │\n",
              "│ 21:11:40    ┆ 7e11e62f6ee ┆        ┆          ┆   ┆            ┆          ┆         ┆            │\n",
              "│             ┆ 0b88452f…   ┆        ┆          ┆   ┆            ┆          ┆         ┆            │\n",
              "│ 2020-05-16  ┆ 2662600c2c3 ┆ 627    ┆ 182      ┆ … ┆ 0.520179   ┆ 0        ┆         ┆ false      │\n",
              "│ 21:11:40    ┆ 7e11e62f6ee ┆        ┆          ┆   ┆            ┆          ┆         ┆            │\n",
              "│             ┆ 0b88452f…   ┆        ┆          ┆   ┆            ┆          ┆         ┆            │\n",
              "└─────────────┴─────────────┴────────┴──────────┴───┴────────────┴──────────┴─────────┴────────────┘"
            ],
            "text/html": [
              "<div><style>\n",
              ".dataframe > thead > tr,\n",
              ".dataframe > tbody > tr {\n",
              "  text-align: right;\n",
              "  white-space: pre-wrap;\n",
              "}\n",
              "</style>\n",
              "<small>shape: (10, 16)</small><table border=\"1\" class=\"dataframe\"><thead><tr><th>timestamp</th><th>id</th><th>rating</th><th>18_group</th><th>is_mi</th><th>fall_1</th><th>fall_2</th><th>fall_3</th><th>spring_1</th><th>spring_2</th><th>spring_3</th><th>is_first_time</th><th>percentile</th><th>17_group</th><th>blended</th><th>is_ml_student</th></tr><tr><td>str</td><td>str</td><td>i64</td><td>i64</td><td>bool</td><td>str</td><td>str</td><td>str</td><td>str</td><td>str</td><td>str</td><td>bool</td><td>f64</td><td>i64</td><td>str</td><td>bool</td></tr></thead><tbody><tr><td>&quot;2020-05-16 21:11:40&quot;</td><td>&quot;2662600c2c37e11e62f6ee0b88452f…</td><td>627</td><td>182</td><td>true</td><td>&quot;Statistical Learning Theory&quot;</td><td>&quot;Сбор и обработка данных с помо…</td><td>&quot;Принятие решений в условиях ри…</td><td>&quot;Машинное обучение 2&quot;</td><td>&quot;Промышленное программирование …</td><td>&quot;Дополнительные главы прикладно…</td><td>true</td><td>0.520179</td><td>0</td><td>&quot;&quot;</td><td>false</td></tr><tr><td>&quot;2020-05-16 21:11:40&quot;</td><td>&quot;2662600c2c37e11e62f6ee0b88452f…</td><td>627</td><td>182</td><td>true</td><td>&quot;Statistical Learning Theory&quot;</td><td>&quot;Сбор и обработка данных с помо…</td><td>&quot;Принятие решений в условиях ри…</td><td>&quot;Машинное обучение 2&quot;</td><td>&quot;Промышленное программирование …</td><td>&quot;Дополнительные главы прикладно…</td><td>true</td><td>0.520179</td><td>0</td><td>&quot;&quot;</td><td>false</td></tr><tr><td>&quot;2020-05-16 21:11:40&quot;</td><td>&quot;2662600c2c37e11e62f6ee0b88452f…</td><td>627</td><td>182</td><td>true</td><td>&quot;Statistical Learning Theory&quot;</td><td>&quot;Сбор и обработка данных с помо…</td><td>&quot;Принятие решений в условиях ри…</td><td>&quot;Машинное обучение 2&quot;</td><td>&quot;Промышленное программирование …</td><td>&quot;Дополнительные главы прикладно…</td><td>true</td><td>0.520179</td><td>0</td><td>&quot;&quot;</td><td>false</td></tr><tr><td>&quot;2020-05-16 21:11:40&quot;</td><td>&quot;2662600c2c37e11e62f6ee0b88452f…</td><td>627</td><td>182</td><td>true</td><td>&quot;Statistical Learning Theory&quot;</td><td>&quot;Сбор и обработка данных с помо…</td><td>&quot;Принятие решений в условиях ри…</td><td>&quot;Машинное обучение 2&quot;</td><td>&quot;Промышленное программирование …</td><td>&quot;Дополнительные главы прикладно…</td><td>true</td><td>0.520179</td><td>0</td><td>&quot;&quot;</td><td>false</td></tr><tr><td>&quot;2020-05-16 21:11:40&quot;</td><td>&quot;2662600c2c37e11e62f6ee0b88452f…</td><td>627</td><td>182</td><td>true</td><td>&quot;Statistical Learning Theory&quot;</td><td>&quot;Сбор и обработка данных с помо…</td><td>&quot;Принятие решений в условиях ри…</td><td>&quot;Машинное обучение 2&quot;</td><td>&quot;Промышленное программирование …</td><td>&quot;Дополнительные главы прикладно…</td><td>true</td><td>0.520179</td><td>0</td><td>&quot;&quot;</td><td>false</td></tr><tr><td>&quot;2020-05-16 21:11:40&quot;</td><td>&quot;2662600c2c37e11e62f6ee0b88452f…</td><td>627</td><td>182</td><td>true</td><td>&quot;Statistical Learning Theory&quot;</td><td>&quot;Сбор и обработка данных с помо…</td><td>&quot;Принятие решений в условиях ри…</td><td>&quot;Машинное обучение 2&quot;</td><td>&quot;Промышленное программирование …</td><td>&quot;Дополнительные главы прикладно…</td><td>true</td><td>0.520179</td><td>0</td><td>&quot;&quot;</td><td>false</td></tr><tr><td>&quot;2020-05-16 21:11:40&quot;</td><td>&quot;2662600c2c37e11e62f6ee0b88452f…</td><td>627</td><td>182</td><td>true</td><td>&quot;Statistical Learning Theory&quot;</td><td>&quot;Сбор и обработка данных с помо…</td><td>&quot;Принятие решений в условиях ри…</td><td>&quot;Машинное обучение 2&quot;</td><td>&quot;Промышленное программирование …</td><td>&quot;Дополнительные главы прикладно…</td><td>true</td><td>0.520179</td><td>0</td><td>&quot;&quot;</td><td>false</td></tr><tr><td>&quot;2020-05-16 21:11:40&quot;</td><td>&quot;2662600c2c37e11e62f6ee0b88452f…</td><td>627</td><td>182</td><td>true</td><td>&quot;Statistical Learning Theory&quot;</td><td>&quot;Сбор и обработка данных с помо…</td><td>&quot;Принятие решений в условиях ри…</td><td>&quot;Машинное обучение 2&quot;</td><td>&quot;Промышленное программирование …</td><td>&quot;Дополнительные главы прикладно…</td><td>true</td><td>0.520179</td><td>0</td><td>&quot;&quot;</td><td>false</td></tr><tr><td>&quot;2020-05-16 21:11:40&quot;</td><td>&quot;2662600c2c37e11e62f6ee0b88452f…</td><td>627</td><td>182</td><td>true</td><td>&quot;Statistical Learning Theory&quot;</td><td>&quot;Сбор и обработка данных с помо…</td><td>&quot;Принятие решений в условиях ри…</td><td>&quot;Машинное обучение 2&quot;</td><td>&quot;Промышленное программирование …</td><td>&quot;Дополнительные главы прикладно…</td><td>true</td><td>0.520179</td><td>0</td><td>&quot;&quot;</td><td>false</td></tr><tr><td>&quot;2020-05-16 21:11:40&quot;</td><td>&quot;2662600c2c37e11e62f6ee0b88452f…</td><td>627</td><td>182</td><td>true</td><td>&quot;Statistical Learning Theory&quot;</td><td>&quot;Сбор и обработка данных с помо…</td><td>&quot;Принятие решений в условиях ри…</td><td>&quot;Машинное обучение 2&quot;</td><td>&quot;Промышленное программирование …</td><td>&quot;Дополнительные главы прикладно…</td><td>true</td><td>0.520179</td><td>0</td><td>&quot;&quot;</td><td>false</td></tr></tbody></table></div>"
            ]
          },
          "metadata": {},
          "execution_count": 30
        }
      ],
      "source": [
        "df_filled.filter(pl.col(\"is_mi\")).head(10) # is_mi"
      ]
    },
    {
      "cell_type": "code",
      "execution_count": 31,
      "metadata": {
        "colab": {
          "base_uri": "https://localhost:8080/",
          "height": 952
        },
        "id": "YXDwqv3I9rcS",
        "outputId": "050ecdef-0696-471c-86c8-1dc3399c2852"
      },
      "outputs": [
        {
          "output_type": "execute_result",
          "data": {
            "text/plain": [
              "shape: (10, 16)\n",
              "┌─────────────┬─────────────┬────────┬──────────┬───┬────────────┬──────────┬─────────┬────────────┐\n",
              "│ timestamp   ┆ id          ┆ rating ┆ 18_group ┆ … ┆ percentile ┆ 17_group ┆ blended ┆ is_ml_stud │\n",
              "│ ---         ┆ ---         ┆ ---    ┆ ---      ┆   ┆ ---        ┆ ---      ┆ ---     ┆ ent        │\n",
              "│ str         ┆ str         ┆ i64    ┆ i64      ┆   ┆ f64        ┆ i64      ┆ str     ┆ ---        │\n",
              "│             ┆             ┆        ┆          ┆   ┆            ┆          ┆         ┆ bool       │\n",
              "╞═════════════╪═════════════╪════════╪══════════╪═══╪════════════╪══════════╪═════════╪════════════╡\n",
              "│ 2020-05-15  ┆ d6c079f1ff8 ┆ 733    ┆ 181      ┆ … ┆ 0.085202   ┆ 0        ┆         ┆ true       │\n",
              "│ 13:29:10    ┆ 69c8c84fa3e ┆        ┆          ┆   ┆            ┆          ┆         ┆            │\n",
              "│             ┆ d30bd67e…   ┆        ┆          ┆   ┆            ┆          ┆         ┆            │\n",
              "│ 2020-05-15  ┆ d6c079f1ff8 ┆ 733    ┆ 181      ┆ … ┆ 0.085202   ┆ 0        ┆         ┆ true       │\n",
              "│ 13:29:10    ┆ 69c8c84fa3e ┆        ┆          ┆   ┆            ┆          ┆         ┆            │\n",
              "│             ┆ d30bd67e…   ┆        ┆          ┆   ┆            ┆          ┆         ┆            │\n",
              "│ 2020-05-15  ┆ d6c079f1ff8 ┆ 733    ┆ 181      ┆ … ┆ 0.085202   ┆ 0        ┆         ┆ true       │\n",
              "│ 13:29:10    ┆ 69c8c84fa3e ┆        ┆          ┆   ┆            ┆          ┆         ┆            │\n",
              "│             ┆ d30bd67e…   ┆        ┆          ┆   ┆            ┆          ┆         ┆            │\n",
              "│ 2020-05-15  ┆ d6c079f1ff8 ┆ 733    ┆ 181      ┆ … ┆ 0.085202   ┆ 0        ┆         ┆ true       │\n",
              "│ 13:29:10    ┆ 69c8c84fa3e ┆        ┆          ┆   ┆            ┆          ┆         ┆            │\n",
              "│             ┆ d30bd67e…   ┆        ┆          ┆   ┆            ┆          ┆         ┆            │\n",
              "│ 2020-05-15  ┆ d6c079f1ff8 ┆ 733    ┆ 181      ┆ … ┆ 0.085202   ┆ 0        ┆         ┆ true       │\n",
              "│ 13:29:10    ┆ 69c8c84fa3e ┆        ┆          ┆   ┆            ┆          ┆         ┆            │\n",
              "│             ┆ d30bd67e…   ┆        ┆          ┆   ┆            ┆          ┆         ┆            │\n",
              "│ 2020-05-15  ┆ d6c079f1ff8 ┆ 733    ┆ 181      ┆ … ┆ 0.085202   ┆ 0        ┆         ┆ true       │\n",
              "│ 13:29:10    ┆ 69c8c84fa3e ┆        ┆          ┆   ┆            ┆          ┆         ┆            │\n",
              "│             ┆ d30bd67e…   ┆        ┆          ┆   ┆            ┆          ┆         ┆            │\n",
              "│ 2020-05-15  ┆ d6c079f1ff8 ┆ 733    ┆ 181      ┆ … ┆ 0.085202   ┆ 0        ┆         ┆ true       │\n",
              "│ 13:29:10    ┆ 69c8c84fa3e ┆        ┆          ┆   ┆            ┆          ┆         ┆            │\n",
              "│             ┆ d30bd67e…   ┆        ┆          ┆   ┆            ┆          ┆         ┆            │\n",
              "│ 2020-05-15  ┆ d6c079f1ff8 ┆ 733    ┆ 181      ┆ … ┆ 0.085202   ┆ 0        ┆         ┆ true       │\n",
              "│ 13:29:10    ┆ 69c8c84fa3e ┆        ┆          ┆   ┆            ┆          ┆         ┆            │\n",
              "│             ┆ d30bd67e…   ┆        ┆          ┆   ┆            ┆          ┆         ┆            │\n",
              "│ 2020-05-15  ┆ d6c079f1ff8 ┆ 733    ┆ 181      ┆ … ┆ 0.085202   ┆ 0        ┆         ┆ true       │\n",
              "│ 13:29:10    ┆ 69c8c84fa3e ┆        ┆          ┆   ┆            ┆          ┆         ┆            │\n",
              "│             ┆ d30bd67e…   ┆        ┆          ┆   ┆            ┆          ┆         ┆            │\n",
              "│ 2020-05-15  ┆ d6c079f1ff8 ┆ 733    ┆ 181      ┆ … ┆ 0.085202   ┆ 0        ┆         ┆ true       │\n",
              "│ 13:29:10    ┆ 69c8c84fa3e ┆        ┆          ┆   ┆            ┆          ┆         ┆            │\n",
              "│             ┆ d30bd67e…   ┆        ┆          ┆   ┆            ┆          ┆         ┆            │\n",
              "└─────────────┴─────────────┴────────┴──────────┴───┴────────────┴──────────┴─────────┴────────────┘"
            ],
            "text/html": [
              "<div><style>\n",
              ".dataframe > thead > tr,\n",
              ".dataframe > tbody > tr {\n",
              "  text-align: right;\n",
              "  white-space: pre-wrap;\n",
              "}\n",
              "</style>\n",
              "<small>shape: (10, 16)</small><table border=\"1\" class=\"dataframe\"><thead><tr><th>timestamp</th><th>id</th><th>rating</th><th>18_group</th><th>is_mi</th><th>fall_1</th><th>fall_2</th><th>fall_3</th><th>spring_1</th><th>spring_2</th><th>spring_3</th><th>is_first_time</th><th>percentile</th><th>17_group</th><th>blended</th><th>is_ml_student</th></tr><tr><td>str</td><td>str</td><td>i64</td><td>i64</td><td>bool</td><td>str</td><td>str</td><td>str</td><td>str</td><td>str</td><td>str</td><td>bool</td><td>f64</td><td>i64</td><td>str</td><td>bool</td></tr></thead><tbody><tr><td>&quot;2020-05-15 13:29:10&quot;</td><td>&quot;d6c079f1ff869c8c84fa3ed30bd67e…</td><td>733</td><td>181</td><td>false</td><td>&quot;Теория баз данных&quot;</td><td>&quot;Высокопроизводительные вычисле…</td><td>&quot;Сбор и обработка данных с помо…</td><td>&quot;Дополнительные главы прикладно…</td><td>&quot;Анализ данных в бизнесе&quot;</td><td>&quot;Численные методы&quot;</td><td>true</td><td>0.085202</td><td>0</td><td>&quot;&quot;</td><td>true</td></tr><tr><td>&quot;2020-05-15 13:29:10&quot;</td><td>&quot;d6c079f1ff869c8c84fa3ed30bd67e…</td><td>733</td><td>181</td><td>false</td><td>&quot;Теория баз данных&quot;</td><td>&quot;Высокопроизводительные вычисле…</td><td>&quot;Сбор и обработка данных с помо…</td><td>&quot;Дополнительные главы прикладно…</td><td>&quot;Анализ данных в бизнесе&quot;</td><td>&quot;Численные методы&quot;</td><td>true</td><td>0.085202</td><td>0</td><td>&quot;&quot;</td><td>true</td></tr><tr><td>&quot;2020-05-15 13:29:10&quot;</td><td>&quot;d6c079f1ff869c8c84fa3ed30bd67e…</td><td>733</td><td>181</td><td>false</td><td>&quot;Теория баз данных&quot;</td><td>&quot;Высокопроизводительные вычисле…</td><td>&quot;Сбор и обработка данных с помо…</td><td>&quot;Дополнительные главы прикладно…</td><td>&quot;Анализ данных в бизнесе&quot;</td><td>&quot;Численные методы&quot;</td><td>true</td><td>0.085202</td><td>0</td><td>&quot;&quot;</td><td>true</td></tr><tr><td>&quot;2020-05-15 13:29:10&quot;</td><td>&quot;d6c079f1ff869c8c84fa3ed30bd67e…</td><td>733</td><td>181</td><td>false</td><td>&quot;Теория баз данных&quot;</td><td>&quot;Высокопроизводительные вычисле…</td><td>&quot;Сбор и обработка данных с помо…</td><td>&quot;Дополнительные главы прикладно…</td><td>&quot;Анализ данных в бизнесе&quot;</td><td>&quot;Численные методы&quot;</td><td>true</td><td>0.085202</td><td>0</td><td>&quot;&quot;</td><td>true</td></tr><tr><td>&quot;2020-05-15 13:29:10&quot;</td><td>&quot;d6c079f1ff869c8c84fa3ed30bd67e…</td><td>733</td><td>181</td><td>false</td><td>&quot;Теория баз данных&quot;</td><td>&quot;Высокопроизводительные вычисле…</td><td>&quot;Сбор и обработка данных с помо…</td><td>&quot;Дополнительные главы прикладно…</td><td>&quot;Анализ данных в бизнесе&quot;</td><td>&quot;Численные методы&quot;</td><td>true</td><td>0.085202</td><td>0</td><td>&quot;&quot;</td><td>true</td></tr><tr><td>&quot;2020-05-15 13:29:10&quot;</td><td>&quot;d6c079f1ff869c8c84fa3ed30bd67e…</td><td>733</td><td>181</td><td>false</td><td>&quot;Теория баз данных&quot;</td><td>&quot;Высокопроизводительные вычисле…</td><td>&quot;Сбор и обработка данных с помо…</td><td>&quot;Дополнительные главы прикладно…</td><td>&quot;Анализ данных в бизнесе&quot;</td><td>&quot;Численные методы&quot;</td><td>true</td><td>0.085202</td><td>0</td><td>&quot;&quot;</td><td>true</td></tr><tr><td>&quot;2020-05-15 13:29:10&quot;</td><td>&quot;d6c079f1ff869c8c84fa3ed30bd67e…</td><td>733</td><td>181</td><td>false</td><td>&quot;Теория баз данных&quot;</td><td>&quot;Высокопроизводительные вычисле…</td><td>&quot;Сбор и обработка данных с помо…</td><td>&quot;Дополнительные главы прикладно…</td><td>&quot;Анализ данных в бизнесе&quot;</td><td>&quot;Численные методы&quot;</td><td>true</td><td>0.085202</td><td>0</td><td>&quot;&quot;</td><td>true</td></tr><tr><td>&quot;2020-05-15 13:29:10&quot;</td><td>&quot;d6c079f1ff869c8c84fa3ed30bd67e…</td><td>733</td><td>181</td><td>false</td><td>&quot;Теория баз данных&quot;</td><td>&quot;Высокопроизводительные вычисле…</td><td>&quot;Сбор и обработка данных с помо…</td><td>&quot;Дополнительные главы прикладно…</td><td>&quot;Анализ данных в бизнесе&quot;</td><td>&quot;Численные методы&quot;</td><td>true</td><td>0.085202</td><td>0</td><td>&quot;&quot;</td><td>true</td></tr><tr><td>&quot;2020-05-15 13:29:10&quot;</td><td>&quot;d6c079f1ff869c8c84fa3ed30bd67e…</td><td>733</td><td>181</td><td>false</td><td>&quot;Теория баз данных&quot;</td><td>&quot;Высокопроизводительные вычисле…</td><td>&quot;Сбор и обработка данных с помо…</td><td>&quot;Дополнительные главы прикладно…</td><td>&quot;Анализ данных в бизнесе&quot;</td><td>&quot;Численные методы&quot;</td><td>true</td><td>0.085202</td><td>0</td><td>&quot;&quot;</td><td>true</td></tr><tr><td>&quot;2020-05-15 13:29:10&quot;</td><td>&quot;d6c079f1ff869c8c84fa3ed30bd67e…</td><td>733</td><td>181</td><td>false</td><td>&quot;Теория баз данных&quot;</td><td>&quot;Высокопроизводительные вычисле…</td><td>&quot;Сбор и обработка данных с помо…</td><td>&quot;Дополнительные главы прикладно…</td><td>&quot;Анализ данных в бизнесе&quot;</td><td>&quot;Численные методы&quot;</td><td>true</td><td>0.085202</td><td>0</td><td>&quot;&quot;</td><td>true</td></tr></tbody></table></div>"
            ]
          },
          "metadata": {},
          "execution_count": 31
        }
      ],
      "source": [
        "df_filled.filter(pl.col(\"is_ml_student\")).head(10) # is_ml_student. Тут всё падает без collect выше. Даже с streaming=True"
      ]
    },
    {
      "cell_type": "code",
      "execution_count": 32,
      "metadata": {
        "colab": {
          "base_uri": "https://localhost:8080/",
          "height": 779
        },
        "id": "wjSB9Dbu9nTj",
        "outputId": "f345e12a-3b57-4acf-fb33-81091dfc8299"
      },
      "outputs": [
        {
          "output_type": "execute_result",
          "data": {
            "text/plain": [
              "shape: (10, 16)\n",
              "┌─────────────┬─────────────┬────────┬──────────┬───┬────────────┬──────────┬─────────┬────────────┐\n",
              "│ timestamp   ┆ id          ┆ rating ┆ 18_group ┆ … ┆ percentile ┆ 17_group ┆ blended ┆ is_ml_stud │\n",
              "│ ---         ┆ ---         ┆ ---    ┆ ---      ┆   ┆ ---        ┆ ---      ┆ ---     ┆ ent        │\n",
              "│ str         ┆ str         ┆ i64    ┆ i64      ┆   ┆ f64        ┆ i64      ┆ str     ┆ ---        │\n",
              "│             ┆             ┆        ┆          ┆   ┆            ┆          ┆         ┆ bool       │\n",
              "╞═════════════╪═════════════╪════════╪══════════╪═══╪════════════╪══════════╪═════════╪════════════╡\n",
              "│ 2020-05-15  ┆ 26b01b1c4cd ┆ 647    ┆ 181      ┆ … ┆ 0.426009   ┆ 0        ┆         ┆ false      │\n",
              "│ 02:46:48    ┆ 5656bab18d2 ┆        ┆          ┆   ┆            ┆          ┆         ┆            │\n",
              "│             ┆ 4c548834…   ┆        ┆          ┆   ┆            ┆          ┆         ┆            │\n",
              "│ 2020-05-15  ┆ 26b01b1c4cd ┆ 647    ┆ 181      ┆ … ┆ 0.426009   ┆ 0        ┆         ┆ false      │\n",
              "│ 02:46:48    ┆ 5656bab18d2 ┆        ┆          ┆   ┆            ┆          ┆         ┆            │\n",
              "│             ┆ 4c548834…   ┆        ┆          ┆   ┆            ┆          ┆         ┆            │\n",
              "│ 2020-05-15  ┆ 26b01b1c4cd ┆ 647    ┆ 181      ┆ … ┆ 0.426009   ┆ 0        ┆         ┆ false      │\n",
              "│ 02:46:48    ┆ 5656bab18d2 ┆        ┆          ┆   ┆            ┆          ┆         ┆            │\n",
              "│             ┆ 4c548834…   ┆        ┆          ┆   ┆            ┆          ┆         ┆            │\n",
              "│ 2020-05-15  ┆ 26b01b1c4cd ┆ 647    ┆ 181      ┆ … ┆ 0.426009   ┆ 0        ┆         ┆ false      │\n",
              "│ 02:46:48    ┆ 5656bab18d2 ┆        ┆          ┆   ┆            ┆          ┆         ┆            │\n",
              "│             ┆ 4c548834…   ┆        ┆          ┆   ┆            ┆          ┆         ┆            │\n",
              "│ 2020-05-15  ┆ 26b01b1c4cd ┆ 647    ┆ 181      ┆ … ┆ 0.426009   ┆ 0        ┆         ┆ false      │\n",
              "│ 02:46:48    ┆ 5656bab18d2 ┆        ┆          ┆   ┆            ┆          ┆         ┆            │\n",
              "│             ┆ 4c548834…   ┆        ┆          ┆   ┆            ┆          ┆         ┆            │\n",
              "│ 2020-05-15  ┆ 26b01b1c4cd ┆ 647    ┆ 181      ┆ … ┆ 0.426009   ┆ 0        ┆         ┆ false      │\n",
              "│ 02:46:48    ┆ 5656bab18d2 ┆        ┆          ┆   ┆            ┆          ┆         ┆            │\n",
              "│             ┆ 4c548834…   ┆        ┆          ┆   ┆            ┆          ┆         ┆            │\n",
              "│ 2020-05-15  ┆ 26b01b1c4cd ┆ 647    ┆ 181      ┆ … ┆ 0.426009   ┆ 0        ┆         ┆ false      │\n",
              "│ 02:46:48    ┆ 5656bab18d2 ┆        ┆          ┆   ┆            ┆          ┆         ┆            │\n",
              "│             ┆ 4c548834…   ┆        ┆          ┆   ┆            ┆          ┆         ┆            │\n",
              "│ 2020-05-15  ┆ 26b01b1c4cd ┆ 647    ┆ 181      ┆ … ┆ 0.426009   ┆ 0        ┆         ┆ false      │\n",
              "│ 02:46:48    ┆ 5656bab18d2 ┆        ┆          ┆   ┆            ┆          ┆         ┆            │\n",
              "│             ┆ 4c548834…   ┆        ┆          ┆   ┆            ┆          ┆         ┆            │\n",
              "│ 2020-05-15  ┆ 26b01b1c4cd ┆ 647    ┆ 181      ┆ … ┆ 0.426009   ┆ 0        ┆         ┆ false      │\n",
              "│ 02:46:48    ┆ 5656bab18d2 ┆        ┆          ┆   ┆            ┆          ┆         ┆            │\n",
              "│             ┆ 4c548834…   ┆        ┆          ┆   ┆            ┆          ┆         ┆            │\n",
              "│ 2020-05-15  ┆ 26b01b1c4cd ┆ 647    ┆ 181      ┆ … ┆ 0.426009   ┆ 0        ┆         ┆ false      │\n",
              "│ 02:46:48    ┆ 5656bab18d2 ┆        ┆          ┆   ┆            ┆          ┆         ┆            │\n",
              "│             ┆ 4c548834…   ┆        ┆          ┆   ┆            ┆          ┆         ┆            │\n",
              "└─────────────┴─────────────┴────────┴──────────┴───┴────────────┴──────────┴─────────┴────────────┘"
            ],
            "text/html": [
              "<div><style>\n",
              ".dataframe > thead > tr,\n",
              ".dataframe > tbody > tr {\n",
              "  text-align: right;\n",
              "  white-space: pre-wrap;\n",
              "}\n",
              "</style>\n",
              "<small>shape: (10, 16)</small><table border=\"1\" class=\"dataframe\"><thead><tr><th>timestamp</th><th>id</th><th>rating</th><th>18_group</th><th>is_mi</th><th>fall_1</th><th>fall_2</th><th>fall_3</th><th>spring_1</th><th>spring_2</th><th>spring_3</th><th>is_first_time</th><th>percentile</th><th>17_group</th><th>blended</th><th>is_ml_student</th></tr><tr><td>str</td><td>str</td><td>i64</td><td>i64</td><td>bool</td><td>str</td><td>str</td><td>str</td><td>str</td><td>str</td><td>str</td><td>bool</td><td>f64</td><td>i64</td><td>str</td><td>bool</td></tr></thead><tbody><tr><td>&quot;2020-05-15 02:46:48&quot;</td><td>&quot;26b01b1c4cd5656bab18d24c548834…</td><td>647</td><td>181</td><td>false</td><td>&quot;Высокопроизводительные вычисле…</td><td>&quot;Безопасность компьютерных сист…</td><td>&quot;Язык SQL&quot;</td><td>&quot;Дискретная оптимизация&quot;</td><td>&quot;Численные методы&quot;</td><td>&quot;Машинное обучение 2&quot;</td><td>false</td><td>0.426009</td><td>0</td><td>&quot;&quot;</td><td>false</td></tr><tr><td>&quot;2020-05-15 02:46:48&quot;</td><td>&quot;26b01b1c4cd5656bab18d24c548834…</td><td>647</td><td>181</td><td>false</td><td>&quot;Высокопроизводительные вычисле…</td><td>&quot;Безопасность компьютерных сист…</td><td>&quot;Язык SQL&quot;</td><td>&quot;Дискретная оптимизация&quot;</td><td>&quot;Численные методы&quot;</td><td>&quot;Машинное обучение 2&quot;</td><td>false</td><td>0.426009</td><td>0</td><td>&quot;&quot;</td><td>false</td></tr><tr><td>&quot;2020-05-15 02:46:48&quot;</td><td>&quot;26b01b1c4cd5656bab18d24c548834…</td><td>647</td><td>181</td><td>false</td><td>&quot;Высокопроизводительные вычисле…</td><td>&quot;Безопасность компьютерных сист…</td><td>&quot;Язык SQL&quot;</td><td>&quot;Дискретная оптимизация&quot;</td><td>&quot;Численные методы&quot;</td><td>&quot;Машинное обучение 2&quot;</td><td>false</td><td>0.426009</td><td>0</td><td>&quot;&quot;</td><td>false</td></tr><tr><td>&quot;2020-05-15 02:46:48&quot;</td><td>&quot;26b01b1c4cd5656bab18d24c548834…</td><td>647</td><td>181</td><td>false</td><td>&quot;Высокопроизводительные вычисле…</td><td>&quot;Безопасность компьютерных сист…</td><td>&quot;Язык SQL&quot;</td><td>&quot;Дискретная оптимизация&quot;</td><td>&quot;Численные методы&quot;</td><td>&quot;Машинное обучение 2&quot;</td><td>false</td><td>0.426009</td><td>0</td><td>&quot;&quot;</td><td>false</td></tr><tr><td>&quot;2020-05-15 02:46:48&quot;</td><td>&quot;26b01b1c4cd5656bab18d24c548834…</td><td>647</td><td>181</td><td>false</td><td>&quot;Высокопроизводительные вычисле…</td><td>&quot;Безопасность компьютерных сист…</td><td>&quot;Язык SQL&quot;</td><td>&quot;Дискретная оптимизация&quot;</td><td>&quot;Численные методы&quot;</td><td>&quot;Машинное обучение 2&quot;</td><td>false</td><td>0.426009</td><td>0</td><td>&quot;&quot;</td><td>false</td></tr><tr><td>&quot;2020-05-15 02:46:48&quot;</td><td>&quot;26b01b1c4cd5656bab18d24c548834…</td><td>647</td><td>181</td><td>false</td><td>&quot;Высокопроизводительные вычисле…</td><td>&quot;Безопасность компьютерных сист…</td><td>&quot;Язык SQL&quot;</td><td>&quot;Дискретная оптимизация&quot;</td><td>&quot;Численные методы&quot;</td><td>&quot;Машинное обучение 2&quot;</td><td>false</td><td>0.426009</td><td>0</td><td>&quot;&quot;</td><td>false</td></tr><tr><td>&quot;2020-05-15 02:46:48&quot;</td><td>&quot;26b01b1c4cd5656bab18d24c548834…</td><td>647</td><td>181</td><td>false</td><td>&quot;Высокопроизводительные вычисле…</td><td>&quot;Безопасность компьютерных сист…</td><td>&quot;Язык SQL&quot;</td><td>&quot;Дискретная оптимизация&quot;</td><td>&quot;Численные методы&quot;</td><td>&quot;Машинное обучение 2&quot;</td><td>false</td><td>0.426009</td><td>0</td><td>&quot;&quot;</td><td>false</td></tr><tr><td>&quot;2020-05-15 02:46:48&quot;</td><td>&quot;26b01b1c4cd5656bab18d24c548834…</td><td>647</td><td>181</td><td>false</td><td>&quot;Высокопроизводительные вычисле…</td><td>&quot;Безопасность компьютерных сист…</td><td>&quot;Язык SQL&quot;</td><td>&quot;Дискретная оптимизация&quot;</td><td>&quot;Численные методы&quot;</td><td>&quot;Машинное обучение 2&quot;</td><td>false</td><td>0.426009</td><td>0</td><td>&quot;&quot;</td><td>false</td></tr><tr><td>&quot;2020-05-15 02:46:48&quot;</td><td>&quot;26b01b1c4cd5656bab18d24c548834…</td><td>647</td><td>181</td><td>false</td><td>&quot;Высокопроизводительные вычисле…</td><td>&quot;Безопасность компьютерных сист…</td><td>&quot;Язык SQL&quot;</td><td>&quot;Дискретная оптимизация&quot;</td><td>&quot;Численные методы&quot;</td><td>&quot;Машинное обучение 2&quot;</td><td>false</td><td>0.426009</td><td>0</td><td>&quot;&quot;</td><td>false</td></tr><tr><td>&quot;2020-05-15 02:46:48&quot;</td><td>&quot;26b01b1c4cd5656bab18d24c548834…</td><td>647</td><td>181</td><td>false</td><td>&quot;Высокопроизводительные вычисле…</td><td>&quot;Безопасность компьютерных сист…</td><td>&quot;Язык SQL&quot;</td><td>&quot;Дискретная оптимизация&quot;</td><td>&quot;Численные методы&quot;</td><td>&quot;Машинное обучение 2&quot;</td><td>false</td><td>0.426009</td><td>0</td><td>&quot;&quot;</td><td>false</td></tr></tbody></table></div>"
            ]
          },
          "metadata": {},
          "execution_count": 32
        }
      ],
      "source": [
        "df_filled.filter(~pl.col(\"is_first_time\")).head(10) # is_first_time"
      ]
    },
    {
      "cell_type": "markdown",
      "metadata": {
        "id": "CLxydidKvMpN"
      },
      "source": []
    },
    {
      "cell_type": "markdown",
      "metadata": {
        "id": "a0TfG6CY3JKn"
      },
      "source": [
        "#### 3. [0.5 балла] Посмотрите повнимательнее на колонку 'is_first_time'.\n",
        "\n",
        "Каково процентное соотношение ответов? Сколько из них \"Нет\"?"
      ]
    },
    {
      "cell_type": "code",
      "execution_count": 33,
      "metadata": {
        "colab": {
          "base_uri": "https://localhost:8080/"
        },
        "id": "wGolS2eY3JKn",
        "outputId": "0c7f8c8e-018f-4423-8e32-4e322002a74c"
      },
      "outputs": [
        {
          "output_type": "stream",
          "name": "stdout",
          "text": [
            "0.14681434089671241\n"
          ]
        }
      ],
      "source": [
        "# Выше я заменил нет и два пропуска на False\n",
        "no_total = df_filled.filter(pl.col(\"is_first_time\") == False).select(pl.len()).item() - 2 # Вычту два, потому что возможно имелось в виду только \"нет\", без учётов пропусков\n",
        "all_total = df_filled.select(pl.len()).item() + 2 # А тут, соответственно, прибавлю 2\n",
        "print(no_total/all_total)\n",
        "# 14% студентов что-то делают не впервой (ИУП?)"
      ]
    },
    {
      "cell_type": "markdown",
      "metadata": {
        "id": "ffyqq0ilf0pv"
      },
      "source": [
        "🔄 Оставьте только самую позднюю версию обращений студентов и сохраните изменения"
      ]
    },
    {
      "cell_type": "code",
      "execution_count": 34,
      "metadata": {
        "id": "kIgPHwvOA0tg"
      },
      "outputs": [],
      "source": [
        "# Насколько я понял, имеется в виду, что нужно удалить записи студентов, которые повторно проходили форму\n",
        "# Для начала преобразую время в timestamp\n",
        "df_filled = df_filled.with_columns(\n",
        "    pl.col(\"timestamp\").str.strptime(pl.Datetime, format=\"%Y-%m-%d %H:%M:%S\")\n",
        ")"
      ]
    },
    {
      "cell_type": "code",
      "execution_count": 35,
      "metadata": {
        "colab": {
          "base_uri": "https://localhost:8080/",
          "height": 535
        },
        "id": "-ZNrvurOUeHO",
        "outputId": "4022b12d-5c67-47ad-8975-2f5549663e34"
      },
      "outputs": [
        {
          "output_type": "execute_result",
          "data": {
            "text/plain": [
              "shape: (5, 16)\n",
              "┌─────────────┬─────────────┬────────┬──────────┬───┬────────────┬──────────┬─────────┬────────────┐\n",
              "│ timestamp   ┆ id          ┆ rating ┆ 18_group ┆ … ┆ percentile ┆ 17_group ┆ blended ┆ is_ml_stud │\n",
              "│ ---         ┆ ---         ┆ ---    ┆ ---      ┆   ┆ ---        ┆ ---      ┆ ---     ┆ ent        │\n",
              "│ datetime[μs ┆ str         ┆ i64    ┆ i64      ┆   ┆ f64        ┆ i64      ┆ str     ┆ ---        │\n",
              "│ ]           ┆             ┆        ┆          ┆   ┆            ┆          ┆         ┆ bool       │\n",
              "╞═════════════╪═════════════╪════════╪══════════╪═══╪════════════╪══════════╪═════════╪════════════╡\n",
              "│ 2020-05-18  ┆ 50f6d5b6a7f ┆ 1086   ┆ 0        ┆ … ┆ 0.764493   ┆ 174      ┆ DevOps  ┆ false      │\n",
              "│ 22:59:48    ┆ d6c8b1b8959 ┆        ┆          ┆   ┆            ┆          ┆         ┆            │\n",
              "│             ┆ f9ce1f80…   ┆        ┆          ┆   ┆            ┆          ┆         ┆            │\n",
              "│ 2020-05-18  ┆ 50f6d5b6a7f ┆ 1086   ┆ 0        ┆ … ┆ 0.764493   ┆ 174      ┆ DevOps  ┆ false      │\n",
              "│ 22:59:48    ┆ d6c8b1b8959 ┆        ┆          ┆   ┆            ┆          ┆         ┆            │\n",
              "│             ┆ f9ce1f80…   ┆        ┆          ┆   ┆            ┆          ┆         ┆            │\n",
              "│ 2020-05-18  ┆ 50f6d5b6a7f ┆ 1086   ┆ 0        ┆ … ┆ 0.764493   ┆ 174      ┆ DevOps  ┆ false      │\n",
              "│ 22:59:48    ┆ d6c8b1b8959 ┆        ┆          ┆   ┆            ┆          ┆         ┆            │\n",
              "│             ┆ f9ce1f80…   ┆        ┆          ┆   ┆            ┆          ┆         ┆            │\n",
              "│ 2020-05-18  ┆ 50f6d5b6a7f ┆ 1086   ┆ 0        ┆ … ┆ 0.764493   ┆ 174      ┆ DevOps  ┆ false      │\n",
              "│ 22:59:48    ┆ d6c8b1b8959 ┆        ┆          ┆   ┆            ┆          ┆         ┆            │\n",
              "│             ┆ f9ce1f80…   ┆        ┆          ┆   ┆            ┆          ┆         ┆            │\n",
              "│ 2020-05-18  ┆ 50f6d5b6a7f ┆ 1086   ┆ 0        ┆ … ┆ 0.764493   ┆ 174      ┆ DevOps  ┆ false      │\n",
              "│ 22:59:48    ┆ d6c8b1b8959 ┆        ┆          ┆   ┆            ┆          ┆         ┆            │\n",
              "│             ┆ f9ce1f80…   ┆        ┆          ┆   ┆            ┆          ┆         ┆            │\n",
              "└─────────────┴─────────────┴────────┴──────────┴───┴────────────┴──────────┴─────────┴────────────┘"
            ],
            "text/html": [
              "<div><style>\n",
              ".dataframe > thead > tr,\n",
              ".dataframe > tbody > tr {\n",
              "  text-align: right;\n",
              "  white-space: pre-wrap;\n",
              "}\n",
              "</style>\n",
              "<small>shape: (5, 16)</small><table border=\"1\" class=\"dataframe\"><thead><tr><th>timestamp</th><th>id</th><th>rating</th><th>18_group</th><th>is_mi</th><th>fall_1</th><th>fall_2</th><th>fall_3</th><th>spring_1</th><th>spring_2</th><th>spring_3</th><th>is_first_time</th><th>percentile</th><th>17_group</th><th>blended</th><th>is_ml_student</th></tr><tr><td>datetime[μs]</td><td>str</td><td>i64</td><td>i64</td><td>bool</td><td>str</td><td>str</td><td>str</td><td>str</td><td>str</td><td>str</td><td>bool</td><td>f64</td><td>i64</td><td>str</td><td>bool</td></tr></thead><tbody><tr><td>2020-05-18 22:59:48</td><td>&quot;50f6d5b6a7fd6c8b1b8959f9ce1f80…</td><td>1086</td><td>0</td><td>false</td><td>&quot;Глубинное обучение в обработке…</td><td>&quot;Анализ неструктурированных дан…</td><td>&quot;Моделирование временных рядов&quot;</td><td>&quot;Обучение с подкреплением&quot;</td><td>&quot;Методы сжатия и передачи медиа…</td><td>&quot;Проектирование и разработка вы…</td><td>true</td><td>0.764493</td><td>174</td><td>&quot;DevOps&quot;</td><td>false</td></tr><tr><td>2020-05-18 22:59:48</td><td>&quot;50f6d5b6a7fd6c8b1b8959f9ce1f80…</td><td>1086</td><td>0</td><td>false</td><td>&quot;Глубинное обучение в обработке…</td><td>&quot;Анализ неструктурированных дан…</td><td>&quot;Моделирование временных рядов&quot;</td><td>&quot;Обучение с подкреплением&quot;</td><td>&quot;Методы сжатия и передачи медиа…</td><td>&quot;Проектирование и разработка вы…</td><td>true</td><td>0.764493</td><td>174</td><td>&quot;DevOps&quot;</td><td>false</td></tr><tr><td>2020-05-18 22:59:48</td><td>&quot;50f6d5b6a7fd6c8b1b8959f9ce1f80…</td><td>1086</td><td>0</td><td>false</td><td>&quot;Глубинное обучение в обработке…</td><td>&quot;Анализ неструктурированных дан…</td><td>&quot;Моделирование временных рядов&quot;</td><td>&quot;Обучение с подкреплением&quot;</td><td>&quot;Методы сжатия и передачи медиа…</td><td>&quot;Проектирование и разработка вы…</td><td>true</td><td>0.764493</td><td>174</td><td>&quot;DevOps&quot;</td><td>false</td></tr><tr><td>2020-05-18 22:59:48</td><td>&quot;50f6d5b6a7fd6c8b1b8959f9ce1f80…</td><td>1086</td><td>0</td><td>false</td><td>&quot;Глубинное обучение в обработке…</td><td>&quot;Анализ неструктурированных дан…</td><td>&quot;Моделирование временных рядов&quot;</td><td>&quot;Обучение с подкреплением&quot;</td><td>&quot;Методы сжатия и передачи медиа…</td><td>&quot;Проектирование и разработка вы…</td><td>true</td><td>0.764493</td><td>174</td><td>&quot;DevOps&quot;</td><td>false</td></tr><tr><td>2020-05-18 22:59:48</td><td>&quot;50f6d5b6a7fd6c8b1b8959f9ce1f80…</td><td>1086</td><td>0</td><td>false</td><td>&quot;Глубинное обучение в обработке…</td><td>&quot;Анализ неструктурированных дан…</td><td>&quot;Моделирование временных рядов&quot;</td><td>&quot;Обучение с подкреплением&quot;</td><td>&quot;Методы сжатия и передачи медиа…</td><td>&quot;Проектирование и разработка вы…</td><td>true</td><td>0.764493</td><td>174</td><td>&quot;DevOps&quot;</td><td>false</td></tr></tbody></table></div>"
            ]
          },
          "metadata": {},
          "execution_count": 35
        }
      ],
      "source": [
        "# Для проверки посмотрю пользователя 50f6d5b6a7fd6c8b1b8959f9ce1f808d до и после. У него даже в изначальных даннхы было 2 отправки\n",
        "df_filled.filter(pl.col(\"id\") == \"50f6d5b6a7fd6c8b1b8959f9ce1f808d\").head()"
      ]
    },
    {
      "cell_type": "code",
      "execution_count": 36,
      "metadata": {
        "id": "aiusb_cJR7dU"
      },
      "outputs": [],
      "source": [
        "# И теперь сгруппирую по id студентов, оставив только последние даты\n",
        "# Данные отсортированы по времени, так что можно просто взять последнюю строку\n",
        "df_latest = df_filled.group_by(\"id\").agg(pl.all().last())\n",
        "\n",
        "# Поработаю немного сборщиком мусора\n",
        "del df_filled"
      ]
    },
    {
      "cell_type": "code",
      "execution_count": 37,
      "metadata": {
        "colab": {
          "base_uri": "https://localhost:8080/",
          "height": 201
        },
        "id": "AUjNDkSfS6Xb",
        "outputId": "1aff2a37-c869-4260-a47a-a7c3003d4b7f"
      },
      "outputs": [
        {
          "output_type": "execute_result",
          "data": {
            "text/plain": [
              "shape: (1, 16)\n",
              "┌─────────────┬─────────────┬────────┬──────────┬───┬────────────┬──────────┬─────────┬────────────┐\n",
              "│ id          ┆ timestamp   ┆ rating ┆ 18_group ┆ … ┆ percentile ┆ 17_group ┆ blended ┆ is_ml_stud │\n",
              "│ ---         ┆ ---         ┆ ---    ┆ ---      ┆   ┆ ---        ┆ ---      ┆ ---     ┆ ent        │\n",
              "│ str         ┆ datetime[μs ┆ i64    ┆ i64      ┆   ┆ f64        ┆ i64      ┆ str     ┆ ---        │\n",
              "│             ┆ ]           ┆        ┆          ┆   ┆            ┆          ┆         ┆ bool       │\n",
              "╞═════════════╪═════════════╪════════╪══════════╪═══╪════════════╪══════════╪═════════╪════════════╡\n",
              "│ 50f6d5b6a7f ┆ 2020-05-18  ┆ 1086   ┆ 0        ┆ … ┆ 0.764493   ┆ 174      ┆ DevOps  ┆ false      │\n",
              "│ d6c8b1b8959 ┆ 23:24:48    ┆        ┆          ┆   ┆            ┆          ┆         ┆            │\n",
              "│ f9ce1f80…   ┆             ┆        ┆          ┆   ┆            ┆          ┆         ┆            │\n",
              "└─────────────┴─────────────┴────────┴──────────┴───┴────────────┴──────────┴─────────┴────────────┘"
            ],
            "text/html": [
              "<div><style>\n",
              ".dataframe > thead > tr,\n",
              ".dataframe > tbody > tr {\n",
              "  text-align: right;\n",
              "  white-space: pre-wrap;\n",
              "}\n",
              "</style>\n",
              "<small>shape: (1, 16)</small><table border=\"1\" class=\"dataframe\"><thead><tr><th>id</th><th>timestamp</th><th>rating</th><th>18_group</th><th>is_mi</th><th>fall_1</th><th>fall_2</th><th>fall_3</th><th>spring_1</th><th>spring_2</th><th>spring_3</th><th>is_first_time</th><th>percentile</th><th>17_group</th><th>blended</th><th>is_ml_student</th></tr><tr><td>str</td><td>datetime[μs]</td><td>i64</td><td>i64</td><td>bool</td><td>str</td><td>str</td><td>str</td><td>str</td><td>str</td><td>str</td><td>bool</td><td>f64</td><td>i64</td><td>str</td><td>bool</td></tr></thead><tbody><tr><td>&quot;50f6d5b6a7fd6c8b1b8959f9ce1f80…</td><td>2020-05-18 23:24:48</td><td>1086</td><td>0</td><td>false</td><td>&quot;Анализ неструктурированных дан…</td><td>&quot;Глубинное обучение в обработке…</td><td>&quot;Моделирование временных рядов&quot;</td><td>&quot;Обучение с подкреплением&quot;</td><td>&quot;Методы сжатия и передачи медиа…</td><td>&quot;Проектирование и разработка вы…</td><td>false</td><td>0.764493</td><td>174</td><td>&quot;DevOps&quot;</td><td>false</td></tr></tbody></table></div>"
            ]
          },
          "metadata": {},
          "execution_count": 37
        }
      ],
      "source": [
        "# Должна остаться только последняя строка с более поздней датой\n",
        "df_latest.filter(pl.col(\"id\") == \"50f6d5b6a7fd6c8b1b8959f9ce1f808d\").head()\n",
        "# Всё правильно 😎ь)"
      ]
    },
    {
      "cell_type": "markdown",
      "metadata": {
        "id": "EXTt7DAJ3JKn"
      },
      "source": [
        "#### 4. [0.5 балла] Какие  blended-курсы для четверокурсников существуют? На какой blended-курс записалось наибольшее количество студентов? На каком из курсов собрались студенты с самым высоким средним рейтингом?"
      ]
    },
    {
      "cell_type": "code",
      "execution_count": 38,
      "metadata": {
        "colab": {
          "base_uri": "https://localhost:8080/",
          "height": 223
        },
        "id": "gJ0SzAfheBBi",
        "outputId": "16a9eb1f-e12b-45a9-bd02-bdab6ca13581"
      },
      "outputs": [
        {
          "output_type": "execute_result",
          "data": {
            "text/plain": [
              "shape: (4, 1)\n",
              "┌─────────────────────────────────┐\n",
              "│ blended                         │\n",
              "│ ---                             │\n",
              "│ str                             │\n",
              "╞═════════════════════════════════╡\n",
              "│ DevOps                          │\n",
              "│ Введение в дифференциальную ге… │\n",
              "│ Соревновательный анализ данных  │\n",
              "│                                 │\n",
              "└─────────────────────────────────┘"
            ],
            "text/html": [
              "<div><style>\n",
              ".dataframe > thead > tr,\n",
              ".dataframe > tbody > tr {\n",
              "  text-align: right;\n",
              "  white-space: pre-wrap;\n",
              "}\n",
              "</style>\n",
              "<small>shape: (4, 1)</small><table border=\"1\" class=\"dataframe\"><thead><tr><th>blended</th></tr><tr><td>str</td></tr></thead><tbody><tr><td>&quot;DevOps&quot;</td></tr><tr><td>&quot;Введение в дифференциальную ге…</td></tr><tr><td>&quot;Соревновательный анализ данных&quot;</td></tr><tr><td>&quot;&quot;</td></tr></tbody></table></div>"
            ]
          },
          "metadata": {},
          "execution_count": 38
        }
      ],
      "source": [
        "# Какие существуют:\"Соревновательный анализ данных\", \"Введение в дифференциальную геометрию\" и \"DevOps\"\n",
        "df_latest.select(pl.col(\"blended\")).unique()"
      ]
    },
    {
      "cell_type": "code",
      "execution_count": 39,
      "metadata": {
        "colab": {
          "base_uri": "https://localhost:8080/",
          "height": 223
        },
        "id": "NFZvYHQVcLJk",
        "outputId": "cb46dfc3-c7ad-4808-ad86-72e65e9899dc"
      },
      "outputs": [
        {
          "output_type": "execute_result",
          "data": {
            "text/plain": [
              "shape: (4, 2)\n",
              "┌─────────────────────────────────┬─────┐\n",
              "│ blended                         ┆ id  │\n",
              "│ ---                             ┆ --- │\n",
              "│ str                             ┆ u32 │\n",
              "╞═════════════════════════════════╪═════╡\n",
              "│ DevOps                          ┆ 87  │\n",
              "│ Соревновательный анализ данных  ┆ 32  │\n",
              "│                                 ┆ 213 │\n",
              "│ Введение в дифференциальную ге… ┆ 15  │\n",
              "└─────────────────────────────────┴─────┘"
            ],
            "text/html": [
              "<div><style>\n",
              ".dataframe > thead > tr,\n",
              ".dataframe > tbody > tr {\n",
              "  text-align: right;\n",
              "  white-space: pre-wrap;\n",
              "}\n",
              "</style>\n",
              "<small>shape: (4, 2)</small><table border=\"1\" class=\"dataframe\"><thead><tr><th>blended</th><th>id</th></tr><tr><td>str</td><td>u32</td></tr></thead><tbody><tr><td>&quot;DevOps&quot;</td><td>87</td></tr><tr><td>&quot;Соревновательный анализ данных&quot;</td><td>32</td></tr><tr><td>&quot;&quot;</td><td>213</td></tr><tr><td>&quot;Введение в дифференциальную ге…</td><td>15</td></tr></tbody></table></div>"
            ]
          },
          "metadata": {},
          "execution_count": 39
        }
      ],
      "source": [
        "# Наибольшее количество студентов записалось на DevOps\n",
        "df_latest.group_by(\"blended\").agg(pl.col(\"id\").count())"
      ]
    },
    {
      "cell_type": "code",
      "execution_count": 40,
      "metadata": {
        "colab": {
          "base_uri": "https://localhost:8080/",
          "height": 223
        },
        "id": "njz_UJ3geGrw",
        "outputId": "072b4bba-eb2d-4389-9e8a-1521d33fcd8e"
      },
      "outputs": [
        {
          "output_type": "execute_result",
          "data": {
            "text/plain": [
              "shape: (4, 2)\n",
              "┌─────────────────────────────────┬────────┐\n",
              "│ blended                         ┆ rating │\n",
              "│ ---                             ┆ ---    │\n",
              "│ str                             ┆ f64    │\n",
              "╞═════════════════════════════════╪════════╡\n",
              "│ Введение в дифференциальную ге… ┆ 1201.0 │\n",
              "│ DevOps                          ┆ 1154.0 │\n",
              "│                                 ┆ 633.0  │\n",
              "│ Соревновательный анализ данных  ┆ 1157.0 │\n",
              "└─────────────────────────────────┴────────┘"
            ],
            "text/html": [
              "<div><style>\n",
              ".dataframe > thead > tr,\n",
              ".dataframe > tbody > tr {\n",
              "  text-align: right;\n",
              "  white-space: pre-wrap;\n",
              "}\n",
              "</style>\n",
              "<small>shape: (4, 2)</small><table border=\"1\" class=\"dataframe\"><thead><tr><th>blended</th><th>rating</th></tr><tr><td>str</td><td>f64</td></tr></thead><tbody><tr><td>&quot;Введение в дифференциальную ге…</td><td>1201.0</td></tr><tr><td>&quot;DevOps&quot;</td><td>1154.0</td></tr><tr><td>&quot;&quot;</td><td>633.0</td></tr><tr><td>&quot;Соревновательный анализ данных&quot;</td><td>1157.0</td></tr></tbody></table></div>"
            ]
          },
          "metadata": {},
          "execution_count": 40
        }
      ],
      "source": [
        "# Пойму какой на каждом курсе рейтинг по их медианной оценке (больше - лучше)\n",
        "df_latest.group_by(\"blended\").agg(pl.col(\"rating\").median())\n",
        "# Самые гении, ожидаемо, учаться на дифференциальной геометрии"
      ]
    },
    {
      "cell_type": "code",
      "execution_count": 41,
      "metadata": {
        "id": "lzukIRhlg6IU"
      },
      "outputs": [],
      "source": [
        "df = df_latest"
      ]
    },
    {
      "cell_type": "markdown",
      "metadata": {
        "id": "afbGGxV73JKn"
      },
      "source": [
        "#### 5. [1 балл] Выясните, есть ли студенты с абсолютно одинаковыми предпочтениями по всем курсам.\n",
        "\n",
        "Для этого сформируйте таблицу, где для каждого возможного набора курсов посчитано количество студентов, выбравших такой набор, и оставьте только строки где это количество больше 1.\n",
        "\n",
        "В данном случае набор курсов задается упорядоченным множеством ('fall_1', 'fall_2', 'fall_3', 'spring_1', 'spring_2', 'spring_3', 'blended'). Элемент blended будет нулевым для 3-го курса."
      ]
    },
    {
      "cell_type": "code",
      "execution_count": 42,
      "metadata": {
        "colab": {
          "base_uri": "https://localhost:8080/",
          "height": 448
        },
        "id": "fNXhoAMw3JKn",
        "outputId": "e4e21c65-c4d9-4ace-a990-d6c7f3e753d9"
      },
      "outputs": [
        {
          "output_type": "stream",
          "name": "stderr",
          "text": [
            "<ipython-input-42-6a6f891f9efc>:2: DeprecationWarning: `pl.count()` is deprecated. Please use `pl.len()` instead.\n",
            "  students_set_with_rep = df.group_by(['fall_1', 'fall_2', 'fall_3', 'spring_1', 'spring_2', 'spring_3', 'blended']).agg(pl.count()).filter(pl.col(\"count\") > 0)\n"
          ]
        },
        {
          "output_type": "execute_result",
          "data": {
            "text/plain": [
              "shape: (5, 8)\n",
              "┌────────────┬────────────┬────────────┬────────────┬────────────┬────────────┬────────────┬───────┐\n",
              "│ fall_1     ┆ fall_2     ┆ fall_3     ┆ spring_1   ┆ spring_2   ┆ spring_3   ┆ blended    ┆ count │\n",
              "│ ---        ┆ ---        ┆ ---        ┆ ---        ┆ ---        ┆ ---        ┆ ---        ┆ ---   │\n",
              "│ str        ┆ str        ┆ str        ┆ str        ┆ str        ┆ str        ┆ str        ┆ u32   │\n",
              "╞════════════╪════════════╪════════════╪════════════╪════════════╪════════════╪════════════╪═══════╡\n",
              "│ Высокопрои ┆ Безопаснос ┆ Язык SQL   ┆ Промышленн ┆ Компьютерн ┆ Системы    ┆            ┆ 1     │\n",
              "│ зводительн ┆ ть компьют ┆            ┆ ое програм ┆ ые сети    ┆ баз данных ┆            ┆       │\n",
              "│ ые         ┆ ерных      ┆            ┆ мирование  ┆            ┆            ┆            ┆       │\n",
              "│ вычисле…   ┆ сист…      ┆            ┆ …          ┆            ┆            ┆            ┆       │\n",
              "│ Безопаснос ┆ Statistica ┆ Моделирова ┆ Компьютерн ┆ Проектиров ┆ Методы     ┆ Введение в ┆ 1     │\n",
              "│ ть компьют ┆ l Learning ┆ ние        ┆ ое зрение  ┆ ание и     ┆ сжатия и   ┆ дифференци ┆       │\n",
              "│ ерных      ┆ Theory     ┆ временных  ┆            ┆ разработка ┆ передачи   ┆ альную ге… ┆       │\n",
              "│ сист…      ┆            ┆ рядов      ┆            ┆ вы…        ┆ медиа…     ┆            ┆       │\n",
              "│ Высокопрои ┆ Сбор и     ┆ Statistica ┆ Проектиров ┆ Методы     ┆ Компьютерн ┆ DevOps     ┆ 1     │\n",
              "│ зводительн ┆ обработка  ┆ l Learning ┆ ание и     ┆ сжатия и   ┆ ое зрение  ┆            ┆       │\n",
              "│ ые         ┆ данных с   ┆ Theory     ┆ разработка ┆ передачи   ┆            ┆            ┆       │\n",
              "│ вычисле…   ┆ помо…      ┆            ┆ вы…        ┆ медиа…     ┆            ┆            ┆       │\n",
              "│ Язык SQL   ┆ Теория баз ┆ Сбор и     ┆ Промышленн ┆ Системы    ┆ Анализ     ┆            ┆ 1     │\n",
              "│            ┆ данных     ┆ обработка  ┆ ое програм ┆ баз данных ┆ данных в   ┆            ┆       │\n",
              "│            ┆            ┆ данных с   ┆ мирование  ┆            ┆ бизнесе    ┆            ┆       │\n",
              "│            ┆            ┆ помо…      ┆ …          ┆            ┆            ┆            ┆       │\n",
              "│ Теория баз ┆ Язык SQL   ┆ Безопаснос ┆ Промышленн ┆ Компьютерн ┆ Дискретная ┆            ┆ 1     │\n",
              "│ данных     ┆            ┆ ть компьют ┆ ое програм ┆ ые сети    ┆ оптимизаци ┆            ┆       │\n",
              "│            ┆            ┆ ерных      ┆ мирование  ┆            ┆ я          ┆            ┆       │\n",
              "│            ┆            ┆ сист…      ┆ …          ┆            ┆            ┆            ┆       │\n",
              "└────────────┴────────────┴────────────┴────────────┴────────────┴────────────┴────────────┴───────┘"
            ],
            "text/html": [
              "<div><style>\n",
              ".dataframe > thead > tr,\n",
              ".dataframe > tbody > tr {\n",
              "  text-align: right;\n",
              "  white-space: pre-wrap;\n",
              "}\n",
              "</style>\n",
              "<small>shape: (5, 8)</small><table border=\"1\" class=\"dataframe\"><thead><tr><th>fall_1</th><th>fall_2</th><th>fall_3</th><th>spring_1</th><th>spring_2</th><th>spring_3</th><th>blended</th><th>count</th></tr><tr><td>str</td><td>str</td><td>str</td><td>str</td><td>str</td><td>str</td><td>str</td><td>u32</td></tr></thead><tbody><tr><td>&quot;Высокопроизводительные вычисле…</td><td>&quot;Безопасность компьютерных сист…</td><td>&quot;Язык SQL&quot;</td><td>&quot;Промышленное программирование …</td><td>&quot;Компьютерные сети&quot;</td><td>&quot;Системы баз данных&quot;</td><td>&quot;&quot;</td><td>1</td></tr><tr><td>&quot;Безопасность компьютерных сист…</td><td>&quot;Statistical Learning Theory&quot;</td><td>&quot;Моделирование временных рядов&quot;</td><td>&quot;Компьютерное зрение&quot;</td><td>&quot;Проектирование и разработка вы…</td><td>&quot;Методы сжатия и передачи медиа…</td><td>&quot;Введение в дифференциальную ге…</td><td>1</td></tr><tr><td>&quot;Высокопроизводительные вычисле…</td><td>&quot;Сбор и обработка данных с помо…</td><td>&quot;Statistical Learning Theory&quot;</td><td>&quot;Проектирование и разработка вы…</td><td>&quot;Методы сжатия и передачи медиа…</td><td>&quot;Компьютерное зрение&quot;</td><td>&quot;DevOps&quot;</td><td>1</td></tr><tr><td>&quot;Язык SQL&quot;</td><td>&quot;Теория баз данных&quot;</td><td>&quot;Сбор и обработка данных с помо…</td><td>&quot;Промышленное программирование …</td><td>&quot;Системы баз данных&quot;</td><td>&quot;Анализ данных в бизнесе&quot;</td><td>&quot;&quot;</td><td>1</td></tr><tr><td>&quot;Теория баз данных&quot;</td><td>&quot;Язык SQL&quot;</td><td>&quot;Безопасность компьютерных сист…</td><td>&quot;Промышленное программирование …</td><td>&quot;Компьютерные сети&quot;</td><td>&quot;Дискретная оптимизация&quot;</td><td>&quot;&quot;</td><td>1</td></tr></tbody></table></div>"
            ]
          },
          "metadata": {},
          "execution_count": 42
        }
      ],
      "source": [
        "# Из-за того, что в форме одни и те же курсы можно выбрать в разные местах и с повторами, здесь некоторые наборы разделены.\n",
        "students_set_with_rep = df.group_by(['fall_1', 'fall_2', 'fall_3', 'spring_1', 'spring_2', 'spring_3', 'blended']).agg(pl.count()).filter(pl.col(\"count\") > 0)\n",
        "students_set_with_rep.head()"
      ]
    },
    {
      "cell_type": "code",
      "execution_count": 43,
      "metadata": {
        "colab": {
          "base_uri": "https://localhost:8080/"
        },
        "id": "ojD6tf8Pa3Ob",
        "outputId": "1cd6558a-388c-4082-f5e0-07e725338892"
      },
      "outputs": [
        {
          "output_type": "stream",
          "name": "stdout",
          "text": [
            "len = 330\n"
          ]
        }
      ],
      "source": [
        "print(\"len =\", students_set_with_rep.select(pl.len()).item())\n",
        "# По идее должно стать меньше, если сделать правильно"
      ]
    },
    {
      "cell_type": "code",
      "execution_count": 44,
      "metadata": {
        "colab": {
          "base_uri": "https://localhost:8080/",
          "height": 620
        },
        "id": "ZGiytrTI-See",
        "outputId": "4aba907b-b0ec-4bd6-b5bd-f73e603ccbc3"
      },
      "outputs": [
        {
          "output_type": "execute_result",
          "data": {
            "text/plain": [
              "shape: (10, 4)\n",
              "┌────────────────────────────────┬───────────────────────────────┬─────────────────────────┬───────┐\n",
              "│ fall_sorted_list               ┆ spring_sorted_list            ┆ blended                 ┆ count │\n",
              "│ ---                            ┆ ---                           ┆ ---                     ┆ ---   │\n",
              "│ list[str]                      ┆ list[str]                     ┆ str                     ┆ u32   │\n",
              "╞════════════════════════════════╪═══════════════════════════════╪═════════════════════════╪═══════╡\n",
              "│ [\"Анализ неструктурированных   ┆ [\"Методы сжатия и передачи    ┆ DevOps                  ┆ 1     │\n",
              "│ д…                             ┆ мед…                          ┆                         ┆       │\n",
              "│ [\"Матричные вычисления\",       ┆ [\"Анализ данных в бизнесе\",   ┆                         ┆ 1     │\n",
              "│ \"Сбор…                         ┆ \"М…                           ┆                         ┆       │\n",
              "│ [\"Анализ неструктурированных   ┆ [\"Генеративные модели в       ┆ Соревновательный анализ ┆ 1     │\n",
              "│ д…                             ┆ машинн…                       ┆ данных                  ┆       │\n",
              "│ [\"Безопасность компьютерных    ┆ [\"Конфликты и кооперация\",    ┆ DevOps                  ┆ 1     │\n",
              "│ си…                            ┆ \"Ме…                          ┆                         ┆       │\n",
              "│ [\"Анализ неструктурированных   ┆ [\"Генеративные модели в       ┆ DevOps                  ┆ 1     │\n",
              "│ д…                             ┆ машинн…                       ┆                         ┆       │\n",
              "│ [\"Statistical Learning         ┆ [\"Методы сжатия и передачи    ┆ DevOps                  ┆ 1     │\n",
              "│ Theory\"…                       ┆ мед…                          ┆                         ┆       │\n",
              "│ [\"Матричные вычисления\",       ┆ [\"Дополнительные главы        ┆                         ┆ 1     │\n",
              "│ \"Моде…                         ┆ приклад…                      ┆                         ┆       │\n",
              "│ [\"Statistical Learning         ┆ [\"Компьютерные сети\",         ┆                         ┆ 1     │\n",
              "│ Theory\"…                       ┆ \"Машинно…                     ┆                         ┆       │\n",
              "│ [\"Сбор и обработка данных с    ┆ [\"Анализ данных в бизнесе\",   ┆                         ┆ 1     │\n",
              "│ по…                            ┆ \"П…                           ┆                         ┆       │\n",
              "│ [\"Анализ неструктурированных   ┆ [\"Конфликты и кооперация\",    ┆ Соревновательный анализ ┆ 1     │\n",
              "│ д…                             ┆ \"Ме…                          ┆ данных                  ┆       │\n",
              "└────────────────────────────────┴───────────────────────────────┴─────────────────────────┴───────┘"
            ],
            "text/html": [
              "<div><style>\n",
              ".dataframe > thead > tr,\n",
              ".dataframe > tbody > tr {\n",
              "  text-align: right;\n",
              "  white-space: pre-wrap;\n",
              "}\n",
              "</style>\n",
              "<small>shape: (10, 4)</small><table border=\"1\" class=\"dataframe\"><thead><tr><th>fall_sorted_list</th><th>spring_sorted_list</th><th>blended</th><th>count</th></tr><tr><td>list[str]</td><td>list[str]</td><td>str</td><td>u32</td></tr></thead><tbody><tr><td>[&quot;Анализ неструктурированных данных&quot;, &quot;Безопасность компьютерных систем&quot;, &quot;Глубинное обучение в обработке звука&quot;]</td><td>[&quot;Методы сжатия и передачи медиаданных&quot;, &quot;Обучение с подкреплением&quot;, &quot;Проектирование и разработка высоконагруженных сервисов&quot;]</td><td>&quot;DevOps&quot;</td><td>1</td></tr><tr><td>[&quot;Матричные вычисления&quot;, &quot;Сбор и обработка данных с помощью краудсорсинга&quot;, &quot;Язык SQL&quot;]</td><td>[&quot;Анализ данных в бизнесе&quot;, &quot;Машинное обучение 2&quot;, &quot;Промышленное программирование на языке Java&quot;]</td><td>&quot;&quot;</td><td>1</td></tr><tr><td>[&quot;Анализ неструктурированных данных&quot;, &quot;Моделирование временных рядов&quot;, &quot;Сбор и обработка данных с помощью краудсорсинга&quot;]</td><td>[&quot;Генеративные модели в машинном обучении&quot;, &quot;Компьютерное зрение&quot;, &quot;Обучение с подкреплением&quot;]</td><td>&quot;Соревновательный анализ данных&quot;</td><td>1</td></tr><tr><td>[&quot;Безопасность компьютерных систем&quot;, &quot;Высокопроизводительные вычисления&quot;, &quot;Глубинное обучение в обработке звука&quot;]</td><td>[&quot;Конфликты и кооперация&quot;, &quot;Методы сжатия и передачи медиаданных&quot;, &quot;Численные методы&quot;]</td><td>&quot;DevOps&quot;</td><td>1</td></tr><tr><td>[&quot;Анализ неструктурированных данных&quot;, &quot;Высокопроизводительные вычисления&quot;, &quot;Глубинное обучение в обработке звука&quot;]</td><td>[&quot;Генеративные модели в машинном обучении&quot;, &quot;Обучение с подкреплением&quot;, &quot;Проектирование и разработка высоконагруженных сервисов&quot;]</td><td>&quot;DevOps&quot;</td><td>1</td></tr><tr><td>[&quot;Statistical Learning Theory&quot;, &quot;Безопасность компьютерных систем&quot;, &quot;Моделирование временных рядов&quot;]</td><td>[&quot;Методы сжатия и передачи медиаданных&quot;, &quot;Проектирование и разработка высоконагруженных сервисов&quot;, &quot;Численные методы&quot;]</td><td>&quot;DevOps&quot;</td><td>1</td></tr><tr><td>[&quot;Матричные вычисления&quot;, &quot;Моделирование временных рядов&quot;, &quot;Принятие решений в условиях риска и неопределённости&quot;]</td><td>[&quot;Дополнительные главы прикладной статистики&quot;, &quot;Машинное обучение 2&quot;, &quot;Численные методы&quot;]</td><td>&quot;&quot;</td><td>1</td></tr><tr><td>[&quot;Statistical Learning Theory&quot;, &quot;Высокопроизводительные вычисления&quot;, &quot;Моделирование временных рядов&quot;]</td><td>[&quot;Компьютерные сети&quot;, &quot;Машинное обучение 2&quot;, &quot;Системы баз данных&quot;]</td><td>&quot;&quot;</td><td>1</td></tr><tr><td>[&quot;Сбор и обработка данных с помощью краудсорсинга&quot;, &quot;Теория баз данных&quot;, &quot;Язык SQL&quot;]</td><td>[&quot;Анализ данных в бизнесе&quot;, &quot;Промышленное программирование на языке Java&quot;, &quot;Системы баз данных&quot;]</td><td>&quot;&quot;</td><td>1</td></tr><tr><td>[&quot;Анализ неструктурированных данных&quot;, &quot;Глубинное обучение в обработке звука&quot;, &quot;Сбор и обработка данных с помощью краудсорсинга&quot;]</td><td>[&quot;Конфликты и кооперация&quot;, &quot;Методы сжатия и передачи медиаданных&quot;, &quot;Обучение с подкреплением&quot;]</td><td>&quot;Соревновательный анализ данных&quot;</td><td>1</td></tr></tbody></table></div>"
            ]
          },
          "metadata": {},
          "execution_count": 44
        }
      ],
      "source": [
        "# Здесь я избавлялся от перестановок в данных, но в чате написали, что это не нужно было делать\n",
        "\n",
        "# Попробую создать временные столбцы для строк отсоритрованных осенних и весенних курсов, а потом сгрупирую по этим столбцам.\n",
        "# Так можно попробовать избавиться от перестановок одинаковых наборов\n",
        "# Буду работать с предыдущим датафреймом - students_set_with_rep - чтобы сделать это быстрее\n",
        "# После долгих попыток, я смог найти в документации хороший пример:\n",
        "# https://docs.pola.rs/user-guide/expressions/lists/#row-wise-computations\n",
        "result = students_set_with_rep.with_columns(\n",
        "    # Временный столбец с неотсортированными курсами\n",
        "    pl.concat_list(pl.col(\"fall_1\", \"fall_2\", \"fall_3\")).alias(\"fall_list\"),\n",
        "    pl.concat_list(pl.col(\"spring_1\", \"spring_2\", \"spring_3\")).alias(\"spring_list\")\n",
        ").select(\n",
        "    # Временный столбец с отсортированными курсами\n",
        "    pl.all().exclude(\"fall_list\", \"spring_list\"),\n",
        "    pl.col(\"fall_list\").list.sort().alias(\"fall_sorted_list\"),\n",
        "    pl.col(\"spring_list\").list.sort().alias(\"spring_sorted_list\")\n",
        ").group_by(\n",
        "    # Группировака по отсортированным курсам и факультативу\n",
        "    [\"fall_sorted_list\", \"spring_sorted_list\", \"blended\"]\n",
        ").agg(\n",
        "    # И суммирую предыдущие подсчёты\n",
        "    pl.col(\"count\").sum()\n",
        ")\n",
        "\n",
        "result.head(10)\n"
      ]
    },
    {
      "cell_type": "code",
      "execution_count": 45,
      "metadata": {
        "colab": {
          "base_uri": "https://localhost:8080/"
        },
        "id": "dzmmKbp68ECN",
        "outputId": "0a12a6fd-bd1a-4d5a-f1e8-60581dced5c3"
      },
      "outputs": [
        {
          "output_type": "stream",
          "name": "stdout",
          "text": [
            "len = 274\n"
          ]
        }
      ],
      "source": [
        "# Вооо, теперь всё правильно. Правда потом в чате написали, что нужен был первый вариант...\n",
        "print(\"len =\", result.select(pl.len()).item())\n",
        "\n",
        "# Подработка для студентов\n",
        "del result"
      ]
    },
    {
      "cell_type": "markdown",
      "metadata": {
        "id": "JU0vq96o3JKo"
      },
      "source": [
        "#### 6. [0.5 балла] Найдите курсы по выбору, на которые записывались как студенты 18-го года набора, так и студенты 17-го года."
      ]
    },
    {
      "cell_type": "code",
      "execution_count": 46,
      "metadata": {
        "colab": {
          "base_uri": "https://localhost:8080/"
        },
        "id": "Tc-Pj3Ebm3Y7",
        "outputId": "99ede748-4d69-4538-f878-3fc57840e414"
      },
      "outputs": [
        {
          "output_type": "stream",
          "name": "stdout",
          "text": [
            "Всего пересекающихся курсов: 7\n",
            "Список пересекающихся курсов: Сбор и обработка данных с помощью краудсорсинга, Численные методы, Безопасность компьютерных систем, Принятие решений в условиях риска и неопределённости, Моделирование временных рядов, Statistical Learning Theory, Высокопроизводительные вычисления\n"
          ]
        }
      ],
      "source": [
        "# Видимо имеется в виду без blanded, так как они были только у 17-го года\n",
        "df_mini_17 = df.select(pl.col(\"17_group\", \"fall_1\", \"fall_2\", \"fall_3\", \"spring_1\" ,\"spring_2\", \"spring_3\", \"blended\")).filter(pl.col(\"17_group\") > 0)\n",
        "df_mini_18 = df.select(pl.col(\"18_group\", \"fall_1\", \"fall_2\", \"fall_3\", \"spring_1\" ,\"spring_2\", \"spring_3\")).filter(pl.col(\"18_group\") > 0)\n",
        "\n",
        "# Различных курсов очень мало (явно мнеьше тысячи), поэтому просто воспользуюсь множествами, что не запрещено\n",
        "# Способ конечно колхозный, но что поделать. Зато циклы не использую...\n",
        "\n",
        "unique_17 = set()\n",
        "unique_17.update(sum(df_mini_17.select(pl.col(\"fall_1\")).unique().to_numpy().tolist(), [])) # Тут я не использую numpy, просто в api polars есть только такой способ получить список\n",
        "unique_17.update(sum(df_mini_17.select(pl.col(\"fall_2\")).unique().to_numpy().tolist(), []))\n",
        "unique_17.update(sum(df_mini_17.select(pl.col(\"fall_3\")).unique().to_numpy().tolist(), []))\n",
        "unique_17.update(sum(df_mini_17.select(pl.col(\"spring_1\")).unique().to_numpy().tolist(), []))\n",
        "unique_17.update(sum(df_mini_17.select(pl.col(\"spring_2\")).unique().to_numpy().tolist(), []))\n",
        "unique_17.update(sum(df_mini_17.select(pl.col(\"spring_3\")).unique().to_numpy().tolist(), []))\n",
        "unique_17.update(sum(df_mini_17.select(pl.col(\"blended\")).unique().to_numpy().tolist(), []))\n",
        "\n",
        "unique_18 = set()\n",
        "unique_18.update(sum(df_mini_18.select(pl.col(\"fall_1\")).unique().to_numpy().tolist(), []))\n",
        "unique_18.update(sum(df_mini_18.select(pl.col(\"fall_2\")).unique().to_numpy().tolist(), []))\n",
        "unique_18.update(sum(df_mini_18.select(pl.col(\"fall_3\")).unique().to_numpy().tolist(), []))\n",
        "unique_18.update(sum(df_mini_18.select(pl.col(\"spring_1\")).unique().to_numpy().tolist(), []))\n",
        "unique_18.update(sum(df_mini_18.select(pl.col(\"spring_2\")).unique().to_numpy().tolist(), []))\n",
        "unique_18.update(sum(df_mini_18.select(pl.col(\"spring_3\")).unique().to_numpy().tolist(), []))\n",
        "\n",
        "print(\"Всего пересекающихся курсов:\", len(unique_17.intersection(unique_18)))\n",
        "print(\"Список пересекающихся курсов:\", \", \".join(unique_17.intersection(unique_18)))\n",
        "\n",
        "# Продолжу свою карьеру сборщика мусора\n",
        "\n",
        "del df_mini_17\n",
        "del df_mini_18\n",
        "\n"
      ]
    },
    {
      "cell_type": "markdown",
      "metadata": {
        "id": "NMkajSaI3JKr"
      },
      "source": [
        "Методом исключения найдите курсы, которые предлагались только студентам 18-го года и только студентам 17-го года."
      ]
    },
    {
      "cell_type": "code",
      "execution_count": 47,
      "metadata": {
        "colab": {
          "base_uri": "https://localhost:8080/"
        },
        "id": "enzNaFLP3JKs",
        "outputId": "c073067d-ecf6-4c80-ac24-6839db7f31af"
      },
      "outputs": [
        {
          "output_type": "stream",
          "name": "stdout",
          "text": [
            "Всего уникальных курсов у студентов 18-го года: 10\n",
            "Список уникальных курсов у студентов 18-го года: Машинное обучение 2, Матричные вычисления, Теория баз данных, Компьютерные сети, Язык SQL, Дополнительные главы прикладной статистики, Дискретная оптимизация, Промышленное программирование на языке Java, Анализ данных в бизнесе, Системы баз данных\n",
            "Всего уникальных курсов у студентов 17-го года: 13\n",
            "Список уникальных курсов у студентов 17-го года: Анализ неструктурированных данных, Генеративные модели в машинном обучении, Обучение с подкреплением, Введение в дифференциальную геометрию, Конфликты и кооперация, Проектирование и разработка высоконагруженных сервисов, Компьютерное зрение, Соревновательный анализ данных, Глубинное обучение в обработке звука, Символьные вычисления, Байесовские методы машинного обучения, Методы сжатия и передачи медиаданных, DevOps\n"
          ]
        }
      ],
      "source": [
        "print(\"Всего уникальных курсов у студентов 18-го года:\", len(unique_18 - unique_17))\n",
        "print(\"Список уникальных курсов у студентов 18-го года:\", \", \".join(unique_18 - unique_17))\n",
        "\n",
        "# Тут уже добавлю blended курсы\n",
        "print(\"Всего уникальных курсов у студентов 17-го года:\", len(unique_17 - unique_18))\n",
        "print(\"Список уникальных курсов у студентов 17-го года:\", \", \".join(unique_17 - unique_18)) #"
      ]
    },
    {
      "cell_type": "markdown",
      "metadata": {
        "id": "c5TmcNdI3JKs"
      },
      "source": [
        "### Визуализации"
      ]
    },
    {
      "cell_type": "markdown",
      "metadata": {
        "id": "74juA0bp3JKs"
      },
      "source": [
        "При работе с данными часто неудобно делать какие-то выводы, если смотреть на таблицу и числа в частности, поэтому важно уметь визуализировать данные. Здесь будут описаны ключевые правила оформления графиков для **всех** домашних заданий.\n",
        "\n",
        "У matplotlib, конечно же, есть [документация](https://matplotlib.org/users/index.html) с большим количеством [примеров](https://matplotlib.org/examples/), но для начала достаточно знать про несколько основных типов графиков:\n",
        "- plot — обычный поточечный график, которым можно изображать кривые или отдельные точки;\n",
        "- hist — гистограмма, показывающая распределение некоторой величины;\n",
        "- scatter — график, показывающий взаимосвязь двух величин;\n",
        "- bar — столбцовый график, показывающий взаимосвязь количественной величины от категориальной.\n",
        "\n",
        "В этом задании вы попробуете построить один из них. Не забывайте про базовые принципы построения приличных графиков:\n",
        "- оси должны быть подписаны, причём не слишком мелко;\n",
        "- у графика должно быть название;\n",
        "- если изображено несколько графиков, то необходима поясняющая легенда;\n",
        "- все линии на графиках должны быть чётко видны (нет похожих цветов или цветов, сливающихся с фоном);\n",
        "- если возможно сделать график интерактивным, это обычно того стоит - помогает решить проблемы с читаемостью;\n",
        "- если отображена величина, имеющая очевидный диапазон значений (например, проценты могут быть от 0 до 100), то желательно масштабировать ось на весь диапазон значений (исключением является случай, когда вам необходимо показать малое отличие, которое незаметно в таких масштабах);\n",
        "- сетка на графике помогает оценить значения в точках на глаз, это обычно полезно, поэтому лучше ее отрисовывать;\n",
        "- если распределение на гистограмме имеет тяжёлые хвосты, лучше использовать логарифмическую шкалу.\n",
        "\n",
        "Еще одна билиотека для визуализации: [seaborn](https://jakevdp.github.io/PythonDataScienceHandbook/04.14-visualization-with-seaborn.html). Это настройка над matplotlib, иногда удобнее и красивее делать визуализации через неё.\n",
        "\n",
        "У `polars` уже есть встроенные инструменты для визуализации, в частности интерактивные на базе [hvplot](https://docs.pola.rs/user-guide/misc/visualization/#plotly). Из её преимуществ - хорошая производительность при работе с большими данными, есть поддержка самых популярных видов графиков, но синтаксис не самый удобный"
      ]
    },
    {
      "cell_type": "markdown",
      "metadata": {
        "id": "QkH7afPm3JKs"
      },
      "source": [
        "#### 7. [0.5 балла] Постройте график средних рейтингов по дням получения ответов (bar plot)."
      ]
    },
    {
      "cell_type": "code",
      "execution_count": 48,
      "metadata": {
        "id": "1oLUEC3QYpIR"
      },
      "outputs": [],
      "source": [
        "import plotly.express as px"
      ]
    },
    {
      "cell_type": "code",
      "execution_count": 49,
      "metadata": {
        "colab": {
          "base_uri": "https://localhost:8080/",
          "height": 411
        },
        "id": "CHvDyr7bY-Kb",
        "outputId": "b440df61-8f6c-4b15-e212-846e33dfdbcb"
      },
      "outputs": [
        {
          "output_type": "execute_result",
          "data": {
            "text/plain": [
              "shape: (10, 2)\n",
              "┌─────┬────────────────┐\n",
              "│ day ┆ average_rating │\n",
              "│ --- ┆ ---            │\n",
              "│ i32 ┆ f64            │\n",
              "╞═════╪════════════════╡\n",
              "│ 1   ┆ 1160.277778    │\n",
              "│ 2   ┆ 719.866667     │\n",
              "│ 3   ┆ 736.4          │\n",
              "│ 4   ┆ 915.027027     │\n",
              "│ 5   ┆ 827.352679     │\n",
              "│ 6   ┆ 761.142857     │\n",
              "│ 7   ┆ 689.5          │\n",
              "│ 8   ┆ 584.0          │\n",
              "│ 10  ┆ 1080.5         │\n",
              "│ 11  ┆ 670.5          │\n",
              "└─────┴────────────────┘"
            ],
            "text/html": [
              "<div><style>\n",
              ".dataframe > thead > tr,\n",
              ".dataframe > tbody > tr {\n",
              "  text-align: right;\n",
              "  white-space: pre-wrap;\n",
              "}\n",
              "</style>\n",
              "<small>shape: (10, 2)</small><table border=\"1\" class=\"dataframe\"><thead><tr><th>day</th><th>average_rating</th></tr><tr><td>i32</td><td>f64</td></tr></thead><tbody><tr><td>1</td><td>1160.277778</td></tr><tr><td>2</td><td>719.866667</td></tr><tr><td>3</td><td>736.4</td></tr><tr><td>4</td><td>915.027027</td></tr><tr><td>5</td><td>827.352679</td></tr><tr><td>6</td><td>761.142857</td></tr><tr><td>7</td><td>689.5</td></tr><tr><td>8</td><td>584.0</td></tr><tr><td>10</td><td>1080.5</td></tr><tr><td>11</td><td>670.5</td></tr></tbody></table></div>"
            ]
          },
          "metadata": {},
          "execution_count": 49
        }
      ],
      "source": [
        "# Создаю временный столбец дня и группирую по нему\n",
        "day_to_avg_rating = df.with_columns(\n",
        "    pl.col(\"timestamp\").dt.epoch(time_unit=\"d\").alias(\"day\")\n",
        ").group_by(\n",
        "    pl.col(\"day\")\n",
        ").agg(\n",
        "    pl.col(\"rating\").mean().alias(\"average_rating\")\n",
        ").sort(\n",
        "    pl.col(\"day\")\n",
        ").select( # Сделаю так, чтобы отсчёт начинался с первого дня, а не рождества христова. Первый день - 18396. Вычту 18395\n",
        "    pl.col(\"day\") - 18395,\n",
        "    pl.col(\"average_rating\")\n",
        ")\n",
        "day_to_avg_rating"
      ]
    },
    {
      "cell_type": "code",
      "execution_count": 50,
      "metadata": {
        "colab": {
          "base_uri": "https://localhost:8080/",
          "height": 542
        },
        "id": "DUiHhdEAcfrq",
        "outputId": "3d46370d-d937-412d-a2da-906aacde39c2"
      },
      "outputs": [
        {
          "output_type": "display_data",
          "data": {
            "text/html": [
              "<html>\n",
              "<head><meta charset=\"utf-8\" /></head>\n",
              "<body>\n",
              "    <div>            <script src=\"https://cdnjs.cloudflare.com/ajax/libs/mathjax/2.7.5/MathJax.js?config=TeX-AMS-MML_SVG\"></script><script type=\"text/javascript\">if (window.MathJax && window.MathJax.Hub && window.MathJax.Hub.Config) {window.MathJax.Hub.Config({SVG: {font: \"STIX-Web\"}});}</script>                <script type=\"text/javascript\">window.PlotlyConfig = {MathJaxConfig: 'local'};</script>\n",
              "        <script charset=\"utf-8\" src=\"https://cdn.plot.ly/plotly-2.35.2.min.js\"></script>                <div id=\"4241fc18-fe83-46c2-bb80-48975584ae0a\" class=\"plotly-graph-div\" style=\"height:525px; width:650px;\"></div>            <script type=\"text/javascript\">                                    window.PLOTLYENV=window.PLOTLYENV || {};                                    if (document.getElementById(\"4241fc18-fe83-46c2-bb80-48975584ae0a\")) {                    Plotly.newPlot(                        \"4241fc18-fe83-46c2-bb80-48975584ae0a\",                        [{\"alignmentgroup\":\"True\",\"hovertemplate\":\"day=%{x}\\u003cbr\\u003eaverage_rating=%{y}\\u003cextra\\u003e\\u003c\\u002fextra\\u003e\",\"legendgroup\":\"\",\"marker\":{\"color\":\"#636efa\",\"pattern\":{\"shape\":\"\"}},\"name\":\"\",\"offsetgroup\":\"\",\"orientation\":\"v\",\"showlegend\":false,\"textposition\":\"auto\",\"x\":[1,2,3,4,5,6,7,8,10,11],\"xaxis\":\"x\",\"y\":[1160.2777777777778,719.8666666666667,736.4,915.027027027027,827.3526785714286,761.1428571428571,689.5,584.0,1080.5,670.5],\"yaxis\":\"y\",\"type\":\"bar\"}],                        {\"template\":{\"data\":{\"histogram2dcontour\":[{\"type\":\"histogram2dcontour\",\"colorbar\":{\"outlinewidth\":0,\"ticks\":\"\"},\"colorscale\":[[0.0,\"#0d0887\"],[0.1111111111111111,\"#46039f\"],[0.2222222222222222,\"#7201a8\"],[0.3333333333333333,\"#9c179e\"],[0.4444444444444444,\"#bd3786\"],[0.5555555555555556,\"#d8576b\"],[0.6666666666666666,\"#ed7953\"],[0.7777777777777778,\"#fb9f3a\"],[0.8888888888888888,\"#fdca26\"],[1.0,\"#f0f921\"]]}],\"choropleth\":[{\"type\":\"choropleth\",\"colorbar\":{\"outlinewidth\":0,\"ticks\":\"\"}}],\"histogram2d\":[{\"type\":\"histogram2d\",\"colorbar\":{\"outlinewidth\":0,\"ticks\":\"\"},\"colorscale\":[[0.0,\"#0d0887\"],[0.1111111111111111,\"#46039f\"],[0.2222222222222222,\"#7201a8\"],[0.3333333333333333,\"#9c179e\"],[0.4444444444444444,\"#bd3786\"],[0.5555555555555556,\"#d8576b\"],[0.6666666666666666,\"#ed7953\"],[0.7777777777777778,\"#fb9f3a\"],[0.8888888888888888,\"#fdca26\"],[1.0,\"#f0f921\"]]}],\"heatmap\":[{\"type\":\"heatmap\",\"colorbar\":{\"outlinewidth\":0,\"ticks\":\"\"},\"colorscale\":[[0.0,\"#0d0887\"],[0.1111111111111111,\"#46039f\"],[0.2222222222222222,\"#7201a8\"],[0.3333333333333333,\"#9c179e\"],[0.4444444444444444,\"#bd3786\"],[0.5555555555555556,\"#d8576b\"],[0.6666666666666666,\"#ed7953\"],[0.7777777777777778,\"#fb9f3a\"],[0.8888888888888888,\"#fdca26\"],[1.0,\"#f0f921\"]]}],\"heatmapgl\":[{\"type\":\"heatmapgl\",\"colorbar\":{\"outlinewidth\":0,\"ticks\":\"\"},\"colorscale\":[[0.0,\"#0d0887\"],[0.1111111111111111,\"#46039f\"],[0.2222222222222222,\"#7201a8\"],[0.3333333333333333,\"#9c179e\"],[0.4444444444444444,\"#bd3786\"],[0.5555555555555556,\"#d8576b\"],[0.6666666666666666,\"#ed7953\"],[0.7777777777777778,\"#fb9f3a\"],[0.8888888888888888,\"#fdca26\"],[1.0,\"#f0f921\"]]}],\"contourcarpet\":[{\"type\":\"contourcarpet\",\"colorbar\":{\"outlinewidth\":0,\"ticks\":\"\"}}],\"contour\":[{\"type\":\"contour\",\"colorbar\":{\"outlinewidth\":0,\"ticks\":\"\"},\"colorscale\":[[0.0,\"#0d0887\"],[0.1111111111111111,\"#46039f\"],[0.2222222222222222,\"#7201a8\"],[0.3333333333333333,\"#9c179e\"],[0.4444444444444444,\"#bd3786\"],[0.5555555555555556,\"#d8576b\"],[0.6666666666666666,\"#ed7953\"],[0.7777777777777778,\"#fb9f3a\"],[0.8888888888888888,\"#fdca26\"],[1.0,\"#f0f921\"]]}],\"surface\":[{\"type\":\"surface\",\"colorbar\":{\"outlinewidth\":0,\"ticks\":\"\"},\"colorscale\":[[0.0,\"#0d0887\"],[0.1111111111111111,\"#46039f\"],[0.2222222222222222,\"#7201a8\"],[0.3333333333333333,\"#9c179e\"],[0.4444444444444444,\"#bd3786\"],[0.5555555555555556,\"#d8576b\"],[0.6666666666666666,\"#ed7953\"],[0.7777777777777778,\"#fb9f3a\"],[0.8888888888888888,\"#fdca26\"],[1.0,\"#f0f921\"]]}],\"mesh3d\":[{\"type\":\"mesh3d\",\"colorbar\":{\"outlinewidth\":0,\"ticks\":\"\"}}],\"scatter\":[{\"fillpattern\":{\"fillmode\":\"overlay\",\"size\":10,\"solidity\":0.2},\"type\":\"scatter\"}],\"parcoords\":[{\"type\":\"parcoords\",\"line\":{\"colorbar\":{\"outlinewidth\":0,\"ticks\":\"\"}}}],\"scatterpolargl\":[{\"type\":\"scatterpolargl\",\"marker\":{\"colorbar\":{\"outlinewidth\":0,\"ticks\":\"\"}}}],\"bar\":[{\"error_x\":{\"color\":\"#2a3f5f\"},\"error_y\":{\"color\":\"#2a3f5f\"},\"marker\":{\"line\":{\"color\":\"#E5ECF6\",\"width\":0.5},\"pattern\":{\"fillmode\":\"overlay\",\"size\":10,\"solidity\":0.2}},\"type\":\"bar\"}],\"scattergeo\":[{\"type\":\"scattergeo\",\"marker\":{\"colorbar\":{\"outlinewidth\":0,\"ticks\":\"\"}}}],\"scatterpolar\":[{\"type\":\"scatterpolar\",\"marker\":{\"colorbar\":{\"outlinewidth\":0,\"ticks\":\"\"}}}],\"histogram\":[{\"marker\":{\"pattern\":{\"fillmode\":\"overlay\",\"size\":10,\"solidity\":0.2}},\"type\":\"histogram\"}],\"scattergl\":[{\"type\":\"scattergl\",\"marker\":{\"colorbar\":{\"outlinewidth\":0,\"ticks\":\"\"}}}],\"scatter3d\":[{\"type\":\"scatter3d\",\"line\":{\"colorbar\":{\"outlinewidth\":0,\"ticks\":\"\"}},\"marker\":{\"colorbar\":{\"outlinewidth\":0,\"ticks\":\"\"}}}],\"scattermapbox\":[{\"type\":\"scattermapbox\",\"marker\":{\"colorbar\":{\"outlinewidth\":0,\"ticks\":\"\"}}}],\"scatterternary\":[{\"type\":\"scatterternary\",\"marker\":{\"colorbar\":{\"outlinewidth\":0,\"ticks\":\"\"}}}],\"scattercarpet\":[{\"type\":\"scattercarpet\",\"marker\":{\"colorbar\":{\"outlinewidth\":0,\"ticks\":\"\"}}}],\"carpet\":[{\"aaxis\":{\"endlinecolor\":\"#2a3f5f\",\"gridcolor\":\"white\",\"linecolor\":\"white\",\"minorgridcolor\":\"white\",\"startlinecolor\":\"#2a3f5f\"},\"baxis\":{\"endlinecolor\":\"#2a3f5f\",\"gridcolor\":\"white\",\"linecolor\":\"white\",\"minorgridcolor\":\"white\",\"startlinecolor\":\"#2a3f5f\"},\"type\":\"carpet\"}],\"table\":[{\"cells\":{\"fill\":{\"color\":\"#EBF0F8\"},\"line\":{\"color\":\"white\"}},\"header\":{\"fill\":{\"color\":\"#C8D4E3\"},\"line\":{\"color\":\"white\"}},\"type\":\"table\"}],\"barpolar\":[{\"marker\":{\"line\":{\"color\":\"#E5ECF6\",\"width\":0.5},\"pattern\":{\"fillmode\":\"overlay\",\"size\":10,\"solidity\":0.2}},\"type\":\"barpolar\"}],\"pie\":[{\"automargin\":true,\"type\":\"pie\"}]},\"layout\":{\"autotypenumbers\":\"strict\",\"colorway\":[\"#636efa\",\"#EF553B\",\"#00cc96\",\"#ab63fa\",\"#FFA15A\",\"#19d3f3\",\"#FF6692\",\"#B6E880\",\"#FF97FF\",\"#FECB52\"],\"font\":{\"color\":\"#2a3f5f\"},\"hovermode\":\"closest\",\"hoverlabel\":{\"align\":\"left\"},\"paper_bgcolor\":\"white\",\"plot_bgcolor\":\"#E5ECF6\",\"polar\":{\"bgcolor\":\"#E5ECF6\",\"angularaxis\":{\"gridcolor\":\"white\",\"linecolor\":\"white\",\"ticks\":\"\"},\"radialaxis\":{\"gridcolor\":\"white\",\"linecolor\":\"white\",\"ticks\":\"\"}},\"ternary\":{\"bgcolor\":\"#E5ECF6\",\"aaxis\":{\"gridcolor\":\"white\",\"linecolor\":\"white\",\"ticks\":\"\"},\"baxis\":{\"gridcolor\":\"white\",\"linecolor\":\"white\",\"ticks\":\"\"},\"caxis\":{\"gridcolor\":\"white\",\"linecolor\":\"white\",\"ticks\":\"\"}},\"coloraxis\":{\"colorbar\":{\"outlinewidth\":0,\"ticks\":\"\"}},\"colorscale\":{\"sequential\":[[0.0,\"#0d0887\"],[0.1111111111111111,\"#46039f\"],[0.2222222222222222,\"#7201a8\"],[0.3333333333333333,\"#9c179e\"],[0.4444444444444444,\"#bd3786\"],[0.5555555555555556,\"#d8576b\"],[0.6666666666666666,\"#ed7953\"],[0.7777777777777778,\"#fb9f3a\"],[0.8888888888888888,\"#fdca26\"],[1.0,\"#f0f921\"]],\"sequentialminus\":[[0.0,\"#0d0887\"],[0.1111111111111111,\"#46039f\"],[0.2222222222222222,\"#7201a8\"],[0.3333333333333333,\"#9c179e\"],[0.4444444444444444,\"#bd3786\"],[0.5555555555555556,\"#d8576b\"],[0.6666666666666666,\"#ed7953\"],[0.7777777777777778,\"#fb9f3a\"],[0.8888888888888888,\"#fdca26\"],[1.0,\"#f0f921\"]],\"diverging\":[[0,\"#8e0152\"],[0.1,\"#c51b7d\"],[0.2,\"#de77ae\"],[0.3,\"#f1b6da\"],[0.4,\"#fde0ef\"],[0.5,\"#f7f7f7\"],[0.6,\"#e6f5d0\"],[0.7,\"#b8e186\"],[0.8,\"#7fbc41\"],[0.9,\"#4d9221\"],[1,\"#276419\"]]},\"xaxis\":{\"gridcolor\":\"white\",\"linecolor\":\"white\",\"ticks\":\"\",\"title\":{\"standoff\":15},\"zerolinecolor\":\"white\",\"automargin\":true,\"zerolinewidth\":2},\"yaxis\":{\"gridcolor\":\"white\",\"linecolor\":\"white\",\"ticks\":\"\",\"title\":{\"standoff\":15},\"zerolinecolor\":\"white\",\"automargin\":true,\"zerolinewidth\":2},\"scene\":{\"xaxis\":{\"backgroundcolor\":\"#E5ECF6\",\"gridcolor\":\"white\",\"linecolor\":\"white\",\"showbackground\":true,\"ticks\":\"\",\"zerolinecolor\":\"white\",\"gridwidth\":2},\"yaxis\":{\"backgroundcolor\":\"#E5ECF6\",\"gridcolor\":\"white\",\"linecolor\":\"white\",\"showbackground\":true,\"ticks\":\"\",\"zerolinecolor\":\"white\",\"gridwidth\":2},\"zaxis\":{\"backgroundcolor\":\"#E5ECF6\",\"gridcolor\":\"white\",\"linecolor\":\"white\",\"showbackground\":true,\"ticks\":\"\",\"zerolinecolor\":\"white\",\"gridwidth\":2}},\"shapedefaults\":{\"line\":{\"color\":\"#2a3f5f\"}},\"annotationdefaults\":{\"arrowcolor\":\"#2a3f5f\",\"arrowhead\":0,\"arrowwidth\":1},\"geo\":{\"bgcolor\":\"white\",\"landcolor\":\"#E5ECF6\",\"subunitcolor\":\"white\",\"showland\":true,\"showlakes\":true,\"lakecolor\":\"white\"},\"title\":{\"x\":0.05},\"mapbox\":{\"style\":\"light\"}}},\"xaxis\":{\"anchor\":\"y\",\"domain\":[0.0,1.0],\"title\":{\"text\":\"day\"}},\"yaxis\":{\"anchor\":\"x\",\"domain\":[0.0,1.0],\"title\":{\"text\":\"average_rating\"}},\"legend\":{\"tracegroupgap\":0},\"margin\":{\"t\":60},\"barmode\":\"relative\",\"width\":650},                        {\"responsive\": true}                    ).then(function(){\n",
              "                            \n",
              "var gd = document.getElementById('4241fc18-fe83-46c2-bb80-48975584ae0a');\n",
              "var x = new MutationObserver(function (mutations, observer) {{\n",
              "        var display = window.getComputedStyle(gd).display;\n",
              "        if (!display || display === 'none') {{\n",
              "            console.log([gd, 'removed!']);\n",
              "            Plotly.purge(gd);\n",
              "            observer.disconnect();\n",
              "        }}\n",
              "}});\n",
              "\n",
              "// Listen for the removal of the full notebook cells\n",
              "var notebookContainer = gd.closest('#notebook-container');\n",
              "if (notebookContainer) {{\n",
              "    x.observe(notebookContainer, {childList: true});\n",
              "}}\n",
              "\n",
              "// Listen for the clearing of the current output cell\n",
              "var outputEl = gd.closest('.output');\n",
              "if (outputEl) {{\n",
              "    x.observe(outputEl, {childList: true});\n",
              "}}\n",
              "\n",
              "                        })                };                            </script>        </div>\n",
              "</body>\n",
              "</html>"
            ]
          },
          "metadata": {}
        }
      ],
      "source": [
        "bar = px.bar(\n",
        "    day_to_avg_rating,\n",
        "    x=\"day\",\n",
        "    y=\"average_rating\",\n",
        "    width=650,\n",
        ") # Как видно из графика, лучшие студенты заполнили в первый день и в 10\n",
        "bar"
      ]
    },
    {
      "cell_type": "markdown",
      "metadata": {
        "id": "bZB_kTE63JKs"
      },
      "source": [
        "Сохраните график в формате pdf (так он останется векторизованным) или html (тогда останется интерактивным)"
      ]
    },
    {
      "cell_type": "code",
      "execution_count": 51,
      "metadata": {
        "id": "35bHvSsV3JKt"
      },
      "outputs": [],
      "source": [
        "# html\n",
        "bar.write_html(\"day_to_avg_rating.html\")"
      ]
    },
    {
      "cell_type": "markdown",
      "metadata": {
        "id": "EvWtDBRp3JKt"
      },
      "source": [
        "### 2. Распределение студентов по курсам."
      ]
    },
    {
      "cell_type": "markdown",
      "metadata": {
        "id": "zTPksBGL3JKt"
      },
      "source": [
        "<span style=\"color:red\">!!!ВНИМАТЕЛЬНО ИЗУЧИТЕ ТЕКСТ НИЖЕ!!!</span>.\n",
        "\n",
        "<span style=\"color:orange\">Если во время выполнения заданий у вас вознинут вопросы -- еще раз перечитайте текст целиком, скорее всего ответы уже содержатся в нем.</span>\n",
        "\n",
        "Теперь вам нужно распределить студентов по осенним курсам по выбору, учитывая их предпочтения."
      ]
    },
    {
      "cell_type": "markdown",
      "metadata": {
        "id": "S5lk67UA3JKt"
      },
      "source": [
        "## 📌 **Алгоритм распределения студентов по курсам**:\n",
        "1. По умолчанию на каждой дисциплине по выбору у 3 и 4 курсов может учиться 1 группа (до 30 студентов). Исключения описаны ниже. На blended-дисциплинах для четверокурсников количество мест не ограничено.\n",
        "2. Проводится первая волна отбора. Для каждой дисциплины формируется список тех, кто указал её первым приоритетом (если студент должен выбрать два курса по выбору, то для него дисциплины, которые он указал первым и вторым приоритетом, рассматриваются как дисциплины первого приоритета). Если желающих больше, чем мест, то выбирается топ по перцентилю рейтинга.\n",
        "3. На дисциплинах, где остались места после первой волны, формируются списки тех, кто выбрал их вторым приоритетом, и места заполняются лучшими по перцентили рейтинга студентами. После этого проводится такая же процедура для дисциплин третьего приоритета.\n",
        "4. Если студент не попал на необходимое количество курсов по итогам трёх волн, с ним связывается учебный офис и решает вопрос в индивидуальном порядке."
      ]
    },
    {
      "cell_type": "markdown",
      "metadata": {
        "id": "Ux4yMPan3JKu"
      },
      "source": [
        "## ☝️ **Обращаем ваше внимание на следующие детали:**\n",
        "\n",
        "- Конкурс на каждый курс общий для 3-го и 4-го курса\n",
        "\n",
        "- По умолчанию студент выбирает один осенний и один весенний курс по выбору, а также четверокурсники выбирают один blended-курс. Студенты групп 17-го года специализаций МОП и ТИ выбирают по 2 осенних и 2 весенних курса по выбору, также студенты групп 18' специализации МИ выбирают 2 осенних курса. <i>Для студентов, которые выбирают 2 курса (например, осенних) первый приоритет — <code>fall_1</code> и <code>fall_2</code>, второй приоритет — <code>fall_3</code>. Такие студенты участвуют только в двух волнах отбора</i>.\n",
        "\n",
        "- Студенты специализации МОП не могут выбрать весенним курсом по выбору Машинное обучение 2. **Если студент специализации МОП выбрал Машинное обучение 2, то его приоритеты сдвигаются.** Из-за совпадений первого и второго курса по выбору двигать приоритеты не надо.\n",
        "\n",
        "- Blended-курсы не трогайте, по ним не надо распределять, на другие курсы они никак не влияют.\n",
        "\n",
        "- Заведомо известно, что в процессе распределения не возникнет ситуации, когда на одно место претендуют студенты с одинаковым перцентилем.\n",
        "\n",
        "- Постарайтесь воздержаться от использования циклов там, где это возможно. <i>Допустимо итерироваться по <b>курсам</b>, на которые проводится отбор, и по <b>волнам</b> отбора. Если вы придумаете, как обойтись и без этих циклов, то на усмотрение проверяющего могут быть добавлены бонусные баллы. <b>Дублирование кода не признается успешным избавлением от циклов</b></i>\n",
        "\n",
        "- На выходе ожидается файл res_fall.csv с результатами распределения на осенние курсы по выбору. Файл должен быть следующего формата:\n",
        "\n",
        "    * три столбца: ID, course1, course2\n",
        "    \n",
        "    * Если студент не попал на курс, но должен был, то вместо названия курса в ячейке должна быть строка \"???\"\n",
        "    \n",
        "    * Если студент должен выбрать только один курс, то в колонке course2 для него должна стоять строка \"-\"\n",
        "\n",
        "    * Если студент должен выбрать два курса по выбору, то порядок в колонках course1 и course2 не важен.\n",
        "    \n",
        "    * Формат csv: для сохранения воспользуйтесь `df.write_csv('solution.csv')`"
      ]
    },
    {
      "cell_type": "markdown",
      "metadata": {
        "id": "q4b6w14cS_rW"
      },
      "source": [
        "Для работы вам могут понадобиться следующие данные:\n",
        "\n",
        "- Результаты опроса (вы уже использовали этот файл в первой части задания, но на всякий случай ссылка: https://www.dropbox.com/s/f4rm8sjc3v99p0m/_end_seminar.xlsx?dl=0)\n",
        "\n",
        "- Соответствие номеров групп специализациям:\n",
        "\n",
        "    * 171, 172 - МОП; 173 - ТИ; 174 — АДИС; 175, 176 — РС; 177 — АПР\n",
        "    \n",
        "    * У студентов 18-го года номера групп соответствуют номерам до распределения по специализациям. Это означает, что по номеру группы 18* нельзя однозначно определить специализацию студента. При этом в рамках распределения важно знать информацию только о двух из них: МОП и МИ. Эти знание можно получить из колонок 'is_ml_student ' и 'is_mi' соответственно.\n",
        "\n",
        "- Ограничения по количеству мест на курсах по выбору:\n",
        "\n",
        "    * Осенние: везде 30 мест, кроме Statistical Learning Theory (60 мест), Высокопроизводительных вычислений (60 мест), Анализа неструктурированных данных ($\\infty$ мест)\n",
        "\n",
        "    * Весенние: везде 30 мест, кроме Обучения с подкреплением (60 мест), Анализа данных в бизнесе (60 мест).\n",
        "\n",
        "\n",
        "Кстати, убедитесь, что в данных больше нет пропусков и повторных записей и сериализуйте датафрейм"
      ]
    },
    {
      "cell_type": "markdown",
      "metadata": {
        "id": "vOVE6Do13JKu"
      },
      "source": [
        "#### 0. Проверка\n",
        "\n",
        "Для начала давайте убедимся, что вы успешно выполнили задания первой части и проверим ваши данные на наличие пропусков и повторов:"
      ]
    },
    {
      "cell_type": "code",
      "execution_count": 52,
      "metadata": {
        "id": "tNeCa71zHEe8"
      },
      "outputs": [],
      "source": [
        "df = df # collect я убрал раньше. Оказалось, так как некоторые задания не выполнялись с ним, даже с аргументом streaming=True (я всё правильно делал...)\n",
        "\n",
        "assert df.shape[0] == 347, \"В таблице остались повторы или потеряны данные\"\n",
        "assert df.null_count().sum_horizontal().item() == 0, \"В таблице остались пропуски\""
      ]
    },
    {
      "cell_type": "markdown",
      "metadata": {
        "id": "H7qZDN0y3JKu"
      },
      "source": [
        "Если вы не получили AssertionError, то можете продолжать."
      ]
    },
    {
      "cell_type": "markdown",
      "metadata": {
        "id": "y81hqcoZ3JKu"
      },
      "source": [
        "#### 1. [1 балл] Создайте новый признак, обозначающий, сколько осенних курсов должен выбрать студент\n",
        "\n",
        "В этом вам может помочь информация о специализации и группе студента."
      ]
    },
    {
      "cell_type": "code",
      "execution_count": 53,
      "metadata": {
        "colab": {
          "base_uri": "https://localhost:8080/",
          "height": 862
        },
        "id": "ThOnhPTs3JKv",
        "outputId": "9348eaec-6424-45b0-bb1d-e7ada067ca58"
      },
      "outputs": [
        {
          "output_type": "execute_result",
          "data": {
            "text/plain": [
              "shape: (347, 17)\n",
              "┌────────────┬────────────┬────────┬──────────┬───┬──────────┬────────────┬────────────┬───────────┐\n",
              "│ id         ┆ timestamp  ┆ rating ┆ 18_group ┆ … ┆ 17_group ┆ blended    ┆ is_ml_stud ┆ fall_cour │\n",
              "│ ---        ┆ ---        ┆ ---    ┆ ---      ┆   ┆ ---      ┆ ---        ┆ ent        ┆ ses_amoun │\n",
              "│ str        ┆ datetime[μ ┆ i64    ┆ i64      ┆   ┆ i64      ┆ str        ┆ ---        ┆ t         │\n",
              "│            ┆ s]         ┆        ┆          ┆   ┆          ┆            ┆ bool       ┆ ---       │\n",
              "│            ┆            ┆        ┆          ┆   ┆          ┆            ┆            ┆ i32       │\n",
              "╞════════════╪════════════╪════════╪══════════╪═══╪══════════╪════════════╪════════════╪═══════════╡\n",
              "│ 5a733a19a3 ┆ 2020-05-18 ┆ 1207   ┆ 0        ┆ … ┆ 175      ┆ DevOps     ┆ false      ┆ 1         │\n",
              "│ bdad95c1b5 ┆ 21:40:08   ┆        ┆          ┆   ┆          ┆            ┆            ┆           │\n",
              "│ eac59c5b76 ┆            ┆        ┆          ┆   ┆          ┆            ┆            ┆           │\n",
              "│ …          ┆            ┆        ┆          ┆   ┆          ┆            ┆            ┆           │\n",
              "│ d82c2df25b ┆ 2020-05-15 ┆ 612    ┆ 181      ┆ … ┆ 0        ┆            ┆ false      ┆ 1         │\n",
              "│ 8b36cd6550 ┆ 22:58:10   ┆        ┆          ┆   ┆          ┆            ┆            ┆           │\n",
              "│ 77b4a885e1 ┆            ┆        ┆          ┆   ┆          ┆            ┆            ┆           │\n",
              "│ …          ┆            ┆        ┆          ┆   ┆          ┆            ┆            ┆           │\n",
              "│ d37fe725a8 ┆ 2020-05-16 ┆ 748    ┆ 184      ┆ … ┆ 0        ┆            ┆ false      ┆ 1         │\n",
              "│ ee1d1b2634 ┆ 21:43:04   ┆        ┆          ┆   ┆          ┆            ┆            ┆           │\n",
              "│ 63baf7560f ┆            ┆        ┆          ┆   ┆          ┆            ┆            ┆           │\n",
              "│ …          ┆            ┆        ┆          ┆   ┆          ┆            ┆            ┆           │\n",
              "│ f3cc62faba ┆ 2020-05-18 ┆ 742    ┆ 182      ┆ … ┆ 0        ┆            ┆ true       ┆ 1         │\n",
              "│ a597e8fe0b ┆ 21:17:01   ┆        ┆          ┆   ┆          ┆            ┆            ┆           │\n",
              "│ 20ac2e6f46 ┆            ┆        ┆          ┆   ┆          ┆            ┆            ┆           │\n",
              "│ …          ┆            ┆        ┆          ┆   ┆          ┆            ┆            ┆           │\n",
              "│ cef2463248 ┆ 2020-05-18 ┆ 1095   ┆ 0        ┆ … ┆ 172      ┆ Соревноват ┆ false      ┆ 2         │\n",
              "│ 9091cb8c08 ┆ 23:54:25   ┆        ┆          ┆   ┆          ┆ ельный     ┆            ┆           │\n",
              "│ 5688b7d78d ┆            ┆        ┆          ┆   ┆          ┆ анализ     ┆            ┆           │\n",
              "│ …          ┆            ┆        ┆          ┆   ┆          ┆ данных     ┆            ┆           │\n",
              "│ …          ┆ …          ┆ …      ┆ …        ┆ … ┆ …        ┆ …          ┆ …          ┆ …         │\n",
              "│ e83471de89 ┆ 2020-05-18 ┆ 661    ┆ 187      ┆ … ┆ 0        ┆            ┆ false      ┆ 1         │\n",
              "│ 76e4fcfccf ┆ 21:26:52   ┆        ┆          ┆   ┆          ┆            ┆            ┆           │\n",
              "│ 4ef417f071 ┆            ┆        ┆          ┆   ┆          ┆            ┆            ┆           │\n",
              "│ …          ┆            ┆        ┆          ┆   ┆          ┆            ┆            ┆           │\n",
              "│ 5daee1bd98 ┆ 2020-05-16 ┆ 593    ┆ 182      ┆ … ┆ 0        ┆            ┆ true       ┆ 1         │\n",
              "│ 559bb2c523 ┆ 13:02:24   ┆        ┆          ┆   ┆          ┆            ┆            ┆           │\n",
              "│ 73e4169422 ┆            ┆        ┆          ┆   ┆          ┆            ┆            ┆           │\n",
              "│ …          ┆            ┆        ┆          ┆   ┆          ┆            ┆            ┆           │\n",
              "│ 73fc0f1b30 ┆ 2020-05-18 ┆ 643    ┆ 183      ┆ … ┆ 0        ┆            ┆ false      ┆ 1         │\n",
              "│ 0e6e49167b ┆ 22:48:12   ┆        ┆          ┆   ┆          ┆            ┆            ┆           │\n",
              "│ 5f771586fe ┆            ┆        ┆          ┆   ┆          ┆            ┆            ┆           │\n",
              "│ …          ┆            ┆        ┆          ┆   ┆          ┆            ┆            ┆           │\n",
              "│ 00b40fe7db ┆ 2020-05-18 ┆ 542    ┆ 187      ┆ … ┆ 0        ┆            ┆ false      ┆ 1         │\n",
              "│ fd23e5daba ┆ 22:08:11   ┆        ┆          ┆   ┆          ┆            ┆            ┆           │\n",
              "│ 7652445094 ┆            ┆        ┆          ┆   ┆          ┆            ┆            ┆           │\n",
              "│ …          ┆            ┆        ┆          ┆   ┆          ┆            ┆            ┆           │\n",
              "│ 22eda17f96 ┆ 2020-05-18 ┆ 1198   ┆ 0        ┆ … ┆ 174      ┆ DevOps     ┆ false      ┆ 1         │\n",
              "│ bbf2d0fb85 ┆ 22:02:44   ┆        ┆          ┆   ┆          ┆            ┆            ┆           │\n",
              "│ 7453e61011 ┆            ┆        ┆          ┆   ┆          ┆            ┆            ┆           │\n",
              "│ …          ┆            ┆        ┆          ┆   ┆          ┆            ┆            ┆           │\n",
              "└────────────┴────────────┴────────┴──────────┴───┴──────────┴────────────┴────────────┴───────────┘"
            ],
            "text/html": [
              "<div><style>\n",
              ".dataframe > thead > tr,\n",
              ".dataframe > tbody > tr {\n",
              "  text-align: right;\n",
              "  white-space: pre-wrap;\n",
              "}\n",
              "</style>\n",
              "<small>shape: (347, 17)</small><table border=\"1\" class=\"dataframe\"><thead><tr><th>id</th><th>timestamp</th><th>rating</th><th>18_group</th><th>is_mi</th><th>fall_1</th><th>fall_2</th><th>fall_3</th><th>spring_1</th><th>spring_2</th><th>spring_3</th><th>is_first_time</th><th>percentile</th><th>17_group</th><th>blended</th><th>is_ml_student</th><th>fall_courses_amount</th></tr><tr><td>str</td><td>datetime[μs]</td><td>i64</td><td>i64</td><td>bool</td><td>str</td><td>str</td><td>str</td><td>str</td><td>str</td><td>str</td><td>bool</td><td>f64</td><td>i64</td><td>str</td><td>bool</td><td>i32</td></tr></thead><tbody><tr><td>&quot;5a733a19a3bdad95c1b5eac59c5b76…</td><td>2020-05-18 21:40:08</td><td>1207</td><td>0</td><td>false</td><td>&quot;Сбор и обработка данных с помо…</td><td>&quot;Байесовские методы машинного о…</td><td>&quot;Глубинное обучение в обработке…</td><td>&quot;Проектирование и разработка вы…</td><td>&quot;Компьютерное зрение&quot;</td><td>&quot;Генеративные модели в машинном…</td><td>true</td><td>0.275362</td><td>175</td><td>&quot;DevOps&quot;</td><td>false</td><td>1</td></tr><tr><td>&quot;d82c2df25b8b36cd655077b4a885e1…</td><td>2020-05-15 22:58:10</td><td>612</td><td>181</td><td>false</td><td>&quot;Теория баз данных&quot;</td><td>&quot;Безопасность компьютерных сист…</td><td>&quot;Язык SQL&quot;</td><td>&quot;Промышленное программирование …</td><td>&quot;Компьютерные сети&quot;</td><td>&quot;Дискретная оптимизация&quot;</td><td>true</td><td>0.596413</td><td>0</td><td>&quot;&quot;</td><td>false</td><td>1</td></tr><tr><td>&quot;d37fe725a8ee1d1b263463baf7560f…</td><td>2020-05-16 21:43:04</td><td>748</td><td>184</td><td>false</td><td>&quot;Безопасность компьютерных сист…</td><td>&quot;Теория баз данных&quot;</td><td>&quot;Высокопроизводительные вычисле…</td><td>&quot;Промышленное программирование …</td><td>&quot;Компьютерные сети&quot;</td><td>&quot;Дискретная оптимизация&quot;</td><td>true</td><td>0.053812</td><td>0</td><td>&quot;&quot;</td><td>false</td><td>1</td></tr><tr><td>&quot;f3cc62fabaa597e8fe0b20ac2e6f46…</td><td>2020-05-18 21:17:01</td><td>742</td><td>182</td><td>false</td><td>&quot;Безопасность компьютерных сист…</td><td>&quot;Язык SQL&quot;</td><td>&quot;Теория баз данных&quot;</td><td>&quot;Промышленное программирование …</td><td>&quot;Дискретная оптимизация&quot;</td><td>&quot;Компьютерные сети&quot;</td><td>true</td><td>0.058296</td><td>0</td><td>&quot;&quot;</td><td>true</td><td>1</td></tr><tr><td>&quot;cef24632489091cb8c085688b7d78d…</td><td>2020-05-18 23:54:25</td><td>1095</td><td>0</td><td>false</td><td>&quot;Глубинное обучение в обработке…</td><td>&quot;Сбор и обработка данных с помо…</td><td>&quot;Анализ неструктурированных дан…</td><td>&quot;Обучение с подкреплением&quot;</td><td>&quot;Генеративные модели в машинном…</td><td>&quot;Компьютерное зрение&quot;</td><td>false</td><td>0.717391</td><td>172</td><td>&quot;Соревновательный анализ данных&quot;</td><td>false</td><td>2</td></tr><tr><td>&hellip;</td><td>&hellip;</td><td>&hellip;</td><td>&hellip;</td><td>&hellip;</td><td>&hellip;</td><td>&hellip;</td><td>&hellip;</td><td>&hellip;</td><td>&hellip;</td><td>&hellip;</td><td>&hellip;</td><td>&hellip;</td><td>&hellip;</td><td>&hellip;</td><td>&hellip;</td><td>&hellip;</td></tr><tr><td>&quot;e83471de8976e4fcfccf4ef417f071…</td><td>2020-05-18 21:26:52</td><td>661</td><td>187</td><td>false</td><td>&quot;Сбор и обработка данных с помо…</td><td>&quot;Матричные вычисления&quot;</td><td>&quot;Моделирование временных рядов&quot;</td><td>&quot;Системы баз данных&quot;</td><td>&quot;Дополнительные главы прикладно…</td><td>&quot;Анализ данных в бизнесе&quot;</td><td>true</td><td>0.358744</td><td>0</td><td>&quot;&quot;</td><td>false</td><td>1</td></tr><tr><td>&quot;5daee1bd98559bb2c52373e4169422…</td><td>2020-05-16 13:02:24</td><td>593</td><td>182</td><td>false</td><td>&quot;Сбор и обработка данных с помо…</td><td>&quot;Statistical Learning Theory&quot;</td><td>&quot;Моделирование временных рядов&quot;</td><td>&quot;Машинное обучение 2&quot;</td><td>&quot;Промышленное программирование …</td><td>&quot;Анализ данных в бизнесе&quot;</td><td>false</td><td>0.681614</td><td>0</td><td>&quot;&quot;</td><td>true</td><td>1</td></tr><tr><td>&quot;73fc0f1b300e6e49167b5f771586fe…</td><td>2020-05-18 22:48:12</td><td>643</td><td>183</td><td>false</td><td>&quot;Высокопроизводительные вычисле…</td><td>&quot;Безопасность компьютерных сист…</td><td>&quot;Язык SQL&quot;</td><td>&quot;Промышленное программирование …</td><td>&quot;Компьютерные сети&quot;</td><td>&quot;Системы баз данных&quot;</td><td>true</td><td>0.443946</td><td>0</td><td>&quot;&quot;</td><td>false</td><td>1</td></tr><tr><td>&quot;00b40fe7dbfd23e5daba7652445094…</td><td>2020-05-18 22:08:11</td><td>542</td><td>187</td><td>false</td><td>&quot;Безопасность компьютерных сист…</td><td>&quot;Язык SQL&quot;</td><td>&quot;Матричные вычисления&quot;</td><td>&quot;Промышленное программирование …</td><td>&quot;Компьютерные сети&quot;</td><td>&quot;Анализ данных в бизнесе&quot;</td><td>true</td><td>0.896861</td><td>0</td><td>&quot;&quot;</td><td>false</td><td>1</td></tr><tr><td>&quot;22eda17f96bbf2d0fb857453e61011…</td><td>2020-05-18 22:02:44</td><td>1198</td><td>0</td><td>false</td><td>&quot;Анализ неструктурированных дан…</td><td>&quot;Сбор и обработка данных с помо…</td><td>&quot;Безопасность компьютерных сист…</td><td>&quot;Обучение с подкреплением&quot;</td><td>&quot;Конфликты и кооперация&quot;</td><td>&quot;Методы сжатия и передачи медиа…</td><td>true</td><td>0.347826</td><td>174</td><td>&quot;DevOps&quot;</td><td>false</td><td>1</td></tr></tbody></table></div>"
            ]
          },
          "metadata": {},
          "execution_count": 53
        }
      ],
      "source": [
        "df = df.with_columns(\n",
        "    pl.when(((pl.col(\"17_group\") >= 171) & (pl.col(\"17_group\") <= 173)) | ((pl.col(\"18_group\") > 0) & (pl.col(\"is_mi\"))))\n",
        "    .then(2)\n",
        "    .otherwise(1)\n",
        "    .alias(\"fall_courses_amount\")\n",
        ")\n",
        "df"
      ]
    },
    {
      "cell_type": "markdown",
      "metadata": {
        "id": "hapnRDPU3JKv"
      },
      "source": [
        "Проверка:"
      ]
    },
    {
      "cell_type": "code",
      "execution_count": 54,
      "metadata": {
        "id": "3qK9-jmP3JKv"
      },
      "outputs": [],
      "source": [
        "col_name =  \"fall_courses_amount\"\n",
        "\n",
        "ids = [\n",
        "    \"2662600c2c37e11e62f6ee0b88452f22\",\n",
        "    \"d555d2805e1d93d4f023e57dc4c8f403\",\n",
        "    \"8fe79f84f36e3a5d2d6745621321302c\",\n",
        "    \"e4caca755ee0bdd711e18fb8084958b5\",\n",
        "]\n",
        "assert (\n",
        "    df.filter(pl.col(\"id\").is_in(ids)).sort(\"id\")[col_name] == [2, 1, 2, 1]\n",
        ").all()"
      ]
    },
    {
      "cell_type": "markdown",
      "metadata": {
        "id": "kty-lzOJ3JKv"
      },
      "source": [
        "#### 2. [2 балла] Распределите студентов в соответствии с первым приоритетом"
      ]
    },
    {
      "cell_type": "code",
      "execution_count": 55,
      "metadata": {
        "id": "Bke3MABosL2f"
      },
      "outputs": [],
      "source": [
        "# Все уникальные курсы получу по примеру из 7-го задания\n",
        "\n",
        "unique_fall =  set()\n",
        "unique_fall.update(sum(df.select(pl.col(\"fall_1\")).unique().to_numpy().tolist(), []))\n",
        "unique_fall.update(sum(df.select(pl.col(\"fall_2\")).unique().to_numpy().tolist(), []))\n",
        "unique_fall.update(sum(df.select(pl.col(\"fall_3\")).unique().to_numpy().tolist(), []))"
      ]
    },
    {
      "cell_type": "code",
      "execution_count": 56,
      "metadata": {
        "colab": {
          "base_uri": "https://localhost:8080/",
          "height": 966
        },
        "id": "l5149AYH3JKv",
        "outputId": "b44dac20-4a39-405c-b124-f814ae0bd201"
      },
      "outputs": [
        {
          "output_type": "execute_result",
          "data": {
            "text/plain": [
              "shape: (347, 22)\n",
              "┌─────────────┬─────────────┬────────┬──────────┬───┬─────────────┬────────────┬─────────┬─────────┐\n",
              "│ id          ┆ timestamp   ┆ rating ┆ 18_group ┆ … ┆ f_2         ┆ f_3        ┆ course1 ┆ course2 │\n",
              "│ ---         ┆ ---         ┆ ---    ┆ ---      ┆   ┆ ---         ┆ ---        ┆ ---     ┆ ---     │\n",
              "│ str         ┆ datetime[μs ┆ i64    ┆ i64      ┆   ┆ list[str]   ┆ list[str]  ┆ str     ┆ str     │\n",
              "│             ┆ ]           ┆        ┆          ┆   ┆             ┆            ┆         ┆         │\n",
              "╞═════════════╪═════════════╪════════╪══════════╪═══╪═════════════╪════════════╪═════════╪═════════╡\n",
              "│ 3a7326c9e35 ┆ 2020-05-14  ┆ 1457   ┆ 0        ┆ … ┆ [\"Statistic ┆ []         ┆ ???     ┆ ???     │\n",
              "│ 5a67d380582 ┆ 21:52:43    ┆        ┆          ┆   ┆ al Learning ┆            ┆         ┆         │\n",
              "│ 4ca34c4b…   ┆             ┆        ┆          ┆   ┆ Theory\"…    ┆            ┆         ┆         │\n",
              "│ 3e106aaef8b ┆ 2020-05-18  ┆ 784    ┆ 182      ┆ … ┆ [\"Statistic ┆ [\"Матричны ┆ ???     ┆ ???     │\n",
              "│ 24dbb01319c ┆ 17:09:23    ┆        ┆          ┆   ┆ al Learning ┆ е вычислен ┆         ┆         │\n",
              "│ 73e14c29…   ┆             ┆        ┆          ┆   ┆ Theory\"…    ┆ ия\"]       ┆         ┆         │\n",
              "│ e0ca1a9548a ┆ 2020-05-18  ┆ 764    ┆ 182      ┆ … ┆ [\"Безопасно ┆ [\"Statisti ┆ ???     ┆ ???     │\n",
              "│ f9a3f98428c ┆ 18:03:57    ┆        ┆          ┆   ┆ сть компьют ┆ cal        ┆         ┆         │\n",
              "│ 62420aa4…   ┆             ┆        ┆          ┆   ┆ ерных си…   ┆ Learning   ┆         ┆         │\n",
              "│             ┆             ┆        ┆          ┆   ┆             ┆ Theory\"…   ┆         ┆         │\n",
              "│ 7fe7df0d207 ┆ 2020-05-18  ┆ 1365   ┆ 0        ┆ … ┆ [\"Сбор и    ┆ [\"Моделиро ┆ ???     ┆ ???     │\n",
              "│ babbf30249b ┆ 12:39:47    ┆        ┆          ┆   ┆ обработка   ┆ вание      ┆         ┆         │\n",
              "│ 3063ac1f…   ┆             ┆        ┆          ┆   ┆ данных с    ┆ временных  ┆         ┆         │\n",
              "│             ┆             ┆        ┆          ┆   ┆ по…         ┆ рядо…      ┆         ┆         │\n",
              "│ 86d929f6fd7 ┆ 2020-05-15  ┆ 761    ┆ 181      ┆ … ┆ [\"Сбор и    ┆ [\"Сбор и   ┆ ???     ┆ ???     │\n",
              "│ 41e56e93cee ┆ 21:34:32    ┆        ┆          ┆   ┆ обработка   ┆ обработка  ┆         ┆         │\n",
              "│ 59002988…   ┆             ┆        ┆          ┆   ┆ данных с    ┆ данных с   ┆         ┆         │\n",
              "│             ┆             ┆        ┆          ┆   ┆ по…         ┆ по…        ┆         ┆         │\n",
              "│ …           ┆ …           ┆ …      ┆ …        ┆ … ┆ …           ┆ …          ┆ …       ┆ …       │\n",
              "│ 79d14db48e4 ┆ 2020-05-23  ┆ 966    ┆ 0        ┆ … ┆ [\"Анализ    ┆ []         ┆ ???     ┆ ???     │\n",
              "│ 737af731960 ┆ 21:16:40    ┆        ┆          ┆   ┆ неструктури ┆            ┆         ┆         │\n",
              "│ ae212d51…   ┆             ┆        ┆          ┆   ┆ рованных д… ┆            ┆         ┆         │\n",
              "│ 40b18d40197 ┆ 2020-05-18  ┆ 515    ┆ 188      ┆ … ┆ [\"Язык      ┆ [\"Сбор и   ┆ ???     ┆ ???     │\n",
              "│ e3db66312a0 ┆ 22:29:14    ┆        ┆          ┆   ┆ SQL\"]       ┆ обработка  ┆         ┆         │\n",
              "│ 26e06b8f…   ┆             ┆        ┆          ┆   ┆             ┆ данных с   ┆         ┆         │\n",
              "│             ┆             ┆        ┆          ┆   ┆             ┆ по…        ┆         ┆         │\n",
              "│ be4fa2120de ┆ 2020-05-18  ┆ 502    ┆ 187      ┆ … ┆ [\"Язык      ┆ [\"Матричны ┆ ???     ┆ ???     │\n",
              "│ 3397ae21eac ┆ 21:12:00    ┆        ┆          ┆   ┆ SQL\"]       ┆ е вычислен ┆         ┆         │\n",
              "│ 38ff0060…   ┆             ┆        ┆          ┆   ┆             ┆ ия\"]       ┆         ┆         │\n",
              "│ d539461bf25 ┆ 2020-05-18  ┆ 964    ┆ 0        ┆ … ┆ [\"Глубинное ┆ [\"Statisti ┆ ???     ┆ ???     │\n",
              "│ 4cf8b3201cd ┆ 23:12:29    ┆        ┆          ┆   ┆ обучение в  ┆ cal        ┆         ┆         │\n",
              "│ f7990b11…   ┆             ┆        ┆          ┆   ┆ обработ…    ┆ Learning   ┆         ┆         │\n",
              "│             ┆             ┆        ┆          ┆   ┆             ┆ Theory\"…   ┆         ┆         │\n",
              "│ 7a21ef645ec ┆ 2020-05-20  ┆ 495    ┆ 188      ┆ … ┆ [\"Язык      ┆ [\"Сбор и   ┆ ???     ┆ ???     │\n",
              "│ b42198be493 ┆ 11:34:10    ┆        ┆          ┆   ┆ SQL\"]       ┆ обработка  ┆         ┆         │\n",
              "│ dd65320e…   ┆             ┆        ┆          ┆   ┆             ┆ данных с   ┆         ┆         │\n",
              "│             ┆             ┆        ┆          ┆   ┆             ┆ по…        ┆         ┆         │\n",
              "└─────────────┴─────────────┴────────┴──────────┴───┴─────────────┴────────────┴─────────┴─────────┘"
            ],
            "text/html": [
              "<div><style>\n",
              ".dataframe > thead > tr,\n",
              ".dataframe > tbody > tr {\n",
              "  text-align: right;\n",
              "  white-space: pre-wrap;\n",
              "}\n",
              "</style>\n",
              "<small>shape: (347, 22)</small><table border=\"1\" class=\"dataframe\"><thead><tr><th>id</th><th>timestamp</th><th>rating</th><th>18_group</th><th>is_mi</th><th>fall_1</th><th>fall_2</th><th>fall_3</th><th>spring_1</th><th>spring_2</th><th>spring_3</th><th>is_first_time</th><th>percentile</th><th>17_group</th><th>blended</th><th>is_ml_student</th><th>fall_courses_amount</th><th>f_1</th><th>f_2</th><th>f_3</th><th>course1</th><th>course2</th></tr><tr><td>str</td><td>datetime[μs]</td><td>i64</td><td>i64</td><td>bool</td><td>str</td><td>str</td><td>str</td><td>str</td><td>str</td><td>str</td><td>bool</td><td>f64</td><td>i64</td><td>str</td><td>bool</td><td>i32</td><td>list[str]</td><td>list[str]</td><td>list[str]</td><td>str</td><td>str</td></tr></thead><tbody><tr><td>&quot;3a7326c9e355a67d3805824ca34c4b…</td><td>2020-05-14 21:52:43</td><td>1457</td><td>0</td><td>false</td><td>&quot;Statistical Learning Theory&quot;</td><td>&quot;Высокопроизводительные вычисле…</td><td>&quot;Statistical Learning Theory&quot;</td><td>&quot;Символьные вычисления&quot;</td><td>&quot;Численные методы&quot;</td><td>&quot;Символьные вычисления&quot;</td><td>true</td><td>0.0</td><td>173</td><td>&quot;Введение в дифференциальную ге…</td><td>false</td><td>2</td><td>[&quot;Statistical Learning Theory&quot;, &quot;Высокопроизводительные вычисления&quot;]</td><td>[&quot;Statistical Learning Theory&quot;]</td><td>[]</td><td>&quot;???&quot;</td><td>&quot;???&quot;</td></tr><tr><td>&quot;3e106aaef8b24dbb01319c73e14c29…</td><td>2020-05-18 17:09:23</td><td>784</td><td>182</td><td>false</td><td>&quot;Безопасность компьютерных сист…</td><td>&quot;Statistical Learning Theory&quot;</td><td>&quot;Матричные вычисления&quot;</td><td>&quot;Дискретная оптимизация&quot;</td><td>&quot;Промышленное программирование …</td><td>&quot;Дополнительные главы прикладно…</td><td>true</td><td>0.0</td><td>0</td><td>&quot;&quot;</td><td>true</td><td>1</td><td>[&quot;Безопасность компьютерных систем&quot;]</td><td>[&quot;Statistical Learning Theory&quot;]</td><td>[&quot;Матричные вычисления&quot;]</td><td>&quot;???&quot;</td><td>&quot;???&quot;</td></tr><tr><td>&quot;e0ca1a9548af9a3f98428c62420aa4…</td><td>2020-05-18 18:03:57</td><td>764</td><td>182</td><td>false</td><td>&quot;Матричные вычисления&quot;</td><td>&quot;Безопасность компьютерных сист…</td><td>&quot;Statistical Learning Theory&quot;</td><td>&quot;Дискретная оптимизация&quot;</td><td>&quot;Дополнительные главы прикладно…</td><td>&quot;Машинное обучение 2&quot;</td><td>true</td><td>0.004484</td><td>0</td><td>&quot;&quot;</td><td>false</td><td>1</td><td>[&quot;Матричные вычисления&quot;]</td><td>[&quot;Безопасность компьютерных систем&quot;]</td><td>[&quot;Statistical Learning Theory&quot;]</td><td>&quot;???&quot;</td><td>&quot;???&quot;</td></tr><tr><td>&quot;7fe7df0d207babbf30249b3063ac1f…</td><td>2020-05-18 12:39:47</td><td>1365</td><td>0</td><td>false</td><td>&quot;Высокопроизводительные вычисле…</td><td>&quot;Сбор и обработка данных с помо…</td><td>&quot;Моделирование временных рядов&quot;</td><td>&quot;Проектирование и разработка вы…</td><td>&quot;Методы сжатия и передачи медиа…</td><td>&quot;Методы сжатия и передачи медиа…</td><td>true</td><td>0.007246</td><td>175</td><td>&quot;DevOps&quot;</td><td>false</td><td>1</td><td>[&quot;Высокопроизводительные вычисления&quot;]</td><td>[&quot;Сбор и обработка данных с помощью краудсорсинга&quot;]</td><td>[&quot;Моделирование временных рядов&quot;]</td><td>&quot;???&quot;</td><td>&quot;???&quot;</td></tr><tr><td>&quot;86d929f6fd741e56e93cee59002988…</td><td>2020-05-15 21:34:32</td><td>761</td><td>181</td><td>false</td><td>&quot;Сбор и обработка данных с помо…</td><td>&quot;Сбор и обработка данных с помо…</td><td>&quot;Сбор и обработка данных с помо…</td><td>&quot;Дополнительные главы прикладно…</td><td>&quot;Дополнительные главы прикладно…</td><td>&quot;Дополнительные главы прикладно…</td><td>true</td><td>0.008969</td><td>0</td><td>&quot;&quot;</td><td>false</td><td>1</td><td>[&quot;Сбор и обработка данных с помощью краудсорсинга&quot;]</td><td>[&quot;Сбор и обработка данных с помощью краудсорсинга&quot;]</td><td>[&quot;Сбор и обработка данных с помощью краудсорсинга&quot;]</td><td>&quot;???&quot;</td><td>&quot;???&quot;</td></tr><tr><td>&hellip;</td><td>&hellip;</td><td>&hellip;</td><td>&hellip;</td><td>&hellip;</td><td>&hellip;</td><td>&hellip;</td><td>&hellip;</td><td>&hellip;</td><td>&hellip;</td><td>&hellip;</td><td>&hellip;</td><td>&hellip;</td><td>&hellip;</td><td>&hellip;</td><td>&hellip;</td><td>&hellip;</td><td>&hellip;</td><td>&hellip;</td><td>&hellip;</td><td>&hellip;</td><td>&hellip;</td></tr><tr><td>&quot;79d14db48e4737af731960ae212d51…</td><td>2020-05-23 21:16:40</td><td>966</td><td>0</td><td>false</td><td>&quot;Безопасность компьютерных сист…</td><td>&quot;Принятие решений в условиях ри…</td><td>&quot;Анализ неструктурированных дан…</td><td>&quot;Проектирование и разработка вы…</td><td>&quot;Методы сжатия и передачи медиа…</td><td>&quot;Компьютерное зрение&quot;</td><td>true</td><td>0.985507</td><td>172</td><td>&quot;DevOps&quot;</td><td>false</td><td>2</td><td>[&quot;Безопасность компьютерных систем&quot;, &quot;Принятие решений в условиях риска и неопределённости&quot;]</td><td>[&quot;Анализ неструктурированных данных&quot;]</td><td>[]</td><td>&quot;???&quot;</td><td>&quot;???&quot;</td></tr><tr><td>&quot;40b18d40197e3db66312a026e06b8f…</td><td>2020-05-18 22:29:14</td><td>515</td><td>188</td><td>false</td><td>&quot;Безопасность компьютерных сист…</td><td>&quot;Язык SQL&quot;</td><td>&quot;Сбор и обработка данных с помо…</td><td>&quot;Промышленное программирование …</td><td>&quot;Компьютерные сети&quot;</td><td>&quot;Анализ данных в бизнесе&quot;</td><td>false</td><td>0.986547</td><td>0</td><td>&quot;&quot;</td><td>false</td><td>1</td><td>[&quot;Безопасность компьютерных систем&quot;]</td><td>[&quot;Язык SQL&quot;]</td><td>[&quot;Сбор и обработка данных с помощью краудсорсинга&quot;]</td><td>&quot;???&quot;</td><td>&quot;???&quot;</td></tr><tr><td>&quot;be4fa2120de3397ae21eac38ff0060…</td><td>2020-05-18 21:12:00</td><td>502</td><td>187</td><td>false</td><td>&quot;Безопасность компьютерных сист…</td><td>&quot;Язык SQL&quot;</td><td>&quot;Матричные вычисления&quot;</td><td>&quot;Промышленное программирование …</td><td>&quot;Численные методы&quot;</td><td>&quot;Машинное обучение 2&quot;</td><td>true</td><td>0.991031</td><td>0</td><td>&quot;&quot;</td><td>false</td><td>1</td><td>[&quot;Безопасность компьютерных систем&quot;]</td><td>[&quot;Язык SQL&quot;]</td><td>[&quot;Матричные вычисления&quot;]</td><td>&quot;???&quot;</td><td>&quot;???&quot;</td></tr><tr><td>&quot;d539461bf254cf8b3201cdf7990b11…</td><td>2020-05-18 23:12:29</td><td>964</td><td>0</td><td>false</td><td>&quot;Анализ неструктурированных дан…</td><td>&quot;Глубинное обучение в обработке…</td><td>&quot;Statistical Learning Theory&quot;</td><td>&quot;Обучение с подкреплением&quot;</td><td>&quot;Компьютерное зрение&quot;</td><td>&quot;Проектирование и разработка вы…</td><td>true</td><td>0.992754</td><td>174</td><td>&quot;DevOps&quot;</td><td>false</td><td>1</td><td>[&quot;Анализ неструктурированных данных&quot;]</td><td>[&quot;Глубинное обучение в обработке звука&quot;]</td><td>[&quot;Statistical Learning Theory&quot;]</td><td>&quot;???&quot;</td><td>&quot;???&quot;</td></tr><tr><td>&quot;7a21ef645ecb42198be493dd65320e…</td><td>2020-05-20 11:34:10</td><td>495</td><td>188</td><td>false</td><td>&quot;Принятие решений в условиях ри…</td><td>&quot;Язык SQL&quot;</td><td>&quot;Сбор и обработка данных с помо…</td><td>&quot;Анализ данных в бизнесе&quot;</td><td>&quot;Промышленное программирование …</td><td>&quot;Дополнительные главы прикладно…</td><td>true</td><td>0.995516</td><td>0</td><td>&quot;&quot;</td><td>false</td><td>1</td><td>[&quot;Принятие решений в условиях риска и неопределённости&quot;]</td><td>[&quot;Язык SQL&quot;]</td><td>[&quot;Сбор и обработка данных с помощью краудсорсинга&quot;]</td><td>&quot;???&quot;</td><td>&quot;???&quot;</td></tr></tbody></table></div>"
            ]
          },
          "metadata": {},
          "execution_count": 56
        }
      ],
      "source": [
        "# Для начала отсортирую по возрастанию перцентиля\n",
        "df = df.sort(by=pl.col(\"percentile\"))\n",
        "\n",
        "# И также создам три временных столбца с волнами отбора (они будут иметь список из двух курсов, если нужно выбрать 2 курса, и 1 курс, если нужно выбрать 1 курс)\n",
        "# И два столбца для итоговых курсов (course1, course2)\n",
        "df = df.with_columns(\n",
        "    # f1\n",
        "    pl.when(\n",
        "        pl.col(\"fall_courses_amount\") == 1\n",
        "    ).then( # один курс\n",
        "        pl.col(\"fall_1\").cast(pl.List(pl.Utf8))\n",
        "    ).otherwise( # два курса\n",
        "        pl.concat_list(pl.col(\"fall_1\"), pl.col(\"fall_2\"))\n",
        "    ).alias(\"f_1\"),\n",
        "\n",
        "    # f2\n",
        "    pl.when(\n",
        "        pl.col(\"fall_courses_amount\") == 1\n",
        "    ).then( # один курс\n",
        "        pl.col(\"fall_2\").cast(pl.List(pl.Utf8))\n",
        "    ).otherwise( # два курса\n",
        "        pl.col(\"fall_3\").cast(pl.List(pl.Utf8))\n",
        "    ).alias(\"f_2\"),\n",
        "\n",
        "\n",
        "\n",
        "    # f3\n",
        "    pl.when(\n",
        "        pl.col(\"fall_courses_amount\") == 1\n",
        "    ).then( # один курс\n",
        "        pl.col(\"fall_3\").cast(pl.List(pl.Utf8))\n",
        "    ).otherwise( # два курса\n",
        "        pl.lit(list())\n",
        "    ).alias(\"f_3\"),\n",
        "\n",
        "    # course 1\n",
        "    pl.lit(\"???\").alias(\"course1\").cast(pl.Utf8),\n",
        "    # course 2\n",
        "    pl.lit(\"???\").alias(\"course2\").cast(pl.Utf8)\n",
        ")\n",
        "\n",
        "df"
      ]
    },
    {
      "cell_type": "code",
      "execution_count": 57,
      "metadata": {
        "colab": {
          "base_uri": "https://localhost:8080/",
          "height": 900
        },
        "id": "eYUTBzW4x_ei",
        "outputId": "86093dd8-404a-4837-fd50-3cf168c773b6"
      },
      "outputs": [
        {
          "output_type": "execute_result",
          "data": {
            "text/plain": [
              "shape: (10, 22)\n",
              "┌────────────┬────────────┬────────┬──────────┬───┬────────────┬───────────┬───────────┬───────────┐\n",
              "│ id         ┆ timestamp  ┆ rating ┆ 18_group ┆ … ┆ f_2        ┆ f_3       ┆ course1   ┆ course2   │\n",
              "│ ---        ┆ ---        ┆ ---    ┆ ---      ┆   ┆ ---        ┆ ---       ┆ ---       ┆ ---       │\n",
              "│ str        ┆ datetime[μ ┆ i64    ┆ i64      ┆   ┆ list[str]  ┆ list[str] ┆ str       ┆ str       │\n",
              "│            ┆ s]         ┆        ┆          ┆   ┆            ┆           ┆           ┆           │\n",
              "╞════════════╪════════════╪════════╪══════════╪═══╪════════════╪═══════════╪═══════════╪═══════════╡\n",
              "│ 3e106aaef8 ┆ 2020-05-18 ┆ 784    ┆ 182      ┆ … ┆ [\"Statisti ┆ [\"Матричн ┆ Безопасно ┆ ???       │\n",
              "│ b24dbb0131 ┆ 17:09:23   ┆        ┆          ┆   ┆ cal        ┆ ые вычисл ┆ сть компь ┆           │\n",
              "│ 9c73e14c29 ┆            ┆        ┆          ┆   ┆ Learning   ┆ ения\"]    ┆ ютерных   ┆           │\n",
              "│ …          ┆            ┆        ┆          ┆   ┆ Theory\"…   ┆           ┆ сист…     ┆           │\n",
              "│ 3a7326c9e3 ┆ 2020-05-14 ┆ 1457   ┆ 0        ┆ … ┆ [\"Statisti ┆ []        ┆ Statistic ┆ Высокопро │\n",
              "│ 55a67d3805 ┆ 21:52:43   ┆        ┆          ┆   ┆ cal        ┆           ┆ al        ┆ изводител │\n",
              "│ 824ca34c4b ┆            ┆        ┆          ┆   ┆ Learning   ┆           ┆ Learning  ┆ ьные      │\n",
              "│ …          ┆            ┆        ┆          ┆   ┆ Theory\"…   ┆           ┆ Theory    ┆ вычисле…  │\n",
              "│ e0ca1a9548 ┆ 2020-05-18 ┆ 764    ┆ 182      ┆ … ┆ [\"Безопасн ┆ [\"Statist ┆ Матричные ┆ ???       │\n",
              "│ af9a3f9842 ┆ 18:03:57   ┆        ┆          ┆   ┆ ость компь ┆ ical      ┆ вычислени ┆           │\n",
              "│ 8c62420aa4 ┆            ┆        ┆          ┆   ┆ ютерных    ┆ Learning  ┆ я         ┆           │\n",
              "│ …          ┆            ┆        ┆          ┆   ┆ си…        ┆ Theory\"…  ┆           ┆           │\n",
              "│ 7fe7df0d20 ┆ 2020-05-18 ┆ 1365   ┆ 0        ┆ … ┆ [\"Сбор и   ┆ [\"Моделир ┆ Высокопро ┆ ???       │\n",
              "│ 7babbf3024 ┆ 12:39:47   ┆        ┆          ┆   ┆ обработка  ┆ ование    ┆ изводител ┆           │\n",
              "│ 9b3063ac1f ┆            ┆        ┆          ┆   ┆ данных с   ┆ временных ┆ ьные      ┆           │\n",
              "│ …          ┆            ┆        ┆          ┆   ┆ по…        ┆ рядо…     ┆ вычисле…  ┆           │\n",
              "│ 86d929f6fd ┆ 2020-05-15 ┆ 761    ┆ 181      ┆ … ┆ [\"Сбор и   ┆ [\"Сбор и  ┆ Сбор и    ┆ ???       │\n",
              "│ 741e56e93c ┆ 21:34:32   ┆        ┆          ┆   ┆ обработка  ┆ обработка ┆ обработка ┆           │\n",
              "│ ee59002988 ┆            ┆        ┆          ┆   ┆ данных с   ┆ данных с  ┆ данных с  ┆           │\n",
              "│ …          ┆            ┆        ┆          ┆   ┆ по…        ┆ по…       ┆ помо…     ┆           │\n",
              "│ 425c2a90f4 ┆ 2020-05-18 ┆ 760    ┆ 182      ┆ … ┆ [\"Язык     ┆ [\"Приняти ┆ Сбор и    ┆ ???       │\n",
              "│ 47620c9a18 ┆ 18:24:10   ┆        ┆          ┆   ┆ SQL\"]      ┆ е решений ┆ обработка ┆           │\n",
              "│ 68e92f0a7a ┆            ┆        ┆          ┆   ┆            ┆ в         ┆ данных с  ┆           │\n",
              "│ …          ┆            ┆        ┆          ┆   ┆            ┆ условиях  ┆ помо…     ┆           │\n",
              "│            ┆            ┆        ┆          ┆   ┆            ┆ …         ┆           ┆           │\n",
              "│ 67e4ec4fe5 ┆ 2020-05-18 ┆ 1335   ┆ 0        ┆ … ┆ [\"Statisti ┆ []        ┆ Глубинное ┆ Байесовск │\n",
              "│ c060181569 ┆ 22:20:02   ┆        ┆          ┆   ┆ cal        ┆           ┆ обучение  ┆ ие методы │\n",
              "│ 2fbd6d403f ┆            ┆        ┆          ┆   ┆ Learning   ┆           ┆ в обработ ┆ машинного │\n",
              "│ …          ┆            ┆        ┆          ┆   ┆ Theory\"…   ┆           ┆ ке…       ┆ о…        │\n",
              "│ 723d5f32b6 ┆ 2020-05-18 ┆ 759    ┆ 184      ┆ … ┆ [\"Безопасн ┆ [\"Матричн ┆ Statistic ┆ ???       │\n",
              "│ 99c971b409 ┆ 21:59:48   ┆        ┆          ┆   ┆ ость компь ┆ ые вычисл ┆ al        ┆           │\n",
              "│ 5a017c883f ┆            ┆        ┆          ┆   ┆ ютерных    ┆ ения\"]    ┆ Learning  ┆           │\n",
              "│ …          ┆            ┆        ┆          ┆   ┆ си…        ┆           ┆ Theory    ┆           │\n",
              "│ b3cbd3541c ┆ 2020-05-17 ┆ 1333   ┆ 0        ┆ … ┆ [\"Моделиро ┆ []        ┆ Statistic ┆ Байесовск │\n",
              "│ 0cf66ff4eb ┆ 11:31:43   ┆        ┆          ┆   ┆ вание      ┆           ┆ al        ┆ ие методы │\n",
              "│ 2bc1596bb1 ┆            ┆        ┆          ┆   ┆ временных  ┆           ┆ Learning  ┆ машинного │\n",
              "│ …          ┆            ┆        ┆          ┆   ┆ рядо…      ┆           ┆ Theory    ┆ о…        │\n",
              "│ bfe75c08c6 ┆ 2020-05-18 ┆ 758    ┆ 182      ┆ … ┆ [\"Statisti ┆ [\"Матричн ┆ Безопасно ┆ ???       │\n",
              "│ b7e31d4e7d ┆ 17:22:56   ┆        ┆          ┆   ┆ cal        ┆ ые вычисл ┆ сть компь ┆           │\n",
              "│ 48c9c5fed6 ┆            ┆        ┆          ┆   ┆ Learning   ┆ ения\"]    ┆ ютерных   ┆           │\n",
              "│ …          ┆            ┆        ┆          ┆   ┆ Theory\"…   ┆           ┆ сист…     ┆           │\n",
              "└────────────┴────────────┴────────┴──────────┴───┴────────────┴───────────┴───────────┴───────────┘"
            ],
            "text/html": [
              "<div><style>\n",
              ".dataframe > thead > tr,\n",
              ".dataframe > tbody > tr {\n",
              "  text-align: right;\n",
              "  white-space: pre-wrap;\n",
              "}\n",
              "</style>\n",
              "<small>shape: (10, 22)</small><table border=\"1\" class=\"dataframe\"><thead><tr><th>id</th><th>timestamp</th><th>rating</th><th>18_group</th><th>is_mi</th><th>fall_1</th><th>fall_2</th><th>fall_3</th><th>spring_1</th><th>spring_2</th><th>spring_3</th><th>is_first_time</th><th>percentile</th><th>17_group</th><th>blended</th><th>is_ml_student</th><th>fall_courses_amount</th><th>f_1</th><th>f_2</th><th>f_3</th><th>course1</th><th>course2</th></tr><tr><td>str</td><td>datetime[μs]</td><td>i64</td><td>i64</td><td>bool</td><td>str</td><td>str</td><td>str</td><td>str</td><td>str</td><td>str</td><td>bool</td><td>f64</td><td>i64</td><td>str</td><td>bool</td><td>i32</td><td>list[str]</td><td>list[str]</td><td>list[str]</td><td>str</td><td>str</td></tr></thead><tbody><tr><td>&quot;3e106aaef8b24dbb01319c73e14c29…</td><td>2020-05-18 17:09:23</td><td>784</td><td>182</td><td>false</td><td>&quot;Безопасность компьютерных сист…</td><td>&quot;Statistical Learning Theory&quot;</td><td>&quot;Матричные вычисления&quot;</td><td>&quot;Дискретная оптимизация&quot;</td><td>&quot;Промышленное программирование …</td><td>&quot;Дополнительные главы прикладно…</td><td>true</td><td>0.0</td><td>0</td><td>&quot;&quot;</td><td>true</td><td>1</td><td>[&quot;Безопасность компьютерных систем&quot;]</td><td>[&quot;Statistical Learning Theory&quot;]</td><td>[&quot;Матричные вычисления&quot;]</td><td>&quot;Безопасность компьютерных сист…</td><td>&quot;???&quot;</td></tr><tr><td>&quot;3a7326c9e355a67d3805824ca34c4b…</td><td>2020-05-14 21:52:43</td><td>1457</td><td>0</td><td>false</td><td>&quot;Statistical Learning Theory&quot;</td><td>&quot;Высокопроизводительные вычисле…</td><td>&quot;Statistical Learning Theory&quot;</td><td>&quot;Символьные вычисления&quot;</td><td>&quot;Численные методы&quot;</td><td>&quot;Символьные вычисления&quot;</td><td>true</td><td>0.0</td><td>173</td><td>&quot;Введение в дифференциальную ге…</td><td>false</td><td>2</td><td>[&quot;Statistical Learning Theory&quot;, &quot;Высокопроизводительные вычисления&quot;]</td><td>[&quot;Statistical Learning Theory&quot;]</td><td>[]</td><td>&quot;Statistical Learning Theory&quot;</td><td>&quot;Высокопроизводительные вычисле…</td></tr><tr><td>&quot;e0ca1a9548af9a3f98428c62420aa4…</td><td>2020-05-18 18:03:57</td><td>764</td><td>182</td><td>false</td><td>&quot;Матричные вычисления&quot;</td><td>&quot;Безопасность компьютерных сист…</td><td>&quot;Statistical Learning Theory&quot;</td><td>&quot;Дискретная оптимизация&quot;</td><td>&quot;Дополнительные главы прикладно…</td><td>&quot;Машинное обучение 2&quot;</td><td>true</td><td>0.004484</td><td>0</td><td>&quot;&quot;</td><td>false</td><td>1</td><td>[&quot;Матричные вычисления&quot;]</td><td>[&quot;Безопасность компьютерных систем&quot;]</td><td>[&quot;Statistical Learning Theory&quot;]</td><td>&quot;Матричные вычисления&quot;</td><td>&quot;???&quot;</td></tr><tr><td>&quot;7fe7df0d207babbf30249b3063ac1f…</td><td>2020-05-18 12:39:47</td><td>1365</td><td>0</td><td>false</td><td>&quot;Высокопроизводительные вычисле…</td><td>&quot;Сбор и обработка данных с помо…</td><td>&quot;Моделирование временных рядов&quot;</td><td>&quot;Проектирование и разработка вы…</td><td>&quot;Методы сжатия и передачи медиа…</td><td>&quot;Методы сжатия и передачи медиа…</td><td>true</td><td>0.007246</td><td>175</td><td>&quot;DevOps&quot;</td><td>false</td><td>1</td><td>[&quot;Высокопроизводительные вычисления&quot;]</td><td>[&quot;Сбор и обработка данных с помощью краудсорсинга&quot;]</td><td>[&quot;Моделирование временных рядов&quot;]</td><td>&quot;Высокопроизводительные вычисле…</td><td>&quot;???&quot;</td></tr><tr><td>&quot;86d929f6fd741e56e93cee59002988…</td><td>2020-05-15 21:34:32</td><td>761</td><td>181</td><td>false</td><td>&quot;Сбор и обработка данных с помо…</td><td>&quot;Сбор и обработка данных с помо…</td><td>&quot;Сбор и обработка данных с помо…</td><td>&quot;Дополнительные главы прикладно…</td><td>&quot;Дополнительные главы прикладно…</td><td>&quot;Дополнительные главы прикладно…</td><td>true</td><td>0.008969</td><td>0</td><td>&quot;&quot;</td><td>false</td><td>1</td><td>[&quot;Сбор и обработка данных с помощью краудсорсинга&quot;]</td><td>[&quot;Сбор и обработка данных с помощью краудсорсинга&quot;]</td><td>[&quot;Сбор и обработка данных с помощью краудсорсинга&quot;]</td><td>&quot;Сбор и обработка данных с помо…</td><td>&quot;???&quot;</td></tr><tr><td>&quot;425c2a90f447620c9a1868e92f0a7a…</td><td>2020-05-18 18:24:10</td><td>760</td><td>182</td><td>false</td><td>&quot;Сбор и обработка данных с помо…</td><td>&quot;Язык SQL&quot;</td><td>&quot;Принятие решений в условиях ри…</td><td>&quot;Промышленное программирование …</td><td>&quot;Дополнительные главы прикладно…</td><td>&quot;Анализ данных в бизнесе&quot;</td><td>true</td><td>0.013453</td><td>0</td><td>&quot;&quot;</td><td>true</td><td>1</td><td>[&quot;Сбор и обработка данных с помощью краудсорсинга&quot;]</td><td>[&quot;Язык SQL&quot;]</td><td>[&quot;Принятие решений в условиях риска и неопределённости&quot;]</td><td>&quot;Сбор и обработка данных с помо…</td><td>&quot;???&quot;</td></tr><tr><td>&quot;67e4ec4fe5c0601815692fbd6d403f…</td><td>2020-05-18 22:20:02</td><td>1335</td><td>0</td><td>false</td><td>&quot;Байесовские методы машинного о…</td><td>&quot;Глубинное обучение в обработке…</td><td>&quot;Statistical Learning Theory&quot;</td><td>&quot;Обучение с подкреплением&quot;</td><td>&quot;Проектирование и разработка вы…</td><td>&quot;Генеративные модели в машинном…</td><td>true</td><td>0.014493</td><td>171</td><td>&quot;DevOps&quot;</td><td>false</td><td>2</td><td>[&quot;Байесовские методы машинного обучения&quot;, &quot;Глубинное обучение в обработке звука&quot;]</td><td>[&quot;Statistical Learning Theory&quot;]</td><td>[]</td><td>&quot;Глубинное обучение в обработке…</td><td>&quot;Байесовские методы машинного о…</td></tr><tr><td>&quot;723d5f32b699c971b4095a017c883f…</td><td>2020-05-18 21:59:48</td><td>759</td><td>184</td><td>false</td><td>&quot;Statistical Learning Theory&quot;</td><td>&quot;Безопасность компьютерных сист…</td><td>&quot;Матричные вычисления&quot;</td><td>&quot;Дополнительные главы прикладно…</td><td>&quot;Дискретная оптимизация&quot;</td><td>&quot;Численные методы&quot;</td><td>true</td><td>0.017937</td><td>0</td><td>&quot;&quot;</td><td>true</td><td>1</td><td>[&quot;Statistical Learning Theory&quot;]</td><td>[&quot;Безопасность компьютерных систем&quot;]</td><td>[&quot;Матричные вычисления&quot;]</td><td>&quot;Statistical Learning Theory&quot;</td><td>&quot;???&quot;</td></tr><tr><td>&quot;b3cbd3541c0cf66ff4eb2bc1596bb1…</td><td>2020-05-17 11:31:43</td><td>1333</td><td>0</td><td>false</td><td>&quot;Байесовские методы машинного о…</td><td>&quot;Statistical Learning Theory&quot;</td><td>&quot;Моделирование временных рядов&quot;</td><td>&quot;Символьные вычисления&quot;</td><td>&quot;Обучение с подкреплением&quot;</td><td>&quot;Генеративные модели в машинном…</td><td>true</td><td>0.021739</td><td>173</td><td>&quot;Соревновательный анализ данных&quot;</td><td>false</td><td>2</td><td>[&quot;Байесовские методы машинного обучения&quot;, &quot;Statistical Learning Theory&quot;]</td><td>[&quot;Моделирование временных рядов&quot;]</td><td>[]</td><td>&quot;Statistical Learning Theory&quot;</td><td>&quot;Байесовские методы машинного о…</td></tr><tr><td>&quot;bfe75c08c6b7e31d4e7d48c9c5fed6…</td><td>2020-05-18 17:22:56</td><td>758</td><td>182</td><td>false</td><td>&quot;Безопасность компьютерных сист…</td><td>&quot;Statistical Learning Theory&quot;</td><td>&quot;Матричные вычисления&quot;</td><td>&quot;Дискретная оптимизация&quot;</td><td>&quot;Промышленное программирование …</td><td>&quot;Дополнительные главы прикладно…</td><td>true</td><td>0.022422</td><td>0</td><td>&quot;&quot;</td><td>true</td><td>1</td><td>[&quot;Безопасность компьютерных систем&quot;]</td><td>[&quot;Statistical Learning Theory&quot;]</td><td>[&quot;Матричные вычисления&quot;]</td><td>&quot;Безопасность компьютерных сист…</td><td>&quot;???&quot;</td></tr></tbody></table></div>"
            ]
          },
          "metadata": {},
          "execution_count": 57
        }
      ],
      "source": [
        "# Теперь можно распределять\n",
        "# Я буду итерироваться сначала по каждому курсу, фильтровать по нему,\n",
        "# затем итерироваться по 3-м волнам отбора и записыватьстудентов на курсы\n",
        "# (Эти циклы разрешены по условию задачи)\n",
        "\n",
        "course_to_slots = {course: 30 for course in unique_fall} # словарь курс - количество свободных мест. (Итерация по курсам разрешена)\n",
        "\n",
        "# Я вспомнил о том, что не у всех 30 через нескольких дней попыток...\n",
        "course_to_slots[\"Statistical Learning Theory\"] = 60\n",
        "course_to_slots[\"Высокопроизводительные вычисления\"] = 60\n",
        "course_to_slots[\"Анализ неструктурированных данных\"] = 999999999999999 # больше чем студентов (иначе head(inf) упадёт)\n",
        "\n",
        "\n",
        "df_wave_1 = df.clone()\n",
        "\n",
        "for wave in range(1,1+1): # итерации от 1-го до 1-й (по волнам отбора можно). Оставил, чтобы можно былои менять количество волн\n",
        "    for course in unique_fall: # итерации по 12-ти осенним курсам (по условию тоже можно)\n",
        "        # df для курса и волны\n",
        "        course_df = df_wave_1.filter(pl.col(f\"f_{wave}\").list.contains(pl.lit(course)))\n",
        "\n",
        "        # свободные слоты на course\n",
        "        slots = course_to_slots[course]\n",
        "        if slots > 0:\n",
        "            # Записанные на курс\n",
        "            enrolled = course_df.filter((pl.col(\"course1\") == \"???\") | ((pl.col(\"course2\") == \"???\") & (pl.col(\"fall_courses_amount\") == 2))).sort(by=\"percentile\").head(slots)\n",
        "\n",
        "            # Добавляю в датафрейм записанных на курс название курса в столбец course1,\n",
        "            # если он свободен, иначе запишу название в course2\n",
        "\n",
        "            enrolled = enrolled.with_columns(\n",
        "                pl.when((pl.col(\"course1\") == \"???\"))\n",
        "                .then(pl.lit(course))\n",
        "                .otherwise(pl.col(\"course1\"))\n",
        "                .alias(\"course1\"),\n",
        "\n",
        "                pl.when((pl.col(\"fall_courses_amount\") == 2)\n",
        "                    & (pl.col(\"course1\") != \"???\")\n",
        "                    & (pl.col(\"course1\") != pl.lit(course))\n",
        "                    & (pl.col(\"course2\") == \"???\")\n",
        "                )\n",
        "                .then(pl.lit(course))\n",
        "                .otherwise(pl.col(\"course2\"))\n",
        "                .alias(\"course2\")\n",
        "            )\n",
        "\n",
        "            # обновляю информацию по количеству свободных мест\n",
        "            course_to_slots[course] -= enrolled.select(pl.len()).item()\n",
        "\n",
        "            # Добавление записанных на курс в итоговую таблицу\n",
        "            df_wave_1 = pl.concat([df_wave_1, enrolled]).group_by(\"id\").agg(pl.all().last())\n",
        "df_wave_1.sort(\"percentile\").head(10)\n"
      ]
    },
    {
      "cell_type": "markdown",
      "metadata": {
        "id": "YtFzmI0q3JKv"
      },
      "source": [
        "Здесь для проверки приведена таблица, в которой есть 2 дополнительные колонки:\n",
        "    \n",
        "    1) is_first_place - является ли студент лучшим по перцентили хотя бы на одном из курсов, куда он был зачислен\n",
        "    (True / NaN)\n",
        "    \n",
        "    2) is_last_place  - является ли студент худшим по перцентили хотя бы на одном из курсов, куда он был зачислен (True / NaN)"
      ]
    },
    {
      "cell_type": "code",
      "execution_count": 58,
      "metadata": {
        "colab": {
          "base_uri": "https://localhost:8080/",
          "height": 917
        },
        "id": "of0C7cPvsLC-",
        "outputId": "8aadf307-c2d6-4a7e-be45-8e10f0498cd3"
      },
      "outputs": [
        {
          "output_type": "execute_result",
          "data": {
            "text/plain": [
              "shape: (10, 24)\n",
              "┌────────────┬────────────┬────────┬──────────┬───┬────────────┬───────────┬───────────┬───────────┐\n",
              "│ id         ┆ timestamp  ┆ rating ┆ 18_group ┆ … ┆ course1    ┆ course2   ┆ is_first_ ┆ is_last_p │\n",
              "│ ---        ┆ ---        ┆ ---    ┆ ---      ┆   ┆ ---        ┆ ---       ┆ place     ┆ lace      │\n",
              "│ str        ┆ datetime[μ ┆ i64    ┆ i64      ┆   ┆ str        ┆ str       ┆ ---       ┆ ---       │\n",
              "│            ┆ s]         ┆        ┆          ┆   ┆            ┆           ┆ bool      ┆ bool      │\n",
              "╞════════════╪════════════╪════════╪══════════╪═══╪════════════╪═══════════╪═══════════╪═══════════╡\n",
              "│ c1e88502b6 ┆ 2020-05-17 ┆ 985    ┆ 0        ┆ … ┆ Анализ нес ┆ Моделиров ┆ null      ┆ true      │\n",
              "│ 673d22c38e ┆ 18:04:39   ┆        ┆          ┆   ┆ труктуриро ┆ ание      ┆           ┆           │\n",
              "│ e1352e3a1d ┆            ┆        ┆          ┆   ┆ ванных     ┆ временных ┆           ┆           │\n",
              "│ …          ┆            ┆        ┆          ┆   ┆ дан…       ┆ рядов     ┆           ┆           │\n",
              "│ af20596134 ┆ 2020-05-15 ┆ 519    ┆ 182      ┆ … ┆ Statistica ┆ ???       ┆ null      ┆ true      │\n",
              "│ e83f3ca612 ┆ 19:44:33   ┆        ┆          ┆   ┆ l Learning ┆           ┆           ┆           │\n",
              "│ 59b325aa96 ┆            ┆        ┆          ┆   ┆ Theory     ┆           ┆           ┆           │\n",
              "│ …          ┆            ┆        ┆          ┆   ┆            ┆           ┆           ┆           │\n",
              "│ bd416140ec ┆ 2020-05-20 ┆ 518    ┆ 185      ┆ … ┆ ???        ┆ ???       ┆ null      ┆ null      │\n",
              "│ db32b6dbd7 ┆ 11:49:38   ┆        ┆          ┆   ┆            ┆           ┆           ┆           │\n",
              "│ f40820bf63 ┆            ┆        ┆          ┆   ┆            ┆           ┆           ┆           │\n",
              "│ …          ┆            ┆        ┆          ┆   ┆            ┆           ┆           ┆           │\n",
              "│ f2e1cfc27a ┆ 2020-05-18 ┆ 981    ┆ 0        ┆ … ┆ Принятие   ┆ ???       ┆ null      ┆ null      │\n",
              "│ 724879ac2a ┆ 18:22:26   ┆        ┆          ┆   ┆ решений в  ┆           ┆           ┆           │\n",
              "│ 8c98004c14 ┆            ┆        ┆          ┆   ┆ условиях   ┆           ┆           ┆           │\n",
              "│ …          ┆            ┆        ┆          ┆   ┆ ри…        ┆           ┆           ┆           │\n",
              "│ f5d9f99cb8 ┆ 2020-05-18 ┆ 516    ┆ 187      ┆ … ┆ ???        ┆ ???       ┆ null      ┆ null      │\n",
              "│ 76ca0888d1 ┆ 19:36:51   ┆        ┆          ┆   ┆            ┆           ┆           ┆           │\n",
              "│ 8b6e444fa1 ┆            ┆        ┆          ┆   ┆            ┆           ┆           ┆           │\n",
              "│ …          ┆            ┆        ┆          ┆   ┆            ┆           ┆           ┆           │\n",
              "│ 79d14db48e ┆ 2020-05-23 ┆ 966    ┆ 0        ┆ … ┆ Принятие   ┆ ???       ┆ null      ┆ null      │\n",
              "│ 4737af7319 ┆ 21:16:40   ┆        ┆          ┆   ┆ решений в  ┆           ┆           ┆           │\n",
              "│ 60ae212d51 ┆            ┆        ┆          ┆   ┆ условиях   ┆           ┆           ┆           │\n",
              "│ …          ┆            ┆        ┆          ┆   ┆ ри…        ┆           ┆           ┆           │\n",
              "│ 40b18d4019 ┆ 2020-05-18 ┆ 515    ┆ 188      ┆ … ┆ ???        ┆ ???       ┆ null      ┆ null      │\n",
              "│ 7e3db66312 ┆ 22:29:14   ┆        ┆          ┆   ┆            ┆           ┆           ┆           │\n",
              "│ a026e06b8f ┆            ┆        ┆          ┆   ┆            ┆           ┆           ┆           │\n",
              "│ …          ┆            ┆        ┆          ┆   ┆            ┆           ┆           ┆           │\n",
              "│ be4fa2120d ┆ 2020-05-18 ┆ 502    ┆ 187      ┆ … ┆ ???        ┆ ???       ┆ null      ┆ null      │\n",
              "│ e3397ae21e ┆ 21:12:00   ┆        ┆          ┆   ┆            ┆           ┆           ┆           │\n",
              "│ ac38ff0060 ┆            ┆        ┆          ┆   ┆            ┆           ┆           ┆           │\n",
              "│ …          ┆            ┆        ┆          ┆   ┆            ┆           ┆           ┆           │\n",
              "│ d539461bf2 ┆ 2020-05-18 ┆ 964    ┆ 0        ┆ … ┆ Анализ нес ┆ ???       ┆ null      ┆ true      │\n",
              "│ 54cf8b3201 ┆ 23:12:29   ┆        ┆          ┆   ┆ труктуриро ┆           ┆           ┆           │\n",
              "│ cdf7990b11 ┆            ┆        ┆          ┆   ┆ ванных     ┆           ┆           ┆           │\n",
              "│ …          ┆            ┆        ┆          ┆   ┆ дан…       ┆           ┆           ┆           │\n",
              "│ 7a21ef645e ┆ 2020-05-20 ┆ 495    ┆ 188      ┆ … ┆ Принятие   ┆ ???       ┆ null      ┆ true      │\n",
              "│ cb42198be4 ┆ 11:34:10   ┆        ┆          ┆   ┆ решений в  ┆           ┆           ┆           │\n",
              "│ 93dd65320e ┆            ┆        ┆          ┆   ┆ условиях   ┆           ┆           ┆           │\n",
              "│ …          ┆            ┆        ┆          ┆   ┆ ри…        ┆           ┆           ┆           │\n",
              "└────────────┴────────────┴────────┴──────────┴───┴────────────┴───────────┴───────────┴───────────┘"
            ],
            "text/html": [
              "<div><style>\n",
              ".dataframe > thead > tr,\n",
              ".dataframe > tbody > tr {\n",
              "  text-align: right;\n",
              "  white-space: pre-wrap;\n",
              "}\n",
              "</style>\n",
              "<small>shape: (10, 24)</small><table border=\"1\" class=\"dataframe\"><thead><tr><th>id</th><th>timestamp</th><th>rating</th><th>18_group</th><th>is_mi</th><th>fall_1</th><th>fall_2</th><th>fall_3</th><th>spring_1</th><th>spring_2</th><th>spring_3</th><th>is_first_time</th><th>percentile</th><th>17_group</th><th>blended</th><th>is_ml_student</th><th>fall_courses_amount</th><th>f_1</th><th>f_2</th><th>f_3</th><th>course1</th><th>course2</th><th>is_first_place</th><th>is_last_place</th></tr><tr><td>str</td><td>datetime[μs]</td><td>i64</td><td>i64</td><td>bool</td><td>str</td><td>str</td><td>str</td><td>str</td><td>str</td><td>str</td><td>bool</td><td>f64</td><td>i64</td><td>str</td><td>bool</td><td>i32</td><td>list[str]</td><td>list[str]</td><td>list[str]</td><td>str</td><td>str</td><td>bool</td><td>bool</td></tr></thead><tbody><tr><td>&quot;c1e88502b6673d22c38ee1352e3a1d…</td><td>2020-05-17 18:04:39</td><td>985</td><td>0</td><td>false</td><td>&quot;Анализ неструктурированных дан…</td><td>&quot;Моделирование временных рядов&quot;</td><td>&quot;Сбор и обработка данных с помо…</td><td>&quot;Обучение с подкреплением&quot;</td><td>&quot;Компьютерное зрение&quot;</td><td>&quot;Генеративные модели в машинном…</td><td>true</td><td>0.971014</td><td>172</td><td>&quot;Соревновательный анализ данных&quot;</td><td>false</td><td>2</td><td>[&quot;Анализ неструктурированных данных&quot;, &quot;Моделирование временных рядов&quot;]</td><td>[&quot;Сбор и обработка данных с помощью краудсорсинга&quot;]</td><td>[]</td><td>&quot;Анализ неструктурированных дан…</td><td>&quot;Моделирование временных рядов&quot;</td><td>null</td><td>true</td></tr><tr><td>&quot;af20596134e83f3ca61259b325aa96…</td><td>2020-05-15 19:44:33</td><td>519</td><td>182</td><td>false</td><td>&quot;Statistical Learning Theory&quot;</td><td>&quot;Сбор и обработка данных с помо…</td><td>&quot;Высокопроизводительные вычисле…</td><td>&quot;Машинное обучение 2&quot;</td><td>&quot;Дополнительные главы прикладно…</td><td>&quot;Анализ данных в бизнесе&quot;</td><td>true</td><td>0.973094</td><td>0</td><td>&quot;&quot;</td><td>false</td><td>1</td><td>[&quot;Statistical Learning Theory&quot;]</td><td>[&quot;Сбор и обработка данных с помощью краудсорсинга&quot;]</td><td>[&quot;Высокопроизводительные вычисления&quot;]</td><td>&quot;Statistical Learning Theory&quot;</td><td>&quot;???&quot;</td><td>null</td><td>true</td></tr><tr><td>&quot;bd416140ecdb32b6dbd7f40820bf63…</td><td>2020-05-20 11:49:38</td><td>518</td><td>185</td><td>false</td><td>&quot;Безопасность компьютерных сист…</td><td>&quot;Теория баз данных&quot;</td><td>&quot;Язык SQL&quot;</td><td>&quot;Машинное обучение 2&quot;</td><td>&quot;Компьютерные сети&quot;</td><td>&quot;Промышленное программирование …</td><td>true</td><td>0.977578</td><td>0</td><td>&quot;&quot;</td><td>false</td><td>1</td><td>[&quot;Безопасность компьютерных систем&quot;]</td><td>[&quot;Теория баз данных&quot;]</td><td>[&quot;Язык SQL&quot;]</td><td>&quot;???&quot;</td><td>&quot;???&quot;</td><td>null</td><td>null</td></tr><tr><td>&quot;f2e1cfc27a724879ac2a8c98004c14…</td><td>2020-05-18 18:22:26</td><td>981</td><td>0</td><td>false</td><td>&quot;Принятие решений в условиях ри…</td><td>&quot;Моделирование временных рядов&quot;</td><td>&quot;Глубинное обучение в обработке…</td><td>&quot;Обучение с подкреплением&quot;</td><td>&quot;Компьютерное зрение&quot;</td><td>&quot;Методы сжатия и передачи медиа…</td><td>true</td><td>0.978261</td><td>173</td><td>&quot;DevOps&quot;</td><td>false</td><td>2</td><td>[&quot;Принятие решений в условиях риска и неопределённости&quot;, &quot;Моделирование временных рядов&quot;]</td><td>[&quot;Глубинное обучение в обработке звука&quot;]</td><td>[]</td><td>&quot;Принятие решений в условиях ри…</td><td>&quot;???&quot;</td><td>null</td><td>null</td></tr><tr><td>&quot;f5d9f99cb876ca0888d18b6e444fa1…</td><td>2020-05-18 19:36:51</td><td>516</td><td>187</td><td>false</td><td>&quot;Сбор и обработка данных с помо…</td><td>&quot;Язык SQL&quot;</td><td>&quot;Теория баз данных&quot;</td><td>&quot;Промышленное программирование …</td><td>&quot;Машинное обучение 2&quot;</td><td>&quot;Компьютерные сети&quot;</td><td>false</td><td>0.982063</td><td>0</td><td>&quot;&quot;</td><td>false</td><td>1</td><td>[&quot;Сбор и обработка данных с помощью краудсорсинга&quot;]</td><td>[&quot;Язык SQL&quot;]</td><td>[&quot;Теория баз данных&quot;]</td><td>&quot;???&quot;</td><td>&quot;???&quot;</td><td>null</td><td>null</td></tr><tr><td>&quot;79d14db48e4737af731960ae212d51…</td><td>2020-05-23 21:16:40</td><td>966</td><td>0</td><td>false</td><td>&quot;Безопасность компьютерных сист…</td><td>&quot;Принятие решений в условиях ри…</td><td>&quot;Анализ неструктурированных дан…</td><td>&quot;Проектирование и разработка вы…</td><td>&quot;Методы сжатия и передачи медиа…</td><td>&quot;Компьютерное зрение&quot;</td><td>true</td><td>0.985507</td><td>172</td><td>&quot;DevOps&quot;</td><td>false</td><td>2</td><td>[&quot;Безопасность компьютерных систем&quot;, &quot;Принятие решений в условиях риска и неопределённости&quot;]</td><td>[&quot;Анализ неструктурированных данных&quot;]</td><td>[]</td><td>&quot;Принятие решений в условиях ри…</td><td>&quot;???&quot;</td><td>null</td><td>null</td></tr><tr><td>&quot;40b18d40197e3db66312a026e06b8f…</td><td>2020-05-18 22:29:14</td><td>515</td><td>188</td><td>false</td><td>&quot;Безопасность компьютерных сист…</td><td>&quot;Язык SQL&quot;</td><td>&quot;Сбор и обработка данных с помо…</td><td>&quot;Промышленное программирование …</td><td>&quot;Компьютерные сети&quot;</td><td>&quot;Анализ данных в бизнесе&quot;</td><td>false</td><td>0.986547</td><td>0</td><td>&quot;&quot;</td><td>false</td><td>1</td><td>[&quot;Безопасность компьютерных систем&quot;]</td><td>[&quot;Язык SQL&quot;]</td><td>[&quot;Сбор и обработка данных с помощью краудсорсинга&quot;]</td><td>&quot;???&quot;</td><td>&quot;???&quot;</td><td>null</td><td>null</td></tr><tr><td>&quot;be4fa2120de3397ae21eac38ff0060…</td><td>2020-05-18 21:12:00</td><td>502</td><td>187</td><td>false</td><td>&quot;Безопасность компьютерных сист…</td><td>&quot;Язык SQL&quot;</td><td>&quot;Матричные вычисления&quot;</td><td>&quot;Промышленное программирование …</td><td>&quot;Численные методы&quot;</td><td>&quot;Машинное обучение 2&quot;</td><td>true</td><td>0.991031</td><td>0</td><td>&quot;&quot;</td><td>false</td><td>1</td><td>[&quot;Безопасность компьютерных систем&quot;]</td><td>[&quot;Язык SQL&quot;]</td><td>[&quot;Матричные вычисления&quot;]</td><td>&quot;???&quot;</td><td>&quot;???&quot;</td><td>null</td><td>null</td></tr><tr><td>&quot;d539461bf254cf8b3201cdf7990b11…</td><td>2020-05-18 23:12:29</td><td>964</td><td>0</td><td>false</td><td>&quot;Анализ неструктурированных дан…</td><td>&quot;Глубинное обучение в обработке…</td><td>&quot;Statistical Learning Theory&quot;</td><td>&quot;Обучение с подкреплением&quot;</td><td>&quot;Компьютерное зрение&quot;</td><td>&quot;Проектирование и разработка вы…</td><td>true</td><td>0.992754</td><td>174</td><td>&quot;DevOps&quot;</td><td>false</td><td>1</td><td>[&quot;Анализ неструктурированных данных&quot;]</td><td>[&quot;Глубинное обучение в обработке звука&quot;]</td><td>[&quot;Statistical Learning Theory&quot;]</td><td>&quot;Анализ неструктурированных дан…</td><td>&quot;???&quot;</td><td>null</td><td>true</td></tr><tr><td>&quot;7a21ef645ecb42198be493dd65320e…</td><td>2020-05-20 11:34:10</td><td>495</td><td>188</td><td>false</td><td>&quot;Принятие решений в условиях ри…</td><td>&quot;Язык SQL&quot;</td><td>&quot;Сбор и обработка данных с помо…</td><td>&quot;Анализ данных в бизнесе&quot;</td><td>&quot;Промышленное программирование …</td><td>&quot;Дополнительные главы прикладно…</td><td>true</td><td>0.995516</td><td>0</td><td>&quot;&quot;</td><td>false</td><td>1</td><td>[&quot;Принятие решений в условиях риска и неопределённости&quot;]</td><td>[&quot;Язык SQL&quot;]</td><td>[&quot;Сбор и обработка данных с помощью краудсорсинга&quot;]</td><td>&quot;Принятие решений в условиях ри…</td><td>&quot;???&quot;</td><td>null</td><td>true</td></tr></tbody></table></div>"
            ]
          },
          "metadata": {},
          "execution_count": 58
        }
      ],
      "source": [
        "# Теперь добавлю два бинарных столбца\n",
        "# Буду итерироваться по всем курсам, так как это разрешено\n",
        "\n",
        "df_wave_1 = df_wave_1.with_columns(\n",
        "    pl.lit(None).alias(\"is_first_place\"),\n",
        "    pl.lit(None).alias(\"is_last_place\")\n",
        ")\n",
        "\n",
        "for course in unique_fall:\n",
        "    course_df = df_wave_1.filter((pl.col(\"course1\") == course) | (pl.col(\"course2\") == course))\n",
        "    min_percentile, max_percentile = course_df.select(pl.col(\"percentile\")).min().item(), course_df.select(pl.col(\"percentile\")).max().item()\n",
        "    df_wave_1 = df_wave_1.with_columns(\n",
        "        pl.when(\n",
        "            ((pl.col(\"course1\") == course) | (pl.col(\"course2\") == course)) & (pl.col(\"percentile\") == min_percentile)\n",
        "        ).then(pl.lit(True)).otherwise(pl.col(\"is_first_place\")).alias(\"is_first_place\"),\n",
        "\n",
        "        pl.when(\n",
        "            ((pl.col(\"course1\") == course) | (pl.col(\"course2\") == course)) & (pl.col(\"percentile\") == max_percentile)\n",
        "        ).then(pl.lit(True)).otherwise(pl.col(\"is_last_place\")).alias(\"is_last_place\")\n",
        "\n",
        "    )\n",
        "df_wave_1.sort(\"percentile\").tail(10)\n"
      ]
    },
    {
      "cell_type": "code",
      "execution_count": 59,
      "metadata": {
        "id": "Fdmh053Y3JKw"
      },
      "outputs": [],
      "source": [
        "!wget  -O '2_task_check.csv' -q 'https://www.dropbox.com/s/v8o2zzq3iz5gc9w/_2_task_check.csv?dl=0'\n",
        "check_df = pl.read_csv('2_task_check.csv')"
      ]
    },
    {
      "cell_type": "markdown",
      "metadata": {
        "id": "eA-fUDln3JKw"
      },
      "source": [
        "После распределения студентов в соответствии с первым приоритетом добавьте в свой датафрейм аналогичные признаки и запустите проверку:"
      ]
    },
    {
      "cell_type": "code",
      "execution_count": 60,
      "metadata": {
        "id": "ueNXylC23JKw"
      },
      "outputs": [],
      "source": [
        "fir_col_name =  \"is_first_place\"\n",
        "last_col_name =  \"is_last_place\"\n",
        "\n",
        "assert (check_df.sort(\"id\").select(\"is_first_place\", \"is_last_place\") == df_wave_1.sort(\"id\").select(fir_col_name, last_col_name)).sum().rows() == [(10, 12)]"
      ]
    },
    {
      "cell_type": "markdown",
      "metadata": {
        "id": "qrPM6dpZ3JKw"
      },
      "source": [
        "#### 3. [2 балла] Проведите все три волны отбора студентов на курсы по выбору"
      ]
    },
    {
      "cell_type": "code",
      "execution_count": 61,
      "metadata": {
        "colab": {
          "base_uri": "https://localhost:8080/",
          "height": 900
        },
        "collapsed": true,
        "id": "G_pKJQHo3JKw",
        "outputId": "17831cc2-05ab-49c9-99ea-b5e2f61be2e2"
      },
      "outputs": [
        {
          "output_type": "execute_result",
          "data": {
            "text/plain": [
              "shape: (10, 22)\n",
              "┌────────────┬────────────┬────────┬──────────┬───┬────────────┬───────────┬───────────┬───────────┐\n",
              "│ id         ┆ timestamp  ┆ rating ┆ 18_group ┆ … ┆ f_2        ┆ f_3       ┆ course1   ┆ course2   │\n",
              "│ ---        ┆ ---        ┆ ---    ┆ ---      ┆   ┆ ---        ┆ ---       ┆ ---       ┆ ---       │\n",
              "│ str        ┆ datetime[μ ┆ i64    ┆ i64      ┆   ┆ list[str]  ┆ list[str] ┆ str       ┆ str       │\n",
              "│            ┆ s]         ┆        ┆          ┆   ┆            ┆           ┆           ┆           │\n",
              "╞════════════╪════════════╪════════╪══════════╪═══╪════════════╪═══════════╪═══════════╪═══════════╡\n",
              "│ 3a7326c9e3 ┆ 2020-05-14 ┆ 1457   ┆ 0        ┆ … ┆ [\"Statisti ┆ []        ┆ Statistic ┆ Высокопро │\n",
              "│ 55a67d3805 ┆ 21:52:43   ┆        ┆          ┆   ┆ cal        ┆           ┆ al        ┆ изводител │\n",
              "│ 824ca34c4b ┆            ┆        ┆          ┆   ┆ Learning   ┆           ┆ Learning  ┆ ьные      │\n",
              "│ …          ┆            ┆        ┆          ┆   ┆ Theory\"…   ┆           ┆ Theory    ┆ вычисле…  │\n",
              "│ 3e106aaef8 ┆ 2020-05-18 ┆ 784    ┆ 182      ┆ … ┆ [\"Statisti ┆ [\"Матричн ┆ Безопасно ┆ ???       │\n",
              "│ b24dbb0131 ┆ 17:09:23   ┆        ┆          ┆   ┆ cal        ┆ ые вычисл ┆ сть компь ┆           │\n",
              "│ 9c73e14c29 ┆            ┆        ┆          ┆   ┆ Learning   ┆ ения\"]    ┆ ютерных   ┆           │\n",
              "│ …          ┆            ┆        ┆          ┆   ┆ Theory\"…   ┆           ┆ сист…     ┆           │\n",
              "│ e0ca1a9548 ┆ 2020-05-18 ┆ 764    ┆ 182      ┆ … ┆ [\"Безопасн ┆ [\"Statist ┆ Матричные ┆ ???       │\n",
              "│ af9a3f9842 ┆ 18:03:57   ┆        ┆          ┆   ┆ ость компь ┆ ical      ┆ вычислени ┆           │\n",
              "│ 8c62420aa4 ┆            ┆        ┆          ┆   ┆ ютерных    ┆ Learning  ┆ я         ┆           │\n",
              "│ …          ┆            ┆        ┆          ┆   ┆ си…        ┆ Theory\"…  ┆           ┆           │\n",
              "│ 7fe7df0d20 ┆ 2020-05-18 ┆ 1365   ┆ 0        ┆ … ┆ [\"Сбор и   ┆ [\"Моделир ┆ Высокопро ┆ ???       │\n",
              "│ 7babbf3024 ┆ 12:39:47   ┆        ┆          ┆   ┆ обработка  ┆ ование    ┆ изводител ┆           │\n",
              "│ 9b3063ac1f ┆            ┆        ┆          ┆   ┆ данных с   ┆ временных ┆ ьные      ┆           │\n",
              "│ …          ┆            ┆        ┆          ┆   ┆ по…        ┆ рядо…     ┆ вычисле…  ┆           │\n",
              "│ 86d929f6fd ┆ 2020-05-15 ┆ 761    ┆ 181      ┆ … ┆ [\"Сбор и   ┆ [\"Сбор и  ┆ Сбор и    ┆ ???       │\n",
              "│ 741e56e93c ┆ 21:34:32   ┆        ┆          ┆   ┆ обработка  ┆ обработка ┆ обработка ┆           │\n",
              "│ ee59002988 ┆            ┆        ┆          ┆   ┆ данных с   ┆ данных с  ┆ данных с  ┆           │\n",
              "│ …          ┆            ┆        ┆          ┆   ┆ по…        ┆ по…       ┆ помо…     ┆           │\n",
              "│ 425c2a90f4 ┆ 2020-05-18 ┆ 760    ┆ 182      ┆ … ┆ [\"Язык     ┆ [\"Приняти ┆ Сбор и    ┆ ???       │\n",
              "│ 47620c9a18 ┆ 18:24:10   ┆        ┆          ┆   ┆ SQL\"]      ┆ е решений ┆ обработка ┆           │\n",
              "│ 68e92f0a7a ┆            ┆        ┆          ┆   ┆            ┆ в         ┆ данных с  ┆           │\n",
              "│ …          ┆            ┆        ┆          ┆   ┆            ┆ условиях  ┆ помо…     ┆           │\n",
              "│            ┆            ┆        ┆          ┆   ┆            ┆ …         ┆           ┆           │\n",
              "│ 67e4ec4fe5 ┆ 2020-05-18 ┆ 1335   ┆ 0        ┆ … ┆ [\"Statisti ┆ []        ┆ Глубинное ┆ Байесовск │\n",
              "│ c060181569 ┆ 22:20:02   ┆        ┆          ┆   ┆ cal        ┆           ┆ обучение  ┆ ие методы │\n",
              "│ 2fbd6d403f ┆            ┆        ┆          ┆   ┆ Learning   ┆           ┆ в обработ ┆ машинного │\n",
              "│ …          ┆            ┆        ┆          ┆   ┆ Theory\"…   ┆           ┆ ке…       ┆ о…        │\n",
              "│ 723d5f32b6 ┆ 2020-05-18 ┆ 759    ┆ 184      ┆ … ┆ [\"Безопасн ┆ [\"Матричн ┆ Statistic ┆ ???       │\n",
              "│ 99c971b409 ┆ 21:59:48   ┆        ┆          ┆   ┆ ость компь ┆ ые вычисл ┆ al        ┆           │\n",
              "│ 5a017c883f ┆            ┆        ┆          ┆   ┆ ютерных    ┆ ения\"]    ┆ Learning  ┆           │\n",
              "│ …          ┆            ┆        ┆          ┆   ┆ си…        ┆           ┆ Theory    ┆           │\n",
              "│ b3cbd3541c ┆ 2020-05-17 ┆ 1333   ┆ 0        ┆ … ┆ [\"Моделиро ┆ []        ┆ Statistic ┆ Байесовск │\n",
              "│ 0cf66ff4eb ┆ 11:31:43   ┆        ┆          ┆   ┆ вание      ┆           ┆ al        ┆ ие методы │\n",
              "│ 2bc1596bb1 ┆            ┆        ┆          ┆   ┆ временных  ┆           ┆ Learning  ┆ машинного │\n",
              "│ …          ┆            ┆        ┆          ┆   ┆ рядо…      ┆           ┆ Theory    ┆ о…        │\n",
              "│ bfe75c08c6 ┆ 2020-05-18 ┆ 758    ┆ 182      ┆ … ┆ [\"Statisti ┆ [\"Матричн ┆ Безопасно ┆ ???       │\n",
              "│ b7e31d4e7d ┆ 17:22:56   ┆        ┆          ┆   ┆ cal        ┆ ые вычисл ┆ сть компь ┆           │\n",
              "│ 48c9c5fed6 ┆            ┆        ┆          ┆   ┆ Learning   ┆ ения\"]    ┆ ютерных   ┆           │\n",
              "│ …          ┆            ┆        ┆          ┆   ┆ Theory\"…   ┆           ┆ сист…     ┆           │\n",
              "└────────────┴────────────┴────────┴──────────┴───┴────────────┴───────────┴───────────┴───────────┘"
            ],
            "text/html": [
              "<div><style>\n",
              ".dataframe > thead > tr,\n",
              ".dataframe > tbody > tr {\n",
              "  text-align: right;\n",
              "  white-space: pre-wrap;\n",
              "}\n",
              "</style>\n",
              "<small>shape: (10, 22)</small><table border=\"1\" class=\"dataframe\"><thead><tr><th>id</th><th>timestamp</th><th>rating</th><th>18_group</th><th>is_mi</th><th>fall_1</th><th>fall_2</th><th>fall_3</th><th>spring_1</th><th>spring_2</th><th>spring_3</th><th>is_first_time</th><th>percentile</th><th>17_group</th><th>blended</th><th>is_ml_student</th><th>fall_courses_amount</th><th>f_1</th><th>f_2</th><th>f_3</th><th>course1</th><th>course2</th></tr><tr><td>str</td><td>datetime[μs]</td><td>i64</td><td>i64</td><td>bool</td><td>str</td><td>str</td><td>str</td><td>str</td><td>str</td><td>str</td><td>bool</td><td>f64</td><td>i64</td><td>str</td><td>bool</td><td>i32</td><td>list[str]</td><td>list[str]</td><td>list[str]</td><td>str</td><td>str</td></tr></thead><tbody><tr><td>&quot;3a7326c9e355a67d3805824ca34c4b…</td><td>2020-05-14 21:52:43</td><td>1457</td><td>0</td><td>false</td><td>&quot;Statistical Learning Theory&quot;</td><td>&quot;Высокопроизводительные вычисле…</td><td>&quot;Statistical Learning Theory&quot;</td><td>&quot;Символьные вычисления&quot;</td><td>&quot;Численные методы&quot;</td><td>&quot;Символьные вычисления&quot;</td><td>true</td><td>0.0</td><td>173</td><td>&quot;Введение в дифференциальную ге…</td><td>false</td><td>2</td><td>[&quot;Statistical Learning Theory&quot;, &quot;Высокопроизводительные вычисления&quot;]</td><td>[&quot;Statistical Learning Theory&quot;]</td><td>[]</td><td>&quot;Statistical Learning Theory&quot;</td><td>&quot;Высокопроизводительные вычисле…</td></tr><tr><td>&quot;3e106aaef8b24dbb01319c73e14c29…</td><td>2020-05-18 17:09:23</td><td>784</td><td>182</td><td>false</td><td>&quot;Безопасность компьютерных сист…</td><td>&quot;Statistical Learning Theory&quot;</td><td>&quot;Матричные вычисления&quot;</td><td>&quot;Дискретная оптимизация&quot;</td><td>&quot;Промышленное программирование …</td><td>&quot;Дополнительные главы прикладно…</td><td>true</td><td>0.0</td><td>0</td><td>&quot;&quot;</td><td>true</td><td>1</td><td>[&quot;Безопасность компьютерных систем&quot;]</td><td>[&quot;Statistical Learning Theory&quot;]</td><td>[&quot;Матричные вычисления&quot;]</td><td>&quot;Безопасность компьютерных сист…</td><td>&quot;???&quot;</td></tr><tr><td>&quot;e0ca1a9548af9a3f98428c62420aa4…</td><td>2020-05-18 18:03:57</td><td>764</td><td>182</td><td>false</td><td>&quot;Матричные вычисления&quot;</td><td>&quot;Безопасность компьютерных сист…</td><td>&quot;Statistical Learning Theory&quot;</td><td>&quot;Дискретная оптимизация&quot;</td><td>&quot;Дополнительные главы прикладно…</td><td>&quot;Машинное обучение 2&quot;</td><td>true</td><td>0.004484</td><td>0</td><td>&quot;&quot;</td><td>false</td><td>1</td><td>[&quot;Матричные вычисления&quot;]</td><td>[&quot;Безопасность компьютерных систем&quot;]</td><td>[&quot;Statistical Learning Theory&quot;]</td><td>&quot;Матричные вычисления&quot;</td><td>&quot;???&quot;</td></tr><tr><td>&quot;7fe7df0d207babbf30249b3063ac1f…</td><td>2020-05-18 12:39:47</td><td>1365</td><td>0</td><td>false</td><td>&quot;Высокопроизводительные вычисле…</td><td>&quot;Сбор и обработка данных с помо…</td><td>&quot;Моделирование временных рядов&quot;</td><td>&quot;Проектирование и разработка вы…</td><td>&quot;Методы сжатия и передачи медиа…</td><td>&quot;Методы сжатия и передачи медиа…</td><td>true</td><td>0.007246</td><td>175</td><td>&quot;DevOps&quot;</td><td>false</td><td>1</td><td>[&quot;Высокопроизводительные вычисления&quot;]</td><td>[&quot;Сбор и обработка данных с помощью краудсорсинга&quot;]</td><td>[&quot;Моделирование временных рядов&quot;]</td><td>&quot;Высокопроизводительные вычисле…</td><td>&quot;???&quot;</td></tr><tr><td>&quot;86d929f6fd741e56e93cee59002988…</td><td>2020-05-15 21:34:32</td><td>761</td><td>181</td><td>false</td><td>&quot;Сбор и обработка данных с помо…</td><td>&quot;Сбор и обработка данных с помо…</td><td>&quot;Сбор и обработка данных с помо…</td><td>&quot;Дополнительные главы прикладно…</td><td>&quot;Дополнительные главы прикладно…</td><td>&quot;Дополнительные главы прикладно…</td><td>true</td><td>0.008969</td><td>0</td><td>&quot;&quot;</td><td>false</td><td>1</td><td>[&quot;Сбор и обработка данных с помощью краудсорсинга&quot;]</td><td>[&quot;Сбор и обработка данных с помощью краудсорсинга&quot;]</td><td>[&quot;Сбор и обработка данных с помощью краудсорсинга&quot;]</td><td>&quot;Сбор и обработка данных с помо…</td><td>&quot;???&quot;</td></tr><tr><td>&quot;425c2a90f447620c9a1868e92f0a7a…</td><td>2020-05-18 18:24:10</td><td>760</td><td>182</td><td>false</td><td>&quot;Сбор и обработка данных с помо…</td><td>&quot;Язык SQL&quot;</td><td>&quot;Принятие решений в условиях ри…</td><td>&quot;Промышленное программирование …</td><td>&quot;Дополнительные главы прикладно…</td><td>&quot;Анализ данных в бизнесе&quot;</td><td>true</td><td>0.013453</td><td>0</td><td>&quot;&quot;</td><td>true</td><td>1</td><td>[&quot;Сбор и обработка данных с помощью краудсорсинга&quot;]</td><td>[&quot;Язык SQL&quot;]</td><td>[&quot;Принятие решений в условиях риска и неопределённости&quot;]</td><td>&quot;Сбор и обработка данных с помо…</td><td>&quot;???&quot;</td></tr><tr><td>&quot;67e4ec4fe5c0601815692fbd6d403f…</td><td>2020-05-18 22:20:02</td><td>1335</td><td>0</td><td>false</td><td>&quot;Байесовские методы машинного о…</td><td>&quot;Глубинное обучение в обработке…</td><td>&quot;Statistical Learning Theory&quot;</td><td>&quot;Обучение с подкреплением&quot;</td><td>&quot;Проектирование и разработка вы…</td><td>&quot;Генеративные модели в машинном…</td><td>true</td><td>0.014493</td><td>171</td><td>&quot;DevOps&quot;</td><td>false</td><td>2</td><td>[&quot;Байесовские методы машинного обучения&quot;, &quot;Глубинное обучение в обработке звука&quot;]</td><td>[&quot;Statistical Learning Theory&quot;]</td><td>[]</td><td>&quot;Глубинное обучение в обработке…</td><td>&quot;Байесовские методы машинного о…</td></tr><tr><td>&quot;723d5f32b699c971b4095a017c883f…</td><td>2020-05-18 21:59:48</td><td>759</td><td>184</td><td>false</td><td>&quot;Statistical Learning Theory&quot;</td><td>&quot;Безопасность компьютерных сист…</td><td>&quot;Матричные вычисления&quot;</td><td>&quot;Дополнительные главы прикладно…</td><td>&quot;Дискретная оптимизация&quot;</td><td>&quot;Численные методы&quot;</td><td>true</td><td>0.017937</td><td>0</td><td>&quot;&quot;</td><td>true</td><td>1</td><td>[&quot;Statistical Learning Theory&quot;]</td><td>[&quot;Безопасность компьютерных систем&quot;]</td><td>[&quot;Матричные вычисления&quot;]</td><td>&quot;Statistical Learning Theory&quot;</td><td>&quot;???&quot;</td></tr><tr><td>&quot;b3cbd3541c0cf66ff4eb2bc1596bb1…</td><td>2020-05-17 11:31:43</td><td>1333</td><td>0</td><td>false</td><td>&quot;Байесовские методы машинного о…</td><td>&quot;Statistical Learning Theory&quot;</td><td>&quot;Моделирование временных рядов&quot;</td><td>&quot;Символьные вычисления&quot;</td><td>&quot;Обучение с подкреплением&quot;</td><td>&quot;Генеративные модели в машинном…</td><td>true</td><td>0.021739</td><td>173</td><td>&quot;Соревновательный анализ данных&quot;</td><td>false</td><td>2</td><td>[&quot;Байесовские методы машинного обучения&quot;, &quot;Statistical Learning Theory&quot;]</td><td>[&quot;Моделирование временных рядов&quot;]</td><td>[]</td><td>&quot;Statistical Learning Theory&quot;</td><td>&quot;Байесовские методы машинного о…</td></tr><tr><td>&quot;bfe75c08c6b7e31d4e7d48c9c5fed6…</td><td>2020-05-18 17:22:56</td><td>758</td><td>182</td><td>false</td><td>&quot;Безопасность компьютерных сист…</td><td>&quot;Statistical Learning Theory&quot;</td><td>&quot;Матричные вычисления&quot;</td><td>&quot;Дискретная оптимизация&quot;</td><td>&quot;Промышленное программирование …</td><td>&quot;Дополнительные главы прикладно…</td><td>true</td><td>0.022422</td><td>0</td><td>&quot;&quot;</td><td>true</td><td>1</td><td>[&quot;Безопасность компьютерных систем&quot;]</td><td>[&quot;Statistical Learning Theory&quot;]</td><td>[&quot;Матричные вычисления&quot;]</td><td>&quot;Безопасность компьютерных сист…</td><td>&quot;???&quot;</td></tr></tbody></table></div>"
            ]
          },
          "metadata": {},
          "execution_count": 61
        }
      ],
      "source": [
        "df_full_fall = df.clone()\n",
        "\n",
        "\n",
        "course_to_slots = {course: 30 for course in unique_fall} # словарь курс - количество свободных мест. (Итерация по курсам разрешена)\n",
        "\n",
        "course_to_slots[\"Statistical Learning Theory\"] = 60\n",
        "course_to_slots[\"Высокопроизводительные вычисления\"] = 60\n",
        "course_to_slots[\"Анализ неструктурированных данных\"] = 999999999999999\n",
        "\n",
        "\n",
        "for wave in range(1,3+1): # итерации от 1-го до 1-й (по волнам отбора можно). Оставил, чтобы можно былои менять количество волн\n",
        "    for course in unique_fall: # итерации по 12-ти осенним курсам (по условию тоже можно)\n",
        "        # df для курса и волны\n",
        "        course_df = df_full_fall.filter(pl.col(f\"f_{wave}\").list.contains(pl.lit(course)))\n",
        "\n",
        "        # свободные слоты на course\n",
        "        slots = course_to_slots[course]\n",
        "        if slots > 0:\n",
        "            # Записанные на курс\n",
        "            enrolled = course_df.filter((pl.col(\"course1\") == \"???\") | ((pl.col(\"course2\") == \"???\") & (pl.col(\"fall_courses_amount\") == 2) & (pl.col(\"course1\") != pl.lit(course)))).sort(by=\"percentile\").head(slots)\n",
        "\n",
        "            # Добавляю в датафрейм записанных на курс название курса в столбец course1,\n",
        "            # если он свободен, иначе запишу название в course2\n",
        "\n",
        "            enrolled = enrolled.with_columns(\n",
        "                pl.when((pl.col(\"course1\") == \"???\"))\n",
        "                .then(pl.lit(course))\n",
        "                .otherwise(pl.col(\"course1\"))\n",
        "                .alias(\"course1\"),\n",
        "\n",
        "                pl.when((pl.col(\"fall_courses_amount\") == 2)\n",
        "                    & (pl.col(\"course1\") != \"???\")\n",
        "                    & (pl.col(\"course1\") != pl.lit(course))\n",
        "                    & (pl.col(\"course2\") == \"???\")\n",
        "                )\n",
        "                .then(pl.lit(course))\n",
        "                .otherwise(pl.col(\"course2\"))\n",
        "                .alias(\"course2\")\n",
        "            )\n",
        "\n",
        "            # обновляю информацию по количеству свободных мест\n",
        "            course_to_slots[course] -= enrolled.select(pl.len()).item()\n",
        "\n",
        "            # Добавление записанных на курс в итоговую таблицу\n",
        "            df_full_fall = pl.concat([df_full_fall, enrolled]).group_by(\"id\").agg(pl.all().last())\n",
        "df_full_fall.sort(\"percentile\").head(10)"
      ]
    },
    {
      "cell_type": "code",
      "source": [
        "# Заменю ??? на - у студентов с одним курсом\n",
        "df_full_fall = df_full_fall.with_columns(\n",
        "    pl.when(pl.col(\"fall_courses_amount\") == 1)\n",
        "    .then(pl.lit(\"-\"))\n",
        "    .otherwise(pl.col(\"course2\"))\n",
        "    .alias(\"course2\")\n",
        ")\n",
        "df_full_fall = df_full_fall.rename({\"id\": \"ID\"})\n",
        "\n",
        "df_full_fall.sort(\"percentile\").tail(10)"
      ],
      "metadata": {
        "colab": {
          "base_uri": "https://localhost:8080/",
          "height": 917
        },
        "id": "FE-UnmE6mA_m",
        "outputId": "39fa1fc8-6853-4a3b-bcd2-eb4f80ed4c61"
      },
      "execution_count": 62,
      "outputs": [
        {
          "output_type": "execute_result",
          "data": {
            "text/plain": [
              "shape: (10, 22)\n",
              "┌────────────┬────────────┬────────┬──────────┬───┬────────────┬───────────┬───────────┬───────────┐\n",
              "│ ID         ┆ timestamp  ┆ rating ┆ 18_group ┆ … ┆ f_2        ┆ f_3       ┆ course1   ┆ course2   │\n",
              "│ ---        ┆ ---        ┆ ---    ┆ ---      ┆   ┆ ---        ┆ ---       ┆ ---       ┆ ---       │\n",
              "│ str        ┆ datetime[μ ┆ i64    ┆ i64      ┆   ┆ list[str]  ┆ list[str] ┆ str       ┆ str       │\n",
              "│            ┆ s]         ┆        ┆          ┆   ┆            ┆           ┆           ┆           │\n",
              "╞════════════╪════════════╪════════╪══════════╪═══╪════════════╪═══════════╪═══════════╪═══════════╡\n",
              "│ c1e88502b6 ┆ 2020-05-17 ┆ 985    ┆ 0        ┆ … ┆ [\"Сбор и   ┆ []        ┆ Анализ    ┆ Моделиров │\n",
              "│ 673d22c38e ┆ 18:04:39   ┆        ┆          ┆   ┆ обработка  ┆           ┆ неструкту ┆ ание      │\n",
              "│ e1352e3a1d ┆            ┆        ┆          ┆   ┆ данных с   ┆           ┆ рированны ┆ временных │\n",
              "│ …          ┆            ┆        ┆          ┆   ┆ по…        ┆           ┆ х дан…    ┆ рядов     │\n",
              "│ af20596134 ┆ 2020-05-15 ┆ 519    ┆ 182      ┆ … ┆ [\"Сбор и   ┆ [\"Высокоп ┆ Statistic ┆ -         │\n",
              "│ e83f3ca612 ┆ 19:44:33   ┆        ┆          ┆   ┆ обработка  ┆ роизводит ┆ al        ┆           │\n",
              "│ 59b325aa96 ┆            ┆        ┆          ┆   ┆ данных с   ┆ ельные    ┆ Learning  ┆           │\n",
              "│ …          ┆            ┆        ┆          ┆   ┆ по…        ┆ вычис…    ┆ Theory    ┆           │\n",
              "│ bd416140ec ┆ 2020-05-20 ┆ 518    ┆ 185      ┆ … ┆ [\"Теория   ┆ [\"Язык    ┆ Теория    ┆ -         │\n",
              "│ db32b6dbd7 ┆ 11:49:38   ┆        ┆          ┆   ┆ баз        ┆ SQL\"]     ┆ баз       ┆           │\n",
              "│ f40820bf63 ┆            ┆        ┆          ┆   ┆ данных\"]   ┆           ┆ данных    ┆           │\n",
              "│ …          ┆            ┆        ┆          ┆   ┆            ┆           ┆           ┆           │\n",
              "│ f2e1cfc27a ┆ 2020-05-18 ┆ 981    ┆ 0        ┆ … ┆ [\"Глубинно ┆ []        ┆ Принятие  ┆ Глубинное │\n",
              "│ 724879ac2a ┆ 18:22:26   ┆        ┆          ┆   ┆ е обучение ┆           ┆ решений в ┆ обучение  │\n",
              "│ 8c98004c14 ┆            ┆        ┆          ┆   ┆ в обработ… ┆           ┆ условиях  ┆ в обработ │\n",
              "│ …          ┆            ┆        ┆          ┆   ┆            ┆           ┆ ри…       ┆ ке…       │\n",
              "│ f5d9f99cb8 ┆ 2020-05-18 ┆ 516    ┆ 187      ┆ … ┆ [\"Язык     ┆ [\"Теория  ┆ Теория    ┆ -         │\n",
              "│ 76ca0888d1 ┆ 19:36:51   ┆        ┆          ┆   ┆ SQL\"]      ┆ баз       ┆ баз       ┆           │\n",
              "│ 8b6e444fa1 ┆            ┆        ┆          ┆   ┆            ┆ данных\"]  ┆ данных    ┆           │\n",
              "│ …          ┆            ┆        ┆          ┆   ┆            ┆           ┆           ┆           │\n",
              "│ 79d14db48e ┆ 2020-05-23 ┆ 966    ┆ 0        ┆ … ┆ [\"Анализ   ┆ []        ┆ Принятие  ┆ Анализ    │\n",
              "│ 4737af7319 ┆ 21:16:40   ┆        ┆          ┆   ┆ неструктур ┆           ┆ решений в ┆ неструкту │\n",
              "│ 60ae212d51 ┆            ┆        ┆          ┆   ┆ ированных  ┆           ┆ условиях  ┆ рированны │\n",
              "│ …          ┆            ┆        ┆          ┆   ┆ д…         ┆           ┆ ри…       ┆ х дан…    │\n",
              "│ 40b18d4019 ┆ 2020-05-18 ┆ 515    ┆ 188      ┆ … ┆ [\"Язык     ┆ [\"Сбор и  ┆ ???       ┆ -         │\n",
              "│ 7e3db66312 ┆ 22:29:14   ┆        ┆          ┆   ┆ SQL\"]      ┆ обработка ┆           ┆           │\n",
              "│ a026e06b8f ┆            ┆        ┆          ┆   ┆            ┆ данных с  ┆           ┆           │\n",
              "│ …          ┆            ┆        ┆          ┆   ┆            ┆ по…       ┆           ┆           │\n",
              "│ be4fa2120d ┆ 2020-05-18 ┆ 502    ┆ 187      ┆ … ┆ [\"Язык     ┆ [\"Матричн ┆ ???       ┆ -         │\n",
              "│ e3397ae21e ┆ 21:12:00   ┆        ┆          ┆   ┆ SQL\"]      ┆ ые вычисл ┆           ┆           │\n",
              "│ ac38ff0060 ┆            ┆        ┆          ┆   ┆            ┆ ения\"]    ┆           ┆           │\n",
              "│ …          ┆            ┆        ┆          ┆   ┆            ┆           ┆           ┆           │\n",
              "│ d539461bf2 ┆ 2020-05-18 ┆ 964    ┆ 0        ┆ … ┆ [\"Глубинно ┆ [\"Statist ┆ Анализ    ┆ -         │\n",
              "│ 54cf8b3201 ┆ 23:12:29   ┆        ┆          ┆   ┆ е обучение ┆ ical      ┆ неструкту ┆           │\n",
              "│ cdf7990b11 ┆            ┆        ┆          ┆   ┆ в обработ… ┆ Learning  ┆ рированны ┆           │\n",
              "│ …          ┆            ┆        ┆          ┆   ┆            ┆ Theory\"…  ┆ х дан…    ┆           │\n",
              "│ 7a21ef645e ┆ 2020-05-20 ┆ 495    ┆ 188      ┆ … ┆ [\"Язык     ┆ [\"Сбор и  ┆ Принятие  ┆ -         │\n",
              "│ cb42198be4 ┆ 11:34:10   ┆        ┆          ┆   ┆ SQL\"]      ┆ обработка ┆ решений в ┆           │\n",
              "│ 93dd65320e ┆            ┆        ┆          ┆   ┆            ┆ данных с  ┆ условиях  ┆           │\n",
              "│ …          ┆            ┆        ┆          ┆   ┆            ┆ по…       ┆ ри…       ┆           │\n",
              "└────────────┴────────────┴────────┴──────────┴───┴────────────┴───────────┴───────────┴───────────┘"
            ],
            "text/html": [
              "<div><style>\n",
              ".dataframe > thead > tr,\n",
              ".dataframe > tbody > tr {\n",
              "  text-align: right;\n",
              "  white-space: pre-wrap;\n",
              "}\n",
              "</style>\n",
              "<small>shape: (10, 22)</small><table border=\"1\" class=\"dataframe\"><thead><tr><th>ID</th><th>timestamp</th><th>rating</th><th>18_group</th><th>is_mi</th><th>fall_1</th><th>fall_2</th><th>fall_3</th><th>spring_1</th><th>spring_2</th><th>spring_3</th><th>is_first_time</th><th>percentile</th><th>17_group</th><th>blended</th><th>is_ml_student</th><th>fall_courses_amount</th><th>f_1</th><th>f_2</th><th>f_3</th><th>course1</th><th>course2</th></tr><tr><td>str</td><td>datetime[μs]</td><td>i64</td><td>i64</td><td>bool</td><td>str</td><td>str</td><td>str</td><td>str</td><td>str</td><td>str</td><td>bool</td><td>f64</td><td>i64</td><td>str</td><td>bool</td><td>i32</td><td>list[str]</td><td>list[str]</td><td>list[str]</td><td>str</td><td>str</td></tr></thead><tbody><tr><td>&quot;c1e88502b6673d22c38ee1352e3a1d…</td><td>2020-05-17 18:04:39</td><td>985</td><td>0</td><td>false</td><td>&quot;Анализ неструктурированных дан…</td><td>&quot;Моделирование временных рядов&quot;</td><td>&quot;Сбор и обработка данных с помо…</td><td>&quot;Обучение с подкреплением&quot;</td><td>&quot;Компьютерное зрение&quot;</td><td>&quot;Генеративные модели в машинном…</td><td>true</td><td>0.971014</td><td>172</td><td>&quot;Соревновательный анализ данных&quot;</td><td>false</td><td>2</td><td>[&quot;Анализ неструктурированных данных&quot;, &quot;Моделирование временных рядов&quot;]</td><td>[&quot;Сбор и обработка данных с помощью краудсорсинга&quot;]</td><td>[]</td><td>&quot;Анализ неструктурированных дан…</td><td>&quot;Моделирование временных рядов&quot;</td></tr><tr><td>&quot;af20596134e83f3ca61259b325aa96…</td><td>2020-05-15 19:44:33</td><td>519</td><td>182</td><td>false</td><td>&quot;Statistical Learning Theory&quot;</td><td>&quot;Сбор и обработка данных с помо…</td><td>&quot;Высокопроизводительные вычисле…</td><td>&quot;Машинное обучение 2&quot;</td><td>&quot;Дополнительные главы прикладно…</td><td>&quot;Анализ данных в бизнесе&quot;</td><td>true</td><td>0.973094</td><td>0</td><td>&quot;&quot;</td><td>false</td><td>1</td><td>[&quot;Statistical Learning Theory&quot;]</td><td>[&quot;Сбор и обработка данных с помощью краудсорсинга&quot;]</td><td>[&quot;Высокопроизводительные вычисления&quot;]</td><td>&quot;Statistical Learning Theory&quot;</td><td>&quot;-&quot;</td></tr><tr><td>&quot;bd416140ecdb32b6dbd7f40820bf63…</td><td>2020-05-20 11:49:38</td><td>518</td><td>185</td><td>false</td><td>&quot;Безопасность компьютерных сист…</td><td>&quot;Теория баз данных&quot;</td><td>&quot;Язык SQL&quot;</td><td>&quot;Машинное обучение 2&quot;</td><td>&quot;Компьютерные сети&quot;</td><td>&quot;Промышленное программирование …</td><td>true</td><td>0.977578</td><td>0</td><td>&quot;&quot;</td><td>false</td><td>1</td><td>[&quot;Безопасность компьютерных систем&quot;]</td><td>[&quot;Теория баз данных&quot;]</td><td>[&quot;Язык SQL&quot;]</td><td>&quot;Теория баз данных&quot;</td><td>&quot;-&quot;</td></tr><tr><td>&quot;f2e1cfc27a724879ac2a8c98004c14…</td><td>2020-05-18 18:22:26</td><td>981</td><td>0</td><td>false</td><td>&quot;Принятие решений в условиях ри…</td><td>&quot;Моделирование временных рядов&quot;</td><td>&quot;Глубинное обучение в обработке…</td><td>&quot;Обучение с подкреплением&quot;</td><td>&quot;Компьютерное зрение&quot;</td><td>&quot;Методы сжатия и передачи медиа…</td><td>true</td><td>0.978261</td><td>173</td><td>&quot;DevOps&quot;</td><td>false</td><td>2</td><td>[&quot;Принятие решений в условиях риска и неопределённости&quot;, &quot;Моделирование временных рядов&quot;]</td><td>[&quot;Глубинное обучение в обработке звука&quot;]</td><td>[]</td><td>&quot;Принятие решений в условиях ри…</td><td>&quot;Глубинное обучение в обработке…</td></tr><tr><td>&quot;f5d9f99cb876ca0888d18b6e444fa1…</td><td>2020-05-18 19:36:51</td><td>516</td><td>187</td><td>false</td><td>&quot;Сбор и обработка данных с помо…</td><td>&quot;Язык SQL&quot;</td><td>&quot;Теория баз данных&quot;</td><td>&quot;Промышленное программирование …</td><td>&quot;Машинное обучение 2&quot;</td><td>&quot;Компьютерные сети&quot;</td><td>false</td><td>0.982063</td><td>0</td><td>&quot;&quot;</td><td>false</td><td>1</td><td>[&quot;Сбор и обработка данных с помощью краудсорсинга&quot;]</td><td>[&quot;Язык SQL&quot;]</td><td>[&quot;Теория баз данных&quot;]</td><td>&quot;Теория баз данных&quot;</td><td>&quot;-&quot;</td></tr><tr><td>&quot;79d14db48e4737af731960ae212d51…</td><td>2020-05-23 21:16:40</td><td>966</td><td>0</td><td>false</td><td>&quot;Безопасность компьютерных сист…</td><td>&quot;Принятие решений в условиях ри…</td><td>&quot;Анализ неструктурированных дан…</td><td>&quot;Проектирование и разработка вы…</td><td>&quot;Методы сжатия и передачи медиа…</td><td>&quot;Компьютерное зрение&quot;</td><td>true</td><td>0.985507</td><td>172</td><td>&quot;DevOps&quot;</td><td>false</td><td>2</td><td>[&quot;Безопасность компьютерных систем&quot;, &quot;Принятие решений в условиях риска и неопределённости&quot;]</td><td>[&quot;Анализ неструктурированных данных&quot;]</td><td>[]</td><td>&quot;Принятие решений в условиях ри…</td><td>&quot;Анализ неструктурированных дан…</td></tr><tr><td>&quot;40b18d40197e3db66312a026e06b8f…</td><td>2020-05-18 22:29:14</td><td>515</td><td>188</td><td>false</td><td>&quot;Безопасность компьютерных сист…</td><td>&quot;Язык SQL&quot;</td><td>&quot;Сбор и обработка данных с помо…</td><td>&quot;Промышленное программирование …</td><td>&quot;Компьютерные сети&quot;</td><td>&quot;Анализ данных в бизнесе&quot;</td><td>false</td><td>0.986547</td><td>0</td><td>&quot;&quot;</td><td>false</td><td>1</td><td>[&quot;Безопасность компьютерных систем&quot;]</td><td>[&quot;Язык SQL&quot;]</td><td>[&quot;Сбор и обработка данных с помощью краудсорсинга&quot;]</td><td>&quot;???&quot;</td><td>&quot;-&quot;</td></tr><tr><td>&quot;be4fa2120de3397ae21eac38ff0060…</td><td>2020-05-18 21:12:00</td><td>502</td><td>187</td><td>false</td><td>&quot;Безопасность компьютерных сист…</td><td>&quot;Язык SQL&quot;</td><td>&quot;Матричные вычисления&quot;</td><td>&quot;Промышленное программирование …</td><td>&quot;Численные методы&quot;</td><td>&quot;Машинное обучение 2&quot;</td><td>true</td><td>0.991031</td><td>0</td><td>&quot;&quot;</td><td>false</td><td>1</td><td>[&quot;Безопасность компьютерных систем&quot;]</td><td>[&quot;Язык SQL&quot;]</td><td>[&quot;Матричные вычисления&quot;]</td><td>&quot;???&quot;</td><td>&quot;-&quot;</td></tr><tr><td>&quot;d539461bf254cf8b3201cdf7990b11…</td><td>2020-05-18 23:12:29</td><td>964</td><td>0</td><td>false</td><td>&quot;Анализ неструктурированных дан…</td><td>&quot;Глубинное обучение в обработке…</td><td>&quot;Statistical Learning Theory&quot;</td><td>&quot;Обучение с подкреплением&quot;</td><td>&quot;Компьютерное зрение&quot;</td><td>&quot;Проектирование и разработка вы…</td><td>true</td><td>0.992754</td><td>174</td><td>&quot;DevOps&quot;</td><td>false</td><td>1</td><td>[&quot;Анализ неструктурированных данных&quot;]</td><td>[&quot;Глубинное обучение в обработке звука&quot;]</td><td>[&quot;Statistical Learning Theory&quot;]</td><td>&quot;Анализ неструктурированных дан…</td><td>&quot;-&quot;</td></tr><tr><td>&quot;7a21ef645ecb42198be493dd65320e…</td><td>2020-05-20 11:34:10</td><td>495</td><td>188</td><td>false</td><td>&quot;Принятие решений в условиях ри…</td><td>&quot;Язык SQL&quot;</td><td>&quot;Сбор и обработка данных с помо…</td><td>&quot;Анализ данных в бизнесе&quot;</td><td>&quot;Промышленное программирование …</td><td>&quot;Дополнительные главы прикладно…</td><td>true</td><td>0.995516</td><td>0</td><td>&quot;&quot;</td><td>false</td><td>1</td><td>[&quot;Принятие решений в условиях риска и неопределённости&quot;]</td><td>[&quot;Язык SQL&quot;]</td><td>[&quot;Сбор и обработка данных с помощью краудсорсинга&quot;]</td><td>&quot;Принятие решений в условиях ри…</td><td>&quot;-&quot;</td></tr></tbody></table></div>"
            ]
          },
          "metadata": {},
          "execution_count": 62
        }
      ]
    },
    {
      "cell_type": "code",
      "source": [
        "df_full_fall.select(\"ID\", \"course1\", \"course2\").sort(by=\"ID\").write_csv(\"res_fall.csv\")\n",
        "\n",
        "# я - vvluzin_1@edu.hse.ru\n",
        "# https://contest.yandex.ru/contest/68637/run-report/11955182"
      ],
      "metadata": {
        "id": "SpgHDp46k7L5"
      },
      "execution_count": 63,
      "outputs": []
    },
    {
      "cell_type": "markdown",
      "metadata": {
        "id": "JgiMyLJz3JKw"
      },
      "source": [
        "**Отправьте свой файл res_fall.csv в контест (будет в ближайшее время, следите за новостями) и прикрепите/укажите ниже ваш никнейм и ссылку на успешную посылку.**"
      ]
    },
    {
      "cell_type": "markdown",
      "metadata": {
        "id": "3za2-Axk3JKw"
      },
      "source": [
        "*Дисклеймер:*\n",
        "\n",
        "Контест выдаётся для самопроверки. Если ваша посылка получила ОК, то код, скорее всего, правильный. Но при этом оценка всё равно может быть снижена в случае обнаружения неэффективностей или ошибок в коде. Если вы сдадите в AnyTask очевидно неработающий код или ноутбук без кода, но при этом в контест будет сдан корректный файл, то это будет расцениваться как плагиат."
      ]
    },
    {
      "cell_type": "markdown",
      "metadata": {
        "id": "jzciJOzo3JKw"
      },
      "source": [
        "На всякий случай просим вас сдать вместе с ноутбуком файл res_fall.csv в anytask"
      ]
    },
    {
      "cell_type": "markdown",
      "metadata": {
        "id": "XRHWCteT3JKx"
      },
      "source": [
        "### 4. [1 балл] Распределите таким же образом студентов еще и на весенние курсы по выбору.\n",
        "\n",
        "Если ваш код был хорошо структурирован, то это не составит проблем.\n",
        "\n",
        "Если вы выполнили это задание, сдайте среди прочего файл res_spring.csv в таком же формате, как и res_fall.csv."
      ]
    },
    {
      "cell_type": "code",
      "source": [
        "df = df.with_columns(\n",
        "    pl.when(((pl.col(\"17_group\") >= 171) & (pl.col(\"17_group\") <= 173)))\n",
        "    .then(2)\n",
        "    .otherwise(1)\n",
        "    .alias(\"spring_courses_amount\")\n",
        ")\n",
        "df"
      ],
      "metadata": {
        "colab": {
          "base_uri": "https://localhost:8080/",
          "height": 966
        },
        "id": "mD3dOUre7KOI",
        "outputId": "bdcdc77f-a9f5-4522-fc9e-d7ab3e2b907a"
      },
      "execution_count": 64,
      "outputs": [
        {
          "output_type": "execute_result",
          "data": {
            "text/plain": [
              "shape: (347, 23)\n",
              "┌─────────────┬─────────────┬────────┬──────────┬───┬─────────────┬─────────┬─────────┬────────────┐\n",
              "│ id          ┆ timestamp   ┆ rating ┆ 18_group ┆ … ┆ f_3         ┆ course1 ┆ course2 ┆ spring_cou │\n",
              "│ ---         ┆ ---         ┆ ---    ┆ ---      ┆   ┆ ---         ┆ ---     ┆ ---     ┆ rses_amoun │\n",
              "│ str         ┆ datetime[μs ┆ i64    ┆ i64      ┆   ┆ list[str]   ┆ str     ┆ str     ┆ t          │\n",
              "│             ┆ ]           ┆        ┆          ┆   ┆             ┆         ┆         ┆ ---        │\n",
              "│             ┆             ┆        ┆          ┆   ┆             ┆         ┆         ┆ i32        │\n",
              "╞═════════════╪═════════════╪════════╪══════════╪═══╪═════════════╪═════════╪═════════╪════════════╡\n",
              "│ 3a7326c9e35 ┆ 2020-05-14  ┆ 1457   ┆ 0        ┆ … ┆ []          ┆ ???     ┆ ???     ┆ 2          │\n",
              "│ 5a67d380582 ┆ 21:52:43    ┆        ┆          ┆   ┆             ┆         ┆         ┆            │\n",
              "│ 4ca34c4b…   ┆             ┆        ┆          ┆   ┆             ┆         ┆         ┆            │\n",
              "│ 3e106aaef8b ┆ 2020-05-18  ┆ 784    ┆ 182      ┆ … ┆ [\"Матричные ┆ ???     ┆ ???     ┆ 1          │\n",
              "│ 24dbb01319c ┆ 17:09:23    ┆        ┆          ┆   ┆ вычисления\" ┆         ┆         ┆            │\n",
              "│ 73e14c29…   ┆             ┆        ┆          ┆   ┆ ]           ┆         ┆         ┆            │\n",
              "│ e0ca1a9548a ┆ 2020-05-18  ┆ 764    ┆ 182      ┆ … ┆ [\"Statistic ┆ ???     ┆ ???     ┆ 1          │\n",
              "│ f9a3f98428c ┆ 18:03:57    ┆        ┆          ┆   ┆ al Learning ┆         ┆         ┆            │\n",
              "│ 62420aa4…   ┆             ┆        ┆          ┆   ┆ Theory\"…    ┆         ┆         ┆            │\n",
              "│ 7fe7df0d207 ┆ 2020-05-18  ┆ 1365   ┆ 0        ┆ … ┆ [\"Моделиров ┆ ???     ┆ ???     ┆ 1          │\n",
              "│ babbf30249b ┆ 12:39:47    ┆        ┆          ┆   ┆ ание        ┆         ┆         ┆            │\n",
              "│ 3063ac1f…   ┆             ┆        ┆          ┆   ┆ временных   ┆         ┆         ┆            │\n",
              "│             ┆             ┆        ┆          ┆   ┆ рядо…       ┆         ┆         ┆            │\n",
              "│ 86d929f6fd7 ┆ 2020-05-15  ┆ 761    ┆ 181      ┆ … ┆ [\"Сбор и    ┆ ???     ┆ ???     ┆ 1          │\n",
              "│ 41e56e93cee ┆ 21:34:32    ┆        ┆          ┆   ┆ обработка   ┆         ┆         ┆            │\n",
              "│ 59002988…   ┆             ┆        ┆          ┆   ┆ данных с    ┆         ┆         ┆            │\n",
              "│             ┆             ┆        ┆          ┆   ┆ по…         ┆         ┆         ┆            │\n",
              "│ …           ┆ …           ┆ …      ┆ …        ┆ … ┆ …           ┆ …       ┆ …       ┆ …          │\n",
              "│ 79d14db48e4 ┆ 2020-05-23  ┆ 966    ┆ 0        ┆ … ┆ []          ┆ ???     ┆ ???     ┆ 2          │\n",
              "│ 737af731960 ┆ 21:16:40    ┆        ┆          ┆   ┆             ┆         ┆         ┆            │\n",
              "│ ae212d51…   ┆             ┆        ┆          ┆   ┆             ┆         ┆         ┆            │\n",
              "│ 40b18d40197 ┆ 2020-05-18  ┆ 515    ┆ 188      ┆ … ┆ [\"Сбор и    ┆ ???     ┆ ???     ┆ 1          │\n",
              "│ e3db66312a0 ┆ 22:29:14    ┆        ┆          ┆   ┆ обработка   ┆         ┆         ┆            │\n",
              "│ 26e06b8f…   ┆             ┆        ┆          ┆   ┆ данных с    ┆         ┆         ┆            │\n",
              "│             ┆             ┆        ┆          ┆   ┆ по…         ┆         ┆         ┆            │\n",
              "│ be4fa2120de ┆ 2020-05-18  ┆ 502    ┆ 187      ┆ … ┆ [\"Матричные ┆ ???     ┆ ???     ┆ 1          │\n",
              "│ 3397ae21eac ┆ 21:12:00    ┆        ┆          ┆   ┆ вычисления\" ┆         ┆         ┆            │\n",
              "│ 38ff0060…   ┆             ┆        ┆          ┆   ┆ ]           ┆         ┆         ┆            │\n",
              "│ d539461bf25 ┆ 2020-05-18  ┆ 964    ┆ 0        ┆ … ┆ [\"Statistic ┆ ???     ┆ ???     ┆ 1          │\n",
              "│ 4cf8b3201cd ┆ 23:12:29    ┆        ┆          ┆   ┆ al Learning ┆         ┆         ┆            │\n",
              "│ f7990b11…   ┆             ┆        ┆          ┆   ┆ Theory\"…    ┆         ┆         ┆            │\n",
              "│ 7a21ef645ec ┆ 2020-05-20  ┆ 495    ┆ 188      ┆ … ┆ [\"Сбор и    ┆ ???     ┆ ???     ┆ 1          │\n",
              "│ b42198be493 ┆ 11:34:10    ┆        ┆          ┆   ┆ обработка   ┆         ┆         ┆            │\n",
              "│ dd65320e…   ┆             ┆        ┆          ┆   ┆ данных с    ┆         ┆         ┆            │\n",
              "│             ┆             ┆        ┆          ┆   ┆ по…         ┆         ┆         ┆            │\n",
              "└─────────────┴─────────────┴────────┴──────────┴───┴─────────────┴─────────┴─────────┴────────────┘"
            ],
            "text/html": [
              "<div><style>\n",
              ".dataframe > thead > tr,\n",
              ".dataframe > tbody > tr {\n",
              "  text-align: right;\n",
              "  white-space: pre-wrap;\n",
              "}\n",
              "</style>\n",
              "<small>shape: (347, 23)</small><table border=\"1\" class=\"dataframe\"><thead><tr><th>id</th><th>timestamp</th><th>rating</th><th>18_group</th><th>is_mi</th><th>fall_1</th><th>fall_2</th><th>fall_3</th><th>spring_1</th><th>spring_2</th><th>spring_3</th><th>is_first_time</th><th>percentile</th><th>17_group</th><th>blended</th><th>is_ml_student</th><th>fall_courses_amount</th><th>f_1</th><th>f_2</th><th>f_3</th><th>course1</th><th>course2</th><th>spring_courses_amount</th></tr><tr><td>str</td><td>datetime[μs]</td><td>i64</td><td>i64</td><td>bool</td><td>str</td><td>str</td><td>str</td><td>str</td><td>str</td><td>str</td><td>bool</td><td>f64</td><td>i64</td><td>str</td><td>bool</td><td>i32</td><td>list[str]</td><td>list[str]</td><td>list[str]</td><td>str</td><td>str</td><td>i32</td></tr></thead><tbody><tr><td>&quot;3a7326c9e355a67d3805824ca34c4b…</td><td>2020-05-14 21:52:43</td><td>1457</td><td>0</td><td>false</td><td>&quot;Statistical Learning Theory&quot;</td><td>&quot;Высокопроизводительные вычисле…</td><td>&quot;Statistical Learning Theory&quot;</td><td>&quot;Символьные вычисления&quot;</td><td>&quot;Численные методы&quot;</td><td>&quot;Символьные вычисления&quot;</td><td>true</td><td>0.0</td><td>173</td><td>&quot;Введение в дифференциальную ге…</td><td>false</td><td>2</td><td>[&quot;Statistical Learning Theory&quot;, &quot;Высокопроизводительные вычисления&quot;]</td><td>[&quot;Statistical Learning Theory&quot;]</td><td>[]</td><td>&quot;???&quot;</td><td>&quot;???&quot;</td><td>2</td></tr><tr><td>&quot;3e106aaef8b24dbb01319c73e14c29…</td><td>2020-05-18 17:09:23</td><td>784</td><td>182</td><td>false</td><td>&quot;Безопасность компьютерных сист…</td><td>&quot;Statistical Learning Theory&quot;</td><td>&quot;Матричные вычисления&quot;</td><td>&quot;Дискретная оптимизация&quot;</td><td>&quot;Промышленное программирование …</td><td>&quot;Дополнительные главы прикладно…</td><td>true</td><td>0.0</td><td>0</td><td>&quot;&quot;</td><td>true</td><td>1</td><td>[&quot;Безопасность компьютерных систем&quot;]</td><td>[&quot;Statistical Learning Theory&quot;]</td><td>[&quot;Матричные вычисления&quot;]</td><td>&quot;???&quot;</td><td>&quot;???&quot;</td><td>1</td></tr><tr><td>&quot;e0ca1a9548af9a3f98428c62420aa4…</td><td>2020-05-18 18:03:57</td><td>764</td><td>182</td><td>false</td><td>&quot;Матричные вычисления&quot;</td><td>&quot;Безопасность компьютерных сист…</td><td>&quot;Statistical Learning Theory&quot;</td><td>&quot;Дискретная оптимизация&quot;</td><td>&quot;Дополнительные главы прикладно…</td><td>&quot;Машинное обучение 2&quot;</td><td>true</td><td>0.004484</td><td>0</td><td>&quot;&quot;</td><td>false</td><td>1</td><td>[&quot;Матричные вычисления&quot;]</td><td>[&quot;Безопасность компьютерных систем&quot;]</td><td>[&quot;Statistical Learning Theory&quot;]</td><td>&quot;???&quot;</td><td>&quot;???&quot;</td><td>1</td></tr><tr><td>&quot;7fe7df0d207babbf30249b3063ac1f…</td><td>2020-05-18 12:39:47</td><td>1365</td><td>0</td><td>false</td><td>&quot;Высокопроизводительные вычисле…</td><td>&quot;Сбор и обработка данных с помо…</td><td>&quot;Моделирование временных рядов&quot;</td><td>&quot;Проектирование и разработка вы…</td><td>&quot;Методы сжатия и передачи медиа…</td><td>&quot;Методы сжатия и передачи медиа…</td><td>true</td><td>0.007246</td><td>175</td><td>&quot;DevOps&quot;</td><td>false</td><td>1</td><td>[&quot;Высокопроизводительные вычисления&quot;]</td><td>[&quot;Сбор и обработка данных с помощью краудсорсинга&quot;]</td><td>[&quot;Моделирование временных рядов&quot;]</td><td>&quot;???&quot;</td><td>&quot;???&quot;</td><td>1</td></tr><tr><td>&quot;86d929f6fd741e56e93cee59002988…</td><td>2020-05-15 21:34:32</td><td>761</td><td>181</td><td>false</td><td>&quot;Сбор и обработка данных с помо…</td><td>&quot;Сбор и обработка данных с помо…</td><td>&quot;Сбор и обработка данных с помо…</td><td>&quot;Дополнительные главы прикладно…</td><td>&quot;Дополнительные главы прикладно…</td><td>&quot;Дополнительные главы прикладно…</td><td>true</td><td>0.008969</td><td>0</td><td>&quot;&quot;</td><td>false</td><td>1</td><td>[&quot;Сбор и обработка данных с помощью краудсорсинга&quot;]</td><td>[&quot;Сбор и обработка данных с помощью краудсорсинга&quot;]</td><td>[&quot;Сбор и обработка данных с помощью краудсорсинга&quot;]</td><td>&quot;???&quot;</td><td>&quot;???&quot;</td><td>1</td></tr><tr><td>&hellip;</td><td>&hellip;</td><td>&hellip;</td><td>&hellip;</td><td>&hellip;</td><td>&hellip;</td><td>&hellip;</td><td>&hellip;</td><td>&hellip;</td><td>&hellip;</td><td>&hellip;</td><td>&hellip;</td><td>&hellip;</td><td>&hellip;</td><td>&hellip;</td><td>&hellip;</td><td>&hellip;</td><td>&hellip;</td><td>&hellip;</td><td>&hellip;</td><td>&hellip;</td><td>&hellip;</td><td>&hellip;</td></tr><tr><td>&quot;79d14db48e4737af731960ae212d51…</td><td>2020-05-23 21:16:40</td><td>966</td><td>0</td><td>false</td><td>&quot;Безопасность компьютерных сист…</td><td>&quot;Принятие решений в условиях ри…</td><td>&quot;Анализ неструктурированных дан…</td><td>&quot;Проектирование и разработка вы…</td><td>&quot;Методы сжатия и передачи медиа…</td><td>&quot;Компьютерное зрение&quot;</td><td>true</td><td>0.985507</td><td>172</td><td>&quot;DevOps&quot;</td><td>false</td><td>2</td><td>[&quot;Безопасность компьютерных систем&quot;, &quot;Принятие решений в условиях риска и неопределённости&quot;]</td><td>[&quot;Анализ неструктурированных данных&quot;]</td><td>[]</td><td>&quot;???&quot;</td><td>&quot;???&quot;</td><td>2</td></tr><tr><td>&quot;40b18d40197e3db66312a026e06b8f…</td><td>2020-05-18 22:29:14</td><td>515</td><td>188</td><td>false</td><td>&quot;Безопасность компьютерных сист…</td><td>&quot;Язык SQL&quot;</td><td>&quot;Сбор и обработка данных с помо…</td><td>&quot;Промышленное программирование …</td><td>&quot;Компьютерные сети&quot;</td><td>&quot;Анализ данных в бизнесе&quot;</td><td>false</td><td>0.986547</td><td>0</td><td>&quot;&quot;</td><td>false</td><td>1</td><td>[&quot;Безопасность компьютерных систем&quot;]</td><td>[&quot;Язык SQL&quot;]</td><td>[&quot;Сбор и обработка данных с помощью краудсорсинга&quot;]</td><td>&quot;???&quot;</td><td>&quot;???&quot;</td><td>1</td></tr><tr><td>&quot;be4fa2120de3397ae21eac38ff0060…</td><td>2020-05-18 21:12:00</td><td>502</td><td>187</td><td>false</td><td>&quot;Безопасность компьютерных сист…</td><td>&quot;Язык SQL&quot;</td><td>&quot;Матричные вычисления&quot;</td><td>&quot;Промышленное программирование …</td><td>&quot;Численные методы&quot;</td><td>&quot;Машинное обучение 2&quot;</td><td>true</td><td>0.991031</td><td>0</td><td>&quot;&quot;</td><td>false</td><td>1</td><td>[&quot;Безопасность компьютерных систем&quot;]</td><td>[&quot;Язык SQL&quot;]</td><td>[&quot;Матричные вычисления&quot;]</td><td>&quot;???&quot;</td><td>&quot;???&quot;</td><td>1</td></tr><tr><td>&quot;d539461bf254cf8b3201cdf7990b11…</td><td>2020-05-18 23:12:29</td><td>964</td><td>0</td><td>false</td><td>&quot;Анализ неструктурированных дан…</td><td>&quot;Глубинное обучение в обработке…</td><td>&quot;Statistical Learning Theory&quot;</td><td>&quot;Обучение с подкреплением&quot;</td><td>&quot;Компьютерное зрение&quot;</td><td>&quot;Проектирование и разработка вы…</td><td>true</td><td>0.992754</td><td>174</td><td>&quot;DevOps&quot;</td><td>false</td><td>1</td><td>[&quot;Анализ неструктурированных данных&quot;]</td><td>[&quot;Глубинное обучение в обработке звука&quot;]</td><td>[&quot;Statistical Learning Theory&quot;]</td><td>&quot;???&quot;</td><td>&quot;???&quot;</td><td>1</td></tr><tr><td>&quot;7a21ef645ecb42198be493dd65320e…</td><td>2020-05-20 11:34:10</td><td>495</td><td>188</td><td>false</td><td>&quot;Принятие решений в условиях ри…</td><td>&quot;Язык SQL&quot;</td><td>&quot;Сбор и обработка данных с помо…</td><td>&quot;Анализ данных в бизнесе&quot;</td><td>&quot;Промышленное программирование …</td><td>&quot;Дополнительные главы прикладно…</td><td>true</td><td>0.995516</td><td>0</td><td>&quot;&quot;</td><td>false</td><td>1</td><td>[&quot;Принятие решений в условиях риска и неопределённости&quot;]</td><td>[&quot;Язык SQL&quot;]</td><td>[&quot;Сбор и обработка данных с помощью краудсорсинга&quot;]</td><td>&quot;???&quot;</td><td>&quot;???&quot;</td><td>1</td></tr></tbody></table></div>"
            ]
          },
          "metadata": {},
          "execution_count": 64
        }
      ]
    },
    {
      "cell_type": "code",
      "source": [
        "# Все уникальные курсы получу по примеру из 7-го задания\n",
        "\n",
        "unique_spring =  set()\n",
        "unique_spring.update(sum(df.select(pl.col(\"spring_1\")).unique().to_numpy().tolist(), []))\n",
        "unique_spring.update(sum(df.select(pl.col(\"spring_2\")).unique().to_numpy().tolist(), []))\n",
        "unique_spring.update(sum(df.select(pl.col(\"spring_3\")).unique().to_numpy().tolist(), []))"
      ],
      "metadata": {
        "id": "Ud0fD-Mz2XQn"
      },
      "execution_count": 65,
      "outputs": []
    },
    {
      "cell_type": "code",
      "source": [
        "# Для начала отсортирую по возрастанию перцентиля\n",
        "df = df.sort(by=pl.col(\"percentile\"))\n",
        "\n",
        "# И также создам три временных столбца с волнами отбора (они будут иметь список из двух курсов, если нужно выбрать 2 курса, и 1 курс, если нужно выбрать 1 курс)\n",
        "# И два столбца для итоговых курсов (course1, course2)\n",
        "# Также уберу в весенней части задания курсы машинное обучение 2 у МОП'а\n",
        "# Для этого я перенёс все курсы \"влево\", удалив у них машинное обучение 2\n",
        "# Варианты ветвления покрывают даже больше случаев чем нужно для выполнения задания,\n",
        "# но не рассматривают случаи, когда моп'у на 4 курсе нужно выбрать два курса и выбран мо2\n",
        "# (но такого случая нет в данных, все 5 случаев содержат 1 курс и без повторов(но с повторами этот код всё равно будет работать))\n",
        "df = df.with_columns(\n",
        "\n",
        "    pl.when( # mop\n",
        "        (((pl.col(\"17_group\") >= 171) & (pl.col(\"17_group\") <= 173)) | (pl.col(\"is_ml_student\")))\n",
        "        & (pl.col(\"spring_1\") == \"Машинное обучение 2\")\n",
        "    ).then(\n",
        "        pl.when(\n",
        "            (pl.col(\"spring_2\") == \"Машинное обучение 2\")\n",
        "        ).then(\n",
        "            pl.when(\n",
        "                (pl.col(\"spring_3\") == \"Машинное обучение 2\")\n",
        "            ).then(\n",
        "                pl.lit(list())\n",
        "            ).otherwise(\n",
        "                pl.col(\"spring_3\").cast(pl.List(pl.Utf8))\n",
        "            )\n",
        "        ).otherwise(\n",
        "            pl.col(\"spring_2\").cast(pl.List(pl.Utf8))\n",
        "        )\n",
        "    ).otherwise(\n",
        "        pl.when(\n",
        "            pl.col(\"spring_courses_amount\") == 1\n",
        "        ).then( # один курс\n",
        "            pl.col(\"spring_1\").cast(pl.List(pl.Utf8))\n",
        "        ).otherwise( # два курса\n",
        "            pl.concat_list(pl.col(\"spring_1\"), pl.col(\"spring_2\"))\n",
        "        )\n",
        "    ).alias(\"s_1\")\n",
        ").with_columns(\n",
        "    pl.when(\n",
        "        (((pl.col(\"17_group\") >= 171) & (pl.col(\"17_group\") <= 173)) | (pl.col(\"is_ml_student\")))\n",
        "        & (pl.col(\"spring_2\") == \"Машинное обучение 2\")\n",
        "    ).then( # mop\n",
        "        pl.when( # s_2 and s_3 = ml2\n",
        "            pl.col(\"spring_3\") == \"Машинное обучение 2\"\n",
        "        ).then(\n",
        "            pl.lit(list())\n",
        "        ).otherwise(# only s_2 = ml2\n",
        "            pl.col(\"spring_3\").cast(pl.List(pl.Utf8))\n",
        "        )\n",
        "    ).otherwise( # не mop\n",
        "        pl.when(\n",
        "            pl.col(\"spring_courses_amount\") == 1\n",
        "        ).then( # один курс\n",
        "            pl.when( # Предыдущее значение пустое или уже содержит текущее\n",
        "                (pl.col(\"s_1\") == pl.lit(list()))\n",
        "                | (pl.col(\"s_1\") == pl.col(\"spring_2\").cast(pl.List(pl.Utf8)))\n",
        "            ).then(\n",
        "                pl.when(\n",
        "                    pl.col(\"spring_3\") == \"Машинное обучение 2\"\n",
        "                ).then(\n",
        "                    pl.lit(list())\n",
        "                ).otherwise(\n",
        "                    pl.col(\"spring_3\").cast(pl.List(pl.Utf8))\n",
        "                )\n",
        "            ).otherwise(\n",
        "                pl.col(\"spring_2\").cast(pl.List(pl.Utf8))\n",
        "            )\n",
        "        ).otherwise( # два курса\n",
        "            pl.col(\"spring_3\").cast(pl.List(pl.Utf8))\n",
        "        )\n",
        "    ).alias(\"s_2\"),\n",
        ").with_columns(\n",
        "    pl.when(\n",
        "        (((pl.col(\"17_group\") >= 171) & (pl.col(\"17_group\") <= 173)) | (pl.col(\"is_ml_student\")))\n",
        "        & (pl.col(\"spring_3\") == \"Машинное обучение 2\")\n",
        "    ).then(\n",
        "        pl.lit(list())\n",
        "    ).otherwise(\n",
        "        pl.when(\n",
        "            pl.col(\"spring_courses_amount\") == 1\n",
        "        ).then( # один курс\n",
        "            pl.when( # Предыдущее значение пустое или уже содержит текущее\n",
        "                (pl.col(\"s_2\") == pl.lit(list()))\n",
        "                | (pl.col(\"s_2\") == pl.col(\"spring_3\").cast(pl.List(pl.Utf8)))\n",
        "            ).then(\n",
        "                pl.lit(list())\n",
        "            ).otherwise(\n",
        "                pl.col(\"spring_3\").cast(pl.List(pl.Utf8))\n",
        "            )\n",
        "        ).otherwise( # два курса\n",
        "            pl.lit(list())\n",
        "        )\n",
        "    ).alias(\"s_3\"),\n",
        "\n",
        "    # course 1\n",
        "    pl.lit(\"???\").alias(\"course1\").cast(pl.Utf8),\n",
        "    # course 2\n",
        "    pl.lit(\"???\").alias(\"course2\").cast(pl.Utf8)\n",
        ")\n",
        "df"
      ],
      "metadata": {
        "colab": {
          "base_uri": "https://localhost:8080/",
          "height": 1000
        },
        "id": "BuEr9_P82bRH",
        "outputId": "25b78729-5a0e-40aa-8902-75aae5232e3e"
      },
      "execution_count": 68,
      "outputs": [
        {
          "output_type": "execute_result",
          "data": {
            "text/plain": [
              "shape: (347, 26)\n",
              "┌────────────┬────────────┬────────┬──────────┬───┬────────────┬───────────┬───────────┬───────────┐\n",
              "│ id         ┆ timestamp  ┆ rating ┆ 18_group ┆ … ┆ spring_cou ┆ s_1       ┆ s_2       ┆ s_3       │\n",
              "│ ---        ┆ ---        ┆ ---    ┆ ---      ┆   ┆ rses_amoun ┆ ---       ┆ ---       ┆ ---       │\n",
              "│ str        ┆ datetime[μ ┆ i64    ┆ i64      ┆   ┆ t          ┆ list[str] ┆ list[str] ┆ list[str] │\n",
              "│            ┆ s]         ┆        ┆          ┆   ┆ ---        ┆           ┆           ┆           │\n",
              "│            ┆            ┆        ┆          ┆   ┆ i32        ┆           ┆           ┆           │\n",
              "╞════════════╪════════════╪════════╪══════════╪═══╪════════════╪═══════════╪═══════════╪═══════════╡\n",
              "│ 3a7326c9e3 ┆ 2020-05-14 ┆ 1457   ┆ 0        ┆ … ┆ 2          ┆ [\"Символь ┆ [\"Символь ┆ []        │\n",
              "│ 55a67d3805 ┆ 21:52:43   ┆        ┆          ┆   ┆            ┆ ные вычис ┆ ные вычис ┆           │\n",
              "│ 824ca34c4b ┆            ┆        ┆          ┆   ┆            ┆ ления\",   ┆ ления\"]   ┆           │\n",
              "│ …          ┆            ┆        ┆          ┆   ┆            ┆ \"Чис…     ┆           ┆           │\n",
              "│ 3e106aaef8 ┆ 2020-05-18 ┆ 784    ┆ 182      ┆ … ┆ 1          ┆ [\"Дискрет ┆ [\"Промышл ┆ [\"Дополни │\n",
              "│ b24dbb0131 ┆ 17:09:23   ┆        ┆          ┆   ┆            ┆ ная оптим ┆ енное про ┆ тельные   │\n",
              "│ 9c73e14c29 ┆            ┆        ┆          ┆   ┆            ┆ изация\"]  ┆ граммиров ┆ главы     │\n",
              "│ …          ┆            ┆        ┆          ┆   ┆            ┆           ┆ ани…      ┆ приклад…  │\n",
              "│ e0ca1a9548 ┆ 2020-05-18 ┆ 764    ┆ 182      ┆ … ┆ 1          ┆ [\"Дискрет ┆ [\"Дополни ┆ [\"Машинно │\n",
              "│ af9a3f9842 ┆ 18:03:57   ┆        ┆          ┆   ┆            ┆ ная оптим ┆ тельные   ┆ е         │\n",
              "│ 8c62420aa4 ┆            ┆        ┆          ┆   ┆            ┆ изация\"]  ┆ главы     ┆ обучение  │\n",
              "│ …          ┆            ┆        ┆          ┆   ┆            ┆           ┆ приклад…  ┆ 2\"]       │\n",
              "│ 7fe7df0d20 ┆ 2020-05-18 ┆ 1365   ┆ 0        ┆ … ┆ 1          ┆ [\"Проекти ┆ [\"Методы  ┆ []        │\n",
              "│ 7babbf3024 ┆ 12:39:47   ┆        ┆          ┆   ┆            ┆ рование и ┆ сжатия и  ┆           │\n",
              "│ 9b3063ac1f ┆            ┆        ┆          ┆   ┆            ┆ разработк ┆ передачи  ┆           │\n",
              "│ …          ┆            ┆        ┆          ┆   ┆            ┆ а …       ┆ мед…      ┆           │\n",
              "│ 86d929f6fd ┆ 2020-05-15 ┆ 761    ┆ 181      ┆ … ┆ 1          ┆ [\"Дополни ┆ [\"Дополни ┆ []        │\n",
              "│ 741e56e93c ┆ 21:34:32   ┆        ┆          ┆   ┆            ┆ тельные   ┆ тельные   ┆           │\n",
              "│ ee59002988 ┆            ┆        ┆          ┆   ┆            ┆ главы     ┆ главы     ┆           │\n",
              "│ …          ┆            ┆        ┆          ┆   ┆            ┆ приклад…  ┆ приклад…  ┆           │\n",
              "│ …          ┆ …          ┆ …      ┆ …        ┆ … ┆ …          ┆ …         ┆ …         ┆ …         │\n",
              "│ 79d14db48e ┆ 2020-05-23 ┆ 966    ┆ 0        ┆ … ┆ 2          ┆ [\"Проекти ┆ [\"Компьют ┆ []        │\n",
              "│ 4737af7319 ┆ 21:16:40   ┆        ┆          ┆   ┆            ┆ рование и ┆ ерное     ┆           │\n",
              "│ 60ae212d51 ┆            ┆        ┆          ┆   ┆            ┆ разработк ┆ зрение\"]  ┆           │\n",
              "│ …          ┆            ┆        ┆          ┆   ┆            ┆ а …       ┆           ┆           │\n",
              "│ 40b18d4019 ┆ 2020-05-18 ┆ 515    ┆ 188      ┆ … ┆ 1          ┆ [\"Промышл ┆ [\"Компьют ┆ [\"Анализ  │\n",
              "│ 7e3db66312 ┆ 22:29:14   ┆        ┆          ┆   ┆            ┆ енное про ┆ ерные     ┆ данных в  │\n",
              "│ a026e06b8f ┆            ┆        ┆          ┆   ┆            ┆ граммиров ┆ сети\"]    ┆ бизнесе\"] │\n",
              "│ …          ┆            ┆        ┆          ┆   ┆            ┆ ани…      ┆           ┆           │\n",
              "│ be4fa2120d ┆ 2020-05-18 ┆ 502    ┆ 187      ┆ … ┆ 1          ┆ [\"Промышл ┆ [\"Численн ┆ [\"Машинно │\n",
              "│ e3397ae21e ┆ 21:12:00   ┆        ┆          ┆   ┆            ┆ енное про ┆ ые        ┆ е         │\n",
              "│ ac38ff0060 ┆            ┆        ┆          ┆   ┆            ┆ граммиров ┆ методы\"]  ┆ обучение  │\n",
              "│ …          ┆            ┆        ┆          ┆   ┆            ┆ ани…      ┆           ┆ 2\"]       │\n",
              "│ d539461bf2 ┆ 2020-05-18 ┆ 964    ┆ 0        ┆ … ┆ 1          ┆ [\"Обучени ┆ [\"Компьют ┆ [\"Проекти │\n",
              "│ 54cf8b3201 ┆ 23:12:29   ┆        ┆          ┆   ┆            ┆ е с подкр ┆ ерное     ┆ рование и │\n",
              "│ cdf7990b11 ┆            ┆        ┆          ┆   ┆            ┆ еплением\" ┆ зрение\"]  ┆ разработк │\n",
              "│ …          ┆            ┆        ┆          ┆   ┆            ┆ ]         ┆           ┆ а …       │\n",
              "│ 7a21ef645e ┆ 2020-05-20 ┆ 495    ┆ 188      ┆ … ┆ 1          ┆ [\"Анализ  ┆ [\"Промышл ┆ [\"Дополни │\n",
              "│ cb42198be4 ┆ 11:34:10   ┆        ┆          ┆   ┆            ┆ данных в  ┆ енное про ┆ тельные   │\n",
              "│ 93dd65320e ┆            ┆        ┆          ┆   ┆            ┆ бизнесе\"] ┆ граммиров ┆ главы     │\n",
              "│ …          ┆            ┆        ┆          ┆   ┆            ┆           ┆ ани…      ┆ приклад…  │\n",
              "└────────────┴────────────┴────────┴──────────┴───┴────────────┴───────────┴───────────┴───────────┘"
            ],
            "text/html": [
              "<div><style>\n",
              ".dataframe > thead > tr,\n",
              ".dataframe > tbody > tr {\n",
              "  text-align: right;\n",
              "  white-space: pre-wrap;\n",
              "}\n",
              "</style>\n",
              "<small>shape: (347, 26)</small><table border=\"1\" class=\"dataframe\"><thead><tr><th>id</th><th>timestamp</th><th>rating</th><th>18_group</th><th>is_mi</th><th>fall_1</th><th>fall_2</th><th>fall_3</th><th>spring_1</th><th>spring_2</th><th>spring_3</th><th>is_first_time</th><th>percentile</th><th>17_group</th><th>blended</th><th>is_ml_student</th><th>fall_courses_amount</th><th>f_1</th><th>f_2</th><th>f_3</th><th>course1</th><th>course2</th><th>spring_courses_amount</th><th>s_1</th><th>s_2</th><th>s_3</th></tr><tr><td>str</td><td>datetime[μs]</td><td>i64</td><td>i64</td><td>bool</td><td>str</td><td>str</td><td>str</td><td>str</td><td>str</td><td>str</td><td>bool</td><td>f64</td><td>i64</td><td>str</td><td>bool</td><td>i32</td><td>list[str]</td><td>list[str]</td><td>list[str]</td><td>str</td><td>str</td><td>i32</td><td>list[str]</td><td>list[str]</td><td>list[str]</td></tr></thead><tbody><tr><td>&quot;3a7326c9e355a67d3805824ca34c4b…</td><td>2020-05-14 21:52:43</td><td>1457</td><td>0</td><td>false</td><td>&quot;Statistical Learning Theory&quot;</td><td>&quot;Высокопроизводительные вычисле…</td><td>&quot;Statistical Learning Theory&quot;</td><td>&quot;Символьные вычисления&quot;</td><td>&quot;Численные методы&quot;</td><td>&quot;Символьные вычисления&quot;</td><td>true</td><td>0.0</td><td>173</td><td>&quot;Введение в дифференциальную ге…</td><td>false</td><td>2</td><td>[&quot;Statistical Learning Theory&quot;, &quot;Высокопроизводительные вычисления&quot;]</td><td>[&quot;Statistical Learning Theory&quot;]</td><td>[]</td><td>&quot;???&quot;</td><td>&quot;???&quot;</td><td>2</td><td>[&quot;Символьные вычисления&quot;, &quot;Численные методы&quot;]</td><td>[&quot;Символьные вычисления&quot;]</td><td>[]</td></tr><tr><td>&quot;3e106aaef8b24dbb01319c73e14c29…</td><td>2020-05-18 17:09:23</td><td>784</td><td>182</td><td>false</td><td>&quot;Безопасность компьютерных сист…</td><td>&quot;Statistical Learning Theory&quot;</td><td>&quot;Матричные вычисления&quot;</td><td>&quot;Дискретная оптимизация&quot;</td><td>&quot;Промышленное программирование …</td><td>&quot;Дополнительные главы прикладно…</td><td>true</td><td>0.0</td><td>0</td><td>&quot;&quot;</td><td>true</td><td>1</td><td>[&quot;Безопасность компьютерных систем&quot;]</td><td>[&quot;Statistical Learning Theory&quot;]</td><td>[&quot;Матричные вычисления&quot;]</td><td>&quot;???&quot;</td><td>&quot;???&quot;</td><td>1</td><td>[&quot;Дискретная оптимизация&quot;]</td><td>[&quot;Промышленное программирование на языке Java&quot;]</td><td>[&quot;Дополнительные главы прикладной статистики&quot;]</td></tr><tr><td>&quot;e0ca1a9548af9a3f98428c62420aa4…</td><td>2020-05-18 18:03:57</td><td>764</td><td>182</td><td>false</td><td>&quot;Матричные вычисления&quot;</td><td>&quot;Безопасность компьютерных сист…</td><td>&quot;Statistical Learning Theory&quot;</td><td>&quot;Дискретная оптимизация&quot;</td><td>&quot;Дополнительные главы прикладно…</td><td>&quot;Машинное обучение 2&quot;</td><td>true</td><td>0.004484</td><td>0</td><td>&quot;&quot;</td><td>false</td><td>1</td><td>[&quot;Матричные вычисления&quot;]</td><td>[&quot;Безопасность компьютерных систем&quot;]</td><td>[&quot;Statistical Learning Theory&quot;]</td><td>&quot;???&quot;</td><td>&quot;???&quot;</td><td>1</td><td>[&quot;Дискретная оптимизация&quot;]</td><td>[&quot;Дополнительные главы прикладной статистики&quot;]</td><td>[&quot;Машинное обучение 2&quot;]</td></tr><tr><td>&quot;7fe7df0d207babbf30249b3063ac1f…</td><td>2020-05-18 12:39:47</td><td>1365</td><td>0</td><td>false</td><td>&quot;Высокопроизводительные вычисле…</td><td>&quot;Сбор и обработка данных с помо…</td><td>&quot;Моделирование временных рядов&quot;</td><td>&quot;Проектирование и разработка вы…</td><td>&quot;Методы сжатия и передачи медиа…</td><td>&quot;Методы сжатия и передачи медиа…</td><td>true</td><td>0.007246</td><td>175</td><td>&quot;DevOps&quot;</td><td>false</td><td>1</td><td>[&quot;Высокопроизводительные вычисления&quot;]</td><td>[&quot;Сбор и обработка данных с помощью краудсорсинга&quot;]</td><td>[&quot;Моделирование временных рядов&quot;]</td><td>&quot;???&quot;</td><td>&quot;???&quot;</td><td>1</td><td>[&quot;Проектирование и разработка высоконагруженных сервисов&quot;]</td><td>[&quot;Методы сжатия и передачи медиаданных&quot;]</td><td>[]</td></tr><tr><td>&quot;86d929f6fd741e56e93cee59002988…</td><td>2020-05-15 21:34:32</td><td>761</td><td>181</td><td>false</td><td>&quot;Сбор и обработка данных с помо…</td><td>&quot;Сбор и обработка данных с помо…</td><td>&quot;Сбор и обработка данных с помо…</td><td>&quot;Дополнительные главы прикладно…</td><td>&quot;Дополнительные главы прикладно…</td><td>&quot;Дополнительные главы прикладно…</td><td>true</td><td>0.008969</td><td>0</td><td>&quot;&quot;</td><td>false</td><td>1</td><td>[&quot;Сбор и обработка данных с помощью краудсорсинга&quot;]</td><td>[&quot;Сбор и обработка данных с помощью краудсорсинга&quot;]</td><td>[&quot;Сбор и обработка данных с помощью краудсорсинга&quot;]</td><td>&quot;???&quot;</td><td>&quot;???&quot;</td><td>1</td><td>[&quot;Дополнительные главы прикладной статистики&quot;]</td><td>[&quot;Дополнительные главы прикладной статистики&quot;]</td><td>[]</td></tr><tr><td>&hellip;</td><td>&hellip;</td><td>&hellip;</td><td>&hellip;</td><td>&hellip;</td><td>&hellip;</td><td>&hellip;</td><td>&hellip;</td><td>&hellip;</td><td>&hellip;</td><td>&hellip;</td><td>&hellip;</td><td>&hellip;</td><td>&hellip;</td><td>&hellip;</td><td>&hellip;</td><td>&hellip;</td><td>&hellip;</td><td>&hellip;</td><td>&hellip;</td><td>&hellip;</td><td>&hellip;</td><td>&hellip;</td><td>&hellip;</td><td>&hellip;</td><td>&hellip;</td></tr><tr><td>&quot;79d14db48e4737af731960ae212d51…</td><td>2020-05-23 21:16:40</td><td>966</td><td>0</td><td>false</td><td>&quot;Безопасность компьютерных сист…</td><td>&quot;Принятие решений в условиях ри…</td><td>&quot;Анализ неструктурированных дан…</td><td>&quot;Проектирование и разработка вы…</td><td>&quot;Методы сжатия и передачи медиа…</td><td>&quot;Компьютерное зрение&quot;</td><td>true</td><td>0.985507</td><td>172</td><td>&quot;DevOps&quot;</td><td>false</td><td>2</td><td>[&quot;Безопасность компьютерных систем&quot;, &quot;Принятие решений в условиях риска и неопределённости&quot;]</td><td>[&quot;Анализ неструктурированных данных&quot;]</td><td>[]</td><td>&quot;???&quot;</td><td>&quot;???&quot;</td><td>2</td><td>[&quot;Проектирование и разработка высоконагруженных сервисов&quot;, &quot;Методы сжатия и передачи медиаданных&quot;]</td><td>[&quot;Компьютерное зрение&quot;]</td><td>[]</td></tr><tr><td>&quot;40b18d40197e3db66312a026e06b8f…</td><td>2020-05-18 22:29:14</td><td>515</td><td>188</td><td>false</td><td>&quot;Безопасность компьютерных сист…</td><td>&quot;Язык SQL&quot;</td><td>&quot;Сбор и обработка данных с помо…</td><td>&quot;Промышленное программирование …</td><td>&quot;Компьютерные сети&quot;</td><td>&quot;Анализ данных в бизнесе&quot;</td><td>false</td><td>0.986547</td><td>0</td><td>&quot;&quot;</td><td>false</td><td>1</td><td>[&quot;Безопасность компьютерных систем&quot;]</td><td>[&quot;Язык SQL&quot;]</td><td>[&quot;Сбор и обработка данных с помощью краудсорсинга&quot;]</td><td>&quot;???&quot;</td><td>&quot;???&quot;</td><td>1</td><td>[&quot;Промышленное программирование на языке Java&quot;]</td><td>[&quot;Компьютерные сети&quot;]</td><td>[&quot;Анализ данных в бизнесе&quot;]</td></tr><tr><td>&quot;be4fa2120de3397ae21eac38ff0060…</td><td>2020-05-18 21:12:00</td><td>502</td><td>187</td><td>false</td><td>&quot;Безопасность компьютерных сист…</td><td>&quot;Язык SQL&quot;</td><td>&quot;Матричные вычисления&quot;</td><td>&quot;Промышленное программирование …</td><td>&quot;Численные методы&quot;</td><td>&quot;Машинное обучение 2&quot;</td><td>true</td><td>0.991031</td><td>0</td><td>&quot;&quot;</td><td>false</td><td>1</td><td>[&quot;Безопасность компьютерных систем&quot;]</td><td>[&quot;Язык SQL&quot;]</td><td>[&quot;Матричные вычисления&quot;]</td><td>&quot;???&quot;</td><td>&quot;???&quot;</td><td>1</td><td>[&quot;Промышленное программирование на языке Java&quot;]</td><td>[&quot;Численные методы&quot;]</td><td>[&quot;Машинное обучение 2&quot;]</td></tr><tr><td>&quot;d539461bf254cf8b3201cdf7990b11…</td><td>2020-05-18 23:12:29</td><td>964</td><td>0</td><td>false</td><td>&quot;Анализ неструктурированных дан…</td><td>&quot;Глубинное обучение в обработке…</td><td>&quot;Statistical Learning Theory&quot;</td><td>&quot;Обучение с подкреплением&quot;</td><td>&quot;Компьютерное зрение&quot;</td><td>&quot;Проектирование и разработка вы…</td><td>true</td><td>0.992754</td><td>174</td><td>&quot;DevOps&quot;</td><td>false</td><td>1</td><td>[&quot;Анализ неструктурированных данных&quot;]</td><td>[&quot;Глубинное обучение в обработке звука&quot;]</td><td>[&quot;Statistical Learning Theory&quot;]</td><td>&quot;???&quot;</td><td>&quot;???&quot;</td><td>1</td><td>[&quot;Обучение с подкреплением&quot;]</td><td>[&quot;Компьютерное зрение&quot;]</td><td>[&quot;Проектирование и разработка высоконагруженных сервисов&quot;]</td></tr><tr><td>&quot;7a21ef645ecb42198be493dd65320e…</td><td>2020-05-20 11:34:10</td><td>495</td><td>188</td><td>false</td><td>&quot;Принятие решений в условиях ри…</td><td>&quot;Язык SQL&quot;</td><td>&quot;Сбор и обработка данных с помо…</td><td>&quot;Анализ данных в бизнесе&quot;</td><td>&quot;Промышленное программирование …</td><td>&quot;Дополнительные главы прикладно…</td><td>true</td><td>0.995516</td><td>0</td><td>&quot;&quot;</td><td>false</td><td>1</td><td>[&quot;Принятие решений в условиях риска и неопределённости&quot;]</td><td>[&quot;Язык SQL&quot;]</td><td>[&quot;Сбор и обработка данных с помощью краудсорсинга&quot;]</td><td>&quot;???&quot;</td><td>&quot;???&quot;</td><td>1</td><td>[&quot;Анализ данных в бизнесе&quot;]</td><td>[&quot;Промышленное программирование на языке Java&quot;]</td><td>[&quot;Дополнительные главы прикладной статистики&quot;]</td></tr></tbody></table></div>"
            ]
          },
          "metadata": {},
          "execution_count": 68
        }
      ]
    },
    {
      "cell_type": "code",
      "source": [
        "# Проверю не записались ли студенты моп на мо2 как на курсы по выбору\n",
        "\n",
        "df.filter((((pl.col(\"17_group\") >= 171) & (pl.col(\"17_group\") <= 172))\n",
        "| (pl.col(\"is_ml_student\")))\n",
        "& ((pl.col(\"spring_1\") == \"Машинное обучение 2\") | (pl.col(\"spring_2\") == \"Машинное обучение 2\") | (pl.col(\"spring_3\") == \"Машинное обучение 2\")))\n",
        "\n",
        "#"
      ],
      "metadata": {
        "colab": {
          "base_uri": "https://localhost:8080/",
          "height": 535
        },
        "id": "23_j2FNx6_hR",
        "outputId": "bf1524e5-8dc2-4f3a-a1ff-e3a9a46a105c"
      },
      "execution_count": 69,
      "outputs": [
        {
          "output_type": "execute_result",
          "data": {
            "text/plain": [
              "shape: (5, 26)\n",
              "┌────────────┬────────────┬────────┬──────────┬───┬────────────┬───────────┬───────────┬───────────┐\n",
              "│ id         ┆ timestamp  ┆ rating ┆ 18_group ┆ … ┆ spring_cou ┆ s_1       ┆ s_2       ┆ s_3       │\n",
              "│ ---        ┆ ---        ┆ ---    ┆ ---      ┆   ┆ rses_amoun ┆ ---       ┆ ---       ┆ ---       │\n",
              "│ str        ┆ datetime[μ ┆ i64    ┆ i64      ┆   ┆ t          ┆ list[str] ┆ list[str] ┆ list[str] │\n",
              "│            ┆ s]         ┆        ┆          ┆   ┆ ---        ┆           ┆           ┆           │\n",
              "│            ┆            ┆        ┆          ┆   ┆ i32        ┆           ┆           ┆           │\n",
              "╞════════════╪════════════╪════════╪══════════╪═══╪════════════╪═══════════╪═══════════╪═══════════╡\n",
              "│ f0f6f38818 ┆ 2020-05-15 ┆ 673    ┆ 181      ┆ … ┆ 1          ┆ [\"Численн ┆ [\"Дополни ┆ []        │\n",
              "│ 94172a0f04 ┆ 21:55:16   ┆        ┆          ┆   ┆            ┆ ые        ┆ тельные   ┆           │\n",
              "│ e79b554b49 ┆            ┆        ┆          ┆   ┆            ┆ методы\"]  ┆ главы     ┆           │\n",
              "│ …          ┆            ┆        ┆          ┆   ┆            ┆           ┆ приклад…  ┆           │\n",
              "│ abceddfa2f ┆ 2020-05-18 ┆ 664    ┆ 183      ┆ … ┆ 1          ┆ [\"Промышл ┆ [\"Дополни ┆ []        │\n",
              "│ c4eae8cff4 ┆ 23:01:03   ┆        ┆          ┆   ┆            ┆ енное про ┆ тельные   ┆           │\n",
              "│ a4e712abb3 ┆            ┆        ┆          ┆   ┆            ┆ граммиров ┆ главы     ┆           │\n",
              "│ …          ┆            ┆        ┆          ┆   ┆            ┆ ани…      ┆ приклад…  ┆           │\n",
              "│ fc2c60b800 ┆ 2020-05-18 ┆ 639    ┆ 183      ┆ … ┆ 1          ┆ [\"Системы ┆ [\"Анализ  ┆ []        │\n",
              "│ 4aa91bc272 ┆ 20:34:07   ┆        ┆          ┆   ┆            ┆ баз       ┆ данных в  ┆           │\n",
              "│ df84628621 ┆            ┆        ┆          ┆   ┆            ┆ данных\"]  ┆ бизнесе\"] ┆           │\n",
              "│ …          ┆            ┆        ┆          ┆   ┆            ┆           ┆           ┆           │\n",
              "│ 5daee1bd98 ┆ 2020-05-16 ┆ 593    ┆ 182      ┆ … ┆ 1          ┆ [\"Промышл ┆ [\"Анализ  ┆ []        │\n",
              "│ 559bb2c523 ┆ 13:02:24   ┆        ┆          ┆   ┆            ┆ енное про ┆ данных в  ┆           │\n",
              "│ 73e4169422 ┆            ┆        ┆          ┆   ┆            ┆ граммиров ┆ бизнесе\"] ┆           │\n",
              "│ …          ┆            ┆        ┆          ┆   ┆            ┆ ани…      ┆           ┆           │\n",
              "│ 6ed89e4241 ┆ 2020-05-18 ┆ 558    ┆ 187      ┆ … ┆ 1          ┆ [\"Анализ  ┆ [\"Промышл ┆ []        │\n",
              "│ 79b0510e3f ┆ 21:24:23   ┆        ┆          ┆   ┆            ┆ данных в  ┆ енное про ┆           │\n",
              "│ 7c0cb7369a ┆            ┆        ┆          ┆   ┆            ┆ бизнесе\"] ┆ граммиров ┆           │\n",
              "│ …          ┆            ┆        ┆          ┆   ┆            ┆           ┆ ани…      ┆           │\n",
              "└────────────┴────────────┴────────┴──────────┴───┴────────────┴───────────┴───────────┴───────────┘"
            ],
            "text/html": [
              "<div><style>\n",
              ".dataframe > thead > tr,\n",
              ".dataframe > tbody > tr {\n",
              "  text-align: right;\n",
              "  white-space: pre-wrap;\n",
              "}\n",
              "</style>\n",
              "<small>shape: (5, 26)</small><table border=\"1\" class=\"dataframe\"><thead><tr><th>id</th><th>timestamp</th><th>rating</th><th>18_group</th><th>is_mi</th><th>fall_1</th><th>fall_2</th><th>fall_3</th><th>spring_1</th><th>spring_2</th><th>spring_3</th><th>is_first_time</th><th>percentile</th><th>17_group</th><th>blended</th><th>is_ml_student</th><th>fall_courses_amount</th><th>f_1</th><th>f_2</th><th>f_3</th><th>course1</th><th>course2</th><th>spring_courses_amount</th><th>s_1</th><th>s_2</th><th>s_3</th></tr><tr><td>str</td><td>datetime[μs]</td><td>i64</td><td>i64</td><td>bool</td><td>str</td><td>str</td><td>str</td><td>str</td><td>str</td><td>str</td><td>bool</td><td>f64</td><td>i64</td><td>str</td><td>bool</td><td>i32</td><td>list[str]</td><td>list[str]</td><td>list[str]</td><td>str</td><td>str</td><td>i32</td><td>list[str]</td><td>list[str]</td><td>list[str]</td></tr></thead><tbody><tr><td>&quot;f0f6f3881894172a0f04e79b554b49…</td><td>2020-05-15 21:55:16</td><td>673</td><td>181</td><td>false</td><td>&quot;Безопасность компьютерных сист…</td><td>&quot;Сбор и обработка данных с помо…</td><td>&quot;Принятие решений в условиях ри…</td><td>&quot;Машинное обучение 2&quot;</td><td>&quot;Численные методы&quot;</td><td>&quot;Дополнительные главы прикладно…</td><td>true</td><td>0.300448</td><td>0</td><td>&quot;&quot;</td><td>true</td><td>1</td><td>[&quot;Безопасность компьютерных систем&quot;]</td><td>[&quot;Сбор и обработка данных с помощью краудсорсинга&quot;]</td><td>[&quot;Принятие решений в условиях риска и неопределённости&quot;]</td><td>&quot;???&quot;</td><td>&quot;???&quot;</td><td>1</td><td>[&quot;Численные методы&quot;]</td><td>[&quot;Дополнительные главы прикладной статистики&quot;]</td><td>[]</td></tr><tr><td>&quot;abceddfa2fc4eae8cff4a4e712abb3…</td><td>2020-05-18 23:01:03</td><td>664</td><td>183</td><td>false</td><td>&quot;Моделирование временных рядов&quot;</td><td>&quot;Принятие решений в условиях ри…</td><td>&quot;Statistical Learning Theory&quot;</td><td>&quot;Машинное обучение 2&quot;</td><td>&quot;Промышленное программирование …</td><td>&quot;Дополнительные главы прикладно…</td><td>true</td><td>0.345291</td><td>0</td><td>&quot;&quot;</td><td>true</td><td>1</td><td>[&quot;Моделирование временных рядов&quot;]</td><td>[&quot;Принятие решений в условиях риска и неопределённости&quot;]</td><td>[&quot;Statistical Learning Theory&quot;]</td><td>&quot;???&quot;</td><td>&quot;???&quot;</td><td>1</td><td>[&quot;Промышленное программирование на языке Java&quot;]</td><td>[&quot;Дополнительные главы прикладной статистики&quot;]</td><td>[]</td></tr><tr><td>&quot;fc2c60b8004aa91bc272df84628621…</td><td>2020-05-18 20:34:07</td><td>639</td><td>183</td><td>false</td><td>&quot;Язык SQL&quot;</td><td>&quot;Сбор и обработка данных с помо…</td><td>&quot;Statistical Learning Theory&quot;</td><td>&quot;Системы баз данных&quot;</td><td>&quot;Машинное обучение 2&quot;</td><td>&quot;Анализ данных в бизнесе&quot;</td><td>false</td><td>0.461883</td><td>0</td><td>&quot;&quot;</td><td>true</td><td>1</td><td>[&quot;Язык SQL&quot;]</td><td>[&quot;Сбор и обработка данных с помощью краудсорсинга&quot;]</td><td>[&quot;Statistical Learning Theory&quot;]</td><td>&quot;???&quot;</td><td>&quot;???&quot;</td><td>1</td><td>[&quot;Системы баз данных&quot;]</td><td>[&quot;Анализ данных в бизнесе&quot;]</td><td>[]</td></tr><tr><td>&quot;5daee1bd98559bb2c52373e4169422…</td><td>2020-05-16 13:02:24</td><td>593</td><td>182</td><td>false</td><td>&quot;Сбор и обработка данных с помо…</td><td>&quot;Statistical Learning Theory&quot;</td><td>&quot;Моделирование временных рядов&quot;</td><td>&quot;Машинное обучение 2&quot;</td><td>&quot;Промышленное программирование …</td><td>&quot;Анализ данных в бизнесе&quot;</td><td>false</td><td>0.681614</td><td>0</td><td>&quot;&quot;</td><td>true</td><td>1</td><td>[&quot;Сбор и обработка данных с помощью краудсорсинга&quot;]</td><td>[&quot;Statistical Learning Theory&quot;]</td><td>[&quot;Моделирование временных рядов&quot;]</td><td>&quot;???&quot;</td><td>&quot;???&quot;</td><td>1</td><td>[&quot;Промышленное программирование на языке Java&quot;]</td><td>[&quot;Анализ данных в бизнесе&quot;]</td><td>[]</td></tr><tr><td>&quot;6ed89e424179b0510e3f7c0cb7369a…</td><td>2020-05-18 21:24:23</td><td>558</td><td>187</td><td>false</td><td>&quot;Моделирование временных рядов&quot;</td><td>&quot;Матричные вычисления&quot;</td><td>&quot;Язык SQL&quot;</td><td>&quot;Анализ данных в бизнесе&quot;</td><td>&quot;Промышленное программирование …</td><td>&quot;Машинное обучение 2&quot;</td><td>true</td><td>0.838565</td><td>0</td><td>&quot;&quot;</td><td>true</td><td>1</td><td>[&quot;Моделирование временных рядов&quot;]</td><td>[&quot;Матричные вычисления&quot;]</td><td>[&quot;Язык SQL&quot;]</td><td>&quot;???&quot;</td><td>&quot;???&quot;</td><td>1</td><td>[&quot;Анализ данных в бизнесе&quot;]</td><td>[&quot;Промышленное программирование на языке Java&quot;]</td><td>[]</td></tr></tbody></table></div>"
            ]
          },
          "metadata": {},
          "execution_count": 69
        }
      ]
    },
    {
      "cell_type": "code",
      "execution_count": 88,
      "metadata": {
        "colab": {
          "base_uri": "https://localhost:8080/",
          "height": 952
        },
        "id": "8hDYJoMO3JKx",
        "outputId": "86f7a204-f6dd-424e-d007-206a190182e6"
      },
      "outputs": [
        {
          "output_type": "execute_result",
          "data": {
            "text/plain": [
              "shape: (10, 26)\n",
              "┌────────────┬────────────┬────────┬──────────┬───┬────────────┬───────────┬───────────┬───────────┐\n",
              "│ id         ┆ timestamp  ┆ rating ┆ 18_group ┆ … ┆ spring_cou ┆ s_1       ┆ s_2       ┆ s_3       │\n",
              "│ ---        ┆ ---        ┆ ---    ┆ ---      ┆   ┆ rses_amoun ┆ ---       ┆ ---       ┆ ---       │\n",
              "│ str        ┆ datetime[μ ┆ i64    ┆ i64      ┆   ┆ t          ┆ list[str] ┆ list[str] ┆ list[str] │\n",
              "│            ┆ s]         ┆        ┆          ┆   ┆ ---        ┆           ┆           ┆           │\n",
              "│            ┆            ┆        ┆          ┆   ┆ i32        ┆           ┆           ┆           │\n",
              "╞════════════╪════════════╪════════╪══════════╪═══╪════════════╪═══════════╪═══════════╪═══════════╡\n",
              "│ 3e106aaef8 ┆ 2020-05-18 ┆ 784    ┆ 182      ┆ … ┆ 1          ┆ [\"Дискрет ┆ [\"Промышл ┆ [\"Дополни │\n",
              "│ b24dbb0131 ┆ 17:09:23   ┆        ┆          ┆   ┆            ┆ ная оптим ┆ енное про ┆ тельные   │\n",
              "│ 9c73e14c29 ┆            ┆        ┆          ┆   ┆            ┆ изация\"]  ┆ граммиров ┆ главы     │\n",
              "│ …          ┆            ┆        ┆          ┆   ┆            ┆           ┆ ани…      ┆ приклад…  │\n",
              "│ 3a7326c9e3 ┆ 2020-05-14 ┆ 1457   ┆ 0        ┆ … ┆ 2          ┆ [\"Символь ┆ [\"Символь ┆ []        │\n",
              "│ 55a67d3805 ┆ 21:52:43   ┆        ┆          ┆   ┆            ┆ ные вычис ┆ ные вычис ┆           │\n",
              "│ 824ca34c4b ┆            ┆        ┆          ┆   ┆            ┆ ления\",   ┆ ления\"]   ┆           │\n",
              "│ …          ┆            ┆        ┆          ┆   ┆            ┆ \"Чис…     ┆           ┆           │\n",
              "│ e0ca1a9548 ┆ 2020-05-18 ┆ 764    ┆ 182      ┆ … ┆ 1          ┆ [\"Дискрет ┆ [\"Дополни ┆ [\"Машинно │\n",
              "│ af9a3f9842 ┆ 18:03:57   ┆        ┆          ┆   ┆            ┆ ная оптим ┆ тельные   ┆ е         │\n",
              "│ 8c62420aa4 ┆            ┆        ┆          ┆   ┆            ┆ изация\"]  ┆ главы     ┆ обучение  │\n",
              "│ …          ┆            ┆        ┆          ┆   ┆            ┆           ┆ приклад…  ┆ 2\"]       │\n",
              "│ 7fe7df0d20 ┆ 2020-05-18 ┆ 1365   ┆ 0        ┆ … ┆ 1          ┆ [\"Проекти ┆ [\"Методы  ┆ []        │\n",
              "│ 7babbf3024 ┆ 12:39:47   ┆        ┆          ┆   ┆            ┆ рование и ┆ сжатия и  ┆           │\n",
              "│ 9b3063ac1f ┆            ┆        ┆          ┆   ┆            ┆ разработк ┆ передачи  ┆           │\n",
              "│ …          ┆            ┆        ┆          ┆   ┆            ┆ а …       ┆ мед…      ┆           │\n",
              "│ 86d929f6fd ┆ 2020-05-15 ┆ 761    ┆ 181      ┆ … ┆ 1          ┆ [\"Дополни ┆ [\"Дополни ┆ []        │\n",
              "│ 741e56e93c ┆ 21:34:32   ┆        ┆          ┆   ┆            ┆ тельные   ┆ тельные   ┆           │\n",
              "│ ee59002988 ┆            ┆        ┆          ┆   ┆            ┆ главы     ┆ главы     ┆           │\n",
              "│ …          ┆            ┆        ┆          ┆   ┆            ┆ приклад…  ┆ приклад…  ┆           │\n",
              "│ 425c2a90f4 ┆ 2020-05-18 ┆ 760    ┆ 182      ┆ … ┆ 1          ┆ [\"Промышл ┆ [\"Дополни ┆ [\"Анализ  │\n",
              "│ 47620c9a18 ┆ 18:24:10   ┆        ┆          ┆   ┆            ┆ енное про ┆ тельные   ┆ данных в  │\n",
              "│ 68e92f0a7a ┆            ┆        ┆          ┆   ┆            ┆ граммиров ┆ главы     ┆ бизнесе\"] │\n",
              "│ …          ┆            ┆        ┆          ┆   ┆            ┆ ани…      ┆ приклад…  ┆           │\n",
              "│ 67e4ec4fe5 ┆ 2020-05-18 ┆ 1335   ┆ 0        ┆ … ┆ 2          ┆ [\"Обучени ┆ [\"Генерат ┆ []        │\n",
              "│ c060181569 ┆ 22:20:02   ┆        ┆          ┆   ┆            ┆ е с подкр ┆ ивные     ┆           │\n",
              "│ 2fbd6d403f ┆            ┆        ┆          ┆   ┆            ┆ еплением\" ┆ модели в  ┆           │\n",
              "│ …          ┆            ┆        ┆          ┆   ┆            ┆ , \"…      ┆ машинн…   ┆           │\n",
              "│ 723d5f32b6 ┆ 2020-05-18 ┆ 759    ┆ 184      ┆ … ┆ 1          ┆ [\"Дополни ┆ [\"Дискрет ┆ [\"Численн │\n",
              "│ 99c971b409 ┆ 21:59:48   ┆        ┆          ┆   ┆            ┆ тельные   ┆ ная оптим ┆ ые        │\n",
              "│ 5a017c883f ┆            ┆        ┆          ┆   ┆            ┆ главы     ┆ изация\"]  ┆ методы\"]  │\n",
              "│ …          ┆            ┆        ┆          ┆   ┆            ┆ приклад…  ┆           ┆           │\n",
              "│ b3cbd3541c ┆ 2020-05-17 ┆ 1333   ┆ 0        ┆ … ┆ 2          ┆ [\"Символь ┆ [\"Генерат ┆ []        │\n",
              "│ 0cf66ff4eb ┆ 11:31:43   ┆        ┆          ┆   ┆            ┆ ные вычис ┆ ивные     ┆           │\n",
              "│ 2bc1596bb1 ┆            ┆        ┆          ┆   ┆            ┆ ления\",   ┆ модели в  ┆           │\n",
              "│ …          ┆            ┆        ┆          ┆   ┆            ┆ \"Обу…     ┆ машинн…   ┆           │\n",
              "│ bfe75c08c6 ┆ 2020-05-18 ┆ 758    ┆ 182      ┆ … ┆ 1          ┆ [\"Дискрет ┆ [\"Промышл ┆ [\"Дополни │\n",
              "│ b7e31d4e7d ┆ 17:22:56   ┆        ┆          ┆   ┆            ┆ ная оптим ┆ енное про ┆ тельные   │\n",
              "│ 48c9c5fed6 ┆            ┆        ┆          ┆   ┆            ┆ изация\"]  ┆ граммиров ┆ главы     │\n",
              "│ …          ┆            ┆        ┆          ┆   ┆            ┆           ┆ ани…      ┆ приклад…  │\n",
              "└────────────┴────────────┴────────┴──────────┴───┴────────────┴───────────┴───────────┴───────────┘"
            ],
            "text/html": [
              "<div><style>\n",
              ".dataframe > thead > tr,\n",
              ".dataframe > tbody > tr {\n",
              "  text-align: right;\n",
              "  white-space: pre-wrap;\n",
              "}\n",
              "</style>\n",
              "<small>shape: (10, 26)</small><table border=\"1\" class=\"dataframe\"><thead><tr><th>id</th><th>timestamp</th><th>rating</th><th>18_group</th><th>is_mi</th><th>fall_1</th><th>fall_2</th><th>fall_3</th><th>spring_1</th><th>spring_2</th><th>spring_3</th><th>is_first_time</th><th>percentile</th><th>17_group</th><th>blended</th><th>is_ml_student</th><th>fall_courses_amount</th><th>f_1</th><th>f_2</th><th>f_3</th><th>course1</th><th>course2</th><th>spring_courses_amount</th><th>s_1</th><th>s_2</th><th>s_3</th></tr><tr><td>str</td><td>datetime[μs]</td><td>i64</td><td>i64</td><td>bool</td><td>str</td><td>str</td><td>str</td><td>str</td><td>str</td><td>str</td><td>bool</td><td>f64</td><td>i64</td><td>str</td><td>bool</td><td>i32</td><td>list[str]</td><td>list[str]</td><td>list[str]</td><td>str</td><td>str</td><td>i32</td><td>list[str]</td><td>list[str]</td><td>list[str]</td></tr></thead><tbody><tr><td>&quot;3e106aaef8b24dbb01319c73e14c29…</td><td>2020-05-18 17:09:23</td><td>784</td><td>182</td><td>false</td><td>&quot;Безопасность компьютерных сист…</td><td>&quot;Statistical Learning Theory&quot;</td><td>&quot;Матричные вычисления&quot;</td><td>&quot;Дискретная оптимизация&quot;</td><td>&quot;Промышленное программирование …</td><td>&quot;Дополнительные главы прикладно…</td><td>true</td><td>0.0</td><td>0</td><td>&quot;&quot;</td><td>true</td><td>1</td><td>[&quot;Безопасность компьютерных систем&quot;]</td><td>[&quot;Statistical Learning Theory&quot;]</td><td>[&quot;Матричные вычисления&quot;]</td><td>&quot;Дискретная оптимизация&quot;</td><td>&quot;???&quot;</td><td>1</td><td>[&quot;Дискретная оптимизация&quot;]</td><td>[&quot;Промышленное программирование на языке Java&quot;]</td><td>[&quot;Дополнительные главы прикладной статистики&quot;]</td></tr><tr><td>&quot;3a7326c9e355a67d3805824ca34c4b…</td><td>2020-05-14 21:52:43</td><td>1457</td><td>0</td><td>false</td><td>&quot;Statistical Learning Theory&quot;</td><td>&quot;Высокопроизводительные вычисле…</td><td>&quot;Statistical Learning Theory&quot;</td><td>&quot;Символьные вычисления&quot;</td><td>&quot;Численные методы&quot;</td><td>&quot;Символьные вычисления&quot;</td><td>true</td><td>0.0</td><td>173</td><td>&quot;Введение в дифференциальную ге…</td><td>false</td><td>2</td><td>[&quot;Statistical Learning Theory&quot;, &quot;Высокопроизводительные вычисления&quot;]</td><td>[&quot;Statistical Learning Theory&quot;]</td><td>[]</td><td>&quot;Численные методы&quot;</td><td>&quot;Символьные вычисления&quot;</td><td>2</td><td>[&quot;Символьные вычисления&quot;, &quot;Численные методы&quot;]</td><td>[&quot;Символьные вычисления&quot;]</td><td>[]</td></tr><tr><td>&quot;e0ca1a9548af9a3f98428c62420aa4…</td><td>2020-05-18 18:03:57</td><td>764</td><td>182</td><td>false</td><td>&quot;Матричные вычисления&quot;</td><td>&quot;Безопасность компьютерных сист…</td><td>&quot;Statistical Learning Theory&quot;</td><td>&quot;Дискретная оптимизация&quot;</td><td>&quot;Дополнительные главы прикладно…</td><td>&quot;Машинное обучение 2&quot;</td><td>true</td><td>0.004484</td><td>0</td><td>&quot;&quot;</td><td>false</td><td>1</td><td>[&quot;Матричные вычисления&quot;]</td><td>[&quot;Безопасность компьютерных систем&quot;]</td><td>[&quot;Statistical Learning Theory&quot;]</td><td>&quot;Дискретная оптимизация&quot;</td><td>&quot;???&quot;</td><td>1</td><td>[&quot;Дискретная оптимизация&quot;]</td><td>[&quot;Дополнительные главы прикладной статистики&quot;]</td><td>[&quot;Машинное обучение 2&quot;]</td></tr><tr><td>&quot;7fe7df0d207babbf30249b3063ac1f…</td><td>2020-05-18 12:39:47</td><td>1365</td><td>0</td><td>false</td><td>&quot;Высокопроизводительные вычисле…</td><td>&quot;Сбор и обработка данных с помо…</td><td>&quot;Моделирование временных рядов&quot;</td><td>&quot;Проектирование и разработка вы…</td><td>&quot;Методы сжатия и передачи медиа…</td><td>&quot;Методы сжатия и передачи медиа…</td><td>true</td><td>0.007246</td><td>175</td><td>&quot;DevOps&quot;</td><td>false</td><td>1</td><td>[&quot;Высокопроизводительные вычисления&quot;]</td><td>[&quot;Сбор и обработка данных с помощью краудсорсинга&quot;]</td><td>[&quot;Моделирование временных рядов&quot;]</td><td>&quot;Проектирование и разработка вы…</td><td>&quot;???&quot;</td><td>1</td><td>[&quot;Проектирование и разработка высоконагруженных сервисов&quot;]</td><td>[&quot;Методы сжатия и передачи медиаданных&quot;]</td><td>[]</td></tr><tr><td>&quot;86d929f6fd741e56e93cee59002988…</td><td>2020-05-15 21:34:32</td><td>761</td><td>181</td><td>false</td><td>&quot;Сбор и обработка данных с помо…</td><td>&quot;Сбор и обработка данных с помо…</td><td>&quot;Сбор и обработка данных с помо…</td><td>&quot;Дополнительные главы прикладно…</td><td>&quot;Дополнительные главы прикладно…</td><td>&quot;Дополнительные главы прикладно…</td><td>true</td><td>0.008969</td><td>0</td><td>&quot;&quot;</td><td>false</td><td>1</td><td>[&quot;Сбор и обработка данных с помощью краудсорсинга&quot;]</td><td>[&quot;Сбор и обработка данных с помощью краудсорсинга&quot;]</td><td>[&quot;Сбор и обработка данных с помощью краудсорсинга&quot;]</td><td>&quot;Дополнительные главы прикладно…</td><td>&quot;???&quot;</td><td>1</td><td>[&quot;Дополнительные главы прикладной статистики&quot;]</td><td>[&quot;Дополнительные главы прикладной статистики&quot;]</td><td>[]</td></tr><tr><td>&quot;425c2a90f447620c9a1868e92f0a7a…</td><td>2020-05-18 18:24:10</td><td>760</td><td>182</td><td>false</td><td>&quot;Сбор и обработка данных с помо…</td><td>&quot;Язык SQL&quot;</td><td>&quot;Принятие решений в условиях ри…</td><td>&quot;Промышленное программирование …</td><td>&quot;Дополнительные главы прикладно…</td><td>&quot;Анализ данных в бизнесе&quot;</td><td>true</td><td>0.013453</td><td>0</td><td>&quot;&quot;</td><td>true</td><td>1</td><td>[&quot;Сбор и обработка данных с помощью краудсорсинга&quot;]</td><td>[&quot;Язык SQL&quot;]</td><td>[&quot;Принятие решений в условиях риска и неопределённости&quot;]</td><td>&quot;Промышленное программирование …</td><td>&quot;???&quot;</td><td>1</td><td>[&quot;Промышленное программирование на языке Java&quot;]</td><td>[&quot;Дополнительные главы прикладной статистики&quot;]</td><td>[&quot;Анализ данных в бизнесе&quot;]</td></tr><tr><td>&quot;67e4ec4fe5c0601815692fbd6d403f…</td><td>2020-05-18 22:20:02</td><td>1335</td><td>0</td><td>false</td><td>&quot;Байесовские методы машинного о…</td><td>&quot;Глубинное обучение в обработке…</td><td>&quot;Statistical Learning Theory&quot;</td><td>&quot;Обучение с подкреплением&quot;</td><td>&quot;Проектирование и разработка вы…</td><td>&quot;Генеративные модели в машинном…</td><td>true</td><td>0.014493</td><td>171</td><td>&quot;DevOps&quot;</td><td>false</td><td>2</td><td>[&quot;Байесовские методы машинного обучения&quot;, &quot;Глубинное обучение в обработке звука&quot;]</td><td>[&quot;Statistical Learning Theory&quot;]</td><td>[]</td><td>&quot;Обучение с подкреплением&quot;</td><td>&quot;Проектирование и разработка вы…</td><td>2</td><td>[&quot;Обучение с подкреплением&quot;, &quot;Проектирование и разработка высоконагруженных сервисов&quot;]</td><td>[&quot;Генеративные модели в машинном обучении&quot;]</td><td>[]</td></tr><tr><td>&quot;723d5f32b699c971b4095a017c883f…</td><td>2020-05-18 21:59:48</td><td>759</td><td>184</td><td>false</td><td>&quot;Statistical Learning Theory&quot;</td><td>&quot;Безопасность компьютерных сист…</td><td>&quot;Матричные вычисления&quot;</td><td>&quot;Дополнительные главы прикладно…</td><td>&quot;Дискретная оптимизация&quot;</td><td>&quot;Численные методы&quot;</td><td>true</td><td>0.017937</td><td>0</td><td>&quot;&quot;</td><td>true</td><td>1</td><td>[&quot;Statistical Learning Theory&quot;]</td><td>[&quot;Безопасность компьютерных систем&quot;]</td><td>[&quot;Матричные вычисления&quot;]</td><td>&quot;Дополнительные главы прикладно…</td><td>&quot;???&quot;</td><td>1</td><td>[&quot;Дополнительные главы прикладной статистики&quot;]</td><td>[&quot;Дискретная оптимизация&quot;]</td><td>[&quot;Численные методы&quot;]</td></tr><tr><td>&quot;b3cbd3541c0cf66ff4eb2bc1596bb1…</td><td>2020-05-17 11:31:43</td><td>1333</td><td>0</td><td>false</td><td>&quot;Байесовские методы машинного о…</td><td>&quot;Statistical Learning Theory&quot;</td><td>&quot;Моделирование временных рядов&quot;</td><td>&quot;Символьные вычисления&quot;</td><td>&quot;Обучение с подкреплением&quot;</td><td>&quot;Генеративные модели в машинном…</td><td>true</td><td>0.021739</td><td>173</td><td>&quot;Соревновательный анализ данных&quot;</td><td>false</td><td>2</td><td>[&quot;Байесовские методы машинного обучения&quot;, &quot;Statistical Learning Theory&quot;]</td><td>[&quot;Моделирование временных рядов&quot;]</td><td>[]</td><td>&quot;Обучение с подкреплением&quot;</td><td>&quot;Символьные вычисления&quot;</td><td>2</td><td>[&quot;Символьные вычисления&quot;, &quot;Обучение с подкреплением&quot;]</td><td>[&quot;Генеративные модели в машинном обучении&quot;]</td><td>[]</td></tr><tr><td>&quot;bfe75c08c6b7e31d4e7d48c9c5fed6…</td><td>2020-05-18 17:22:56</td><td>758</td><td>182</td><td>false</td><td>&quot;Безопасность компьютерных сист…</td><td>&quot;Statistical Learning Theory&quot;</td><td>&quot;Матричные вычисления&quot;</td><td>&quot;Дискретная оптимизация&quot;</td><td>&quot;Промышленное программирование …</td><td>&quot;Дополнительные главы прикладно…</td><td>true</td><td>0.022422</td><td>0</td><td>&quot;&quot;</td><td>true</td><td>1</td><td>[&quot;Безопасность компьютерных систем&quot;]</td><td>[&quot;Statistical Learning Theory&quot;]</td><td>[&quot;Матричные вычисления&quot;]</td><td>&quot;Дискретная оптимизация&quot;</td><td>&quot;???&quot;</td><td>1</td><td>[&quot;Дискретная оптимизация&quot;]</td><td>[&quot;Промышленное программирование на языке Java&quot;]</td><td>[&quot;Дополнительные главы прикладной статистики&quot;]</td></tr></tbody></table></div>"
            ]
          },
          "metadata": {},
          "execution_count": 88
        }
      ],
      "source": [
        "df_full_spring = df.clone()\n",
        "\n",
        "\n",
        "course_to_slots = {course: 30 for course in unique_spring} # словарь курс - количество свободных мест. (Итерация по курсам разрешена)\n",
        "\n",
        "course_to_slots[\"Обучение с подкреплением\"] = 60\n",
        "course_to_slots[\"Анализ данных в бизнесе\"] = 60\n",
        "\n",
        "\n",
        "for wave in range(1,3+1): # итерации от 1-го до 1-й (по волнам отбора можно). Оставил, чтобы можно былои менять количество волн\n",
        "    for course in unique_spring: # итерации по 12-ти осенним курсам (по условию тоже можно)\n",
        "        # df для курса и волны\n",
        "        course_df = df_full_spring.filter(pl.col(f\"s_{wave}\").list.contains(pl.lit(course)))\n",
        "\n",
        "        # свободные слоты на course\n",
        "        slots = course_to_slots[course]\n",
        "        if slots > 0:\n",
        "            # Записанные на курс\n",
        "            enrolled = course_df.filter((pl.col(\"course1\") == \"???\") | ((pl.col(\"course2\") == \"???\") & (pl.col(\"spring_courses_amount\") == 2) & (pl.col(\"course1\") != pl.lit(course)))).sort(by=\"percentile\").head(slots)\n",
        "\n",
        "            # Добавляю в датафрейм записанных на курс название курса в столбец course1,\n",
        "            # если он свободен, иначе запишу название в course2\n",
        "\n",
        "            enrolled = enrolled.with_columns(\n",
        "                pl.when((pl.col(\"course1\") == \"???\"))\n",
        "                .then(pl.lit(course))\n",
        "                .otherwise(pl.col(\"course1\"))\n",
        "                .alias(\"course1\"),\n",
        "\n",
        "                pl.when((pl.col(\"spring_courses_amount\") == 2)\n",
        "                    & (pl.col(\"course1\") != \"???\")\n",
        "                    & (pl.col(\"course1\") != pl.lit(course))\n",
        "                    & (pl.col(\"course2\") == \"???\")\n",
        "                )\n",
        "                .then(pl.lit(course))\n",
        "                .otherwise(pl.col(\"course2\"))\n",
        "                .alias(\"course2\")\n",
        "            )\n",
        "\n",
        "            # обновляю информацию по количеству свободных мест\n",
        "            course_to_slots[course] -= enrolled.select(pl.len()).item()\n",
        "\n",
        "            # Добавление записанных на курс в итоговую таблицу\n",
        "            df_full_spring = pl.concat([df_full_spring, enrolled]).group_by(\"id\").agg(pl.all().last())\n",
        "df_full_spring.sort(\"percentile\").head(10)"
      ]
    },
    {
      "cell_type": "code",
      "source": [
        "# Заменю ??? на - у студентов с одним курсом\n",
        "df_full_spring = df_full_spring.with_columns(\n",
        "    pl.when(pl.col(\"spring_courses_amount\") == 1)\n",
        "    .then(pl.lit(\"-\"))\n",
        "    .otherwise(pl.col(\"course2\"))\n",
        "    .alias(\"course2\")\n",
        ")\n",
        "df_full_spring = df_full_spring.rename({\"id\": \"ID\"})\n",
        "\n",
        "df_full_spring.sort(\"percentile\").tail(10)"
      ],
      "metadata": {
        "colab": {
          "base_uri": "https://localhost:8080/",
          "height": 935
        },
        "id": "PlIS7pFp3fSC",
        "outputId": "2d4973e4-ed5d-47e4-a63c-0cccf6da7ec8"
      },
      "execution_count": 89,
      "outputs": [
        {
          "output_type": "execute_result",
          "data": {
            "text/plain": [
              "shape: (10, 26)\n",
              "┌────────────┬────────────┬────────┬──────────┬───┬────────────┬───────────┬───────────┬───────────┐\n",
              "│ ID         ┆ timestamp  ┆ rating ┆ 18_group ┆ … ┆ spring_cou ┆ s_1       ┆ s_2       ┆ s_3       │\n",
              "│ ---        ┆ ---        ┆ ---    ┆ ---      ┆   ┆ rses_amoun ┆ ---       ┆ ---       ┆ ---       │\n",
              "│ str        ┆ datetime[μ ┆ i64    ┆ i64      ┆   ┆ t          ┆ list[str] ┆ list[str] ┆ list[str] │\n",
              "│            ┆ s]         ┆        ┆          ┆   ┆ ---        ┆           ┆           ┆           │\n",
              "│            ┆            ┆        ┆          ┆   ┆ i32        ┆           ┆           ┆           │\n",
              "╞════════════╪════════════╪════════╪══════════╪═══╪════════════╪═══════════╪═══════════╪═══════════╡\n",
              "│ c1e88502b6 ┆ 2020-05-17 ┆ 985    ┆ 0        ┆ … ┆ 2          ┆ [\"Обучени ┆ [\"Генерат ┆ []        │\n",
              "│ 673d22c38e ┆ 18:04:39   ┆        ┆          ┆   ┆            ┆ е с подкр ┆ ивные     ┆           │\n",
              "│ e1352e3a1d ┆            ┆        ┆          ┆   ┆            ┆ еплением\" ┆ модели в  ┆           │\n",
              "│ …          ┆            ┆        ┆          ┆   ┆            ┆ , \"…      ┆ машинн…   ┆           │\n",
              "│ af20596134 ┆ 2020-05-15 ┆ 519    ┆ 182      ┆ … ┆ 1          ┆ [\"Машинно ┆ [\"Дополни ┆ [\"Анализ  │\n",
              "│ e83f3ca612 ┆ 19:44:33   ┆        ┆          ┆   ┆            ┆ е         ┆ тельные   ┆ данных в  │\n",
              "│ 59b325aa96 ┆            ┆        ┆          ┆   ┆            ┆ обучение  ┆ главы     ┆ бизнесе\"] │\n",
              "│ …          ┆            ┆        ┆          ┆   ┆            ┆ 2\"]       ┆ приклад…  ┆           │\n",
              "│ bd416140ec ┆ 2020-05-20 ┆ 518    ┆ 185      ┆ … ┆ 1          ┆ [\"Машинно ┆ [\"Компьют ┆ [\"Промышл │\n",
              "│ db32b6dbd7 ┆ 11:49:38   ┆        ┆          ┆   ┆            ┆ е         ┆ ерные     ┆ енное про │\n",
              "│ f40820bf63 ┆            ┆        ┆          ┆   ┆            ┆ обучение  ┆ сети\"]    ┆ граммиров │\n",
              "│ …          ┆            ┆        ┆          ┆   ┆            ┆ 2\"]       ┆           ┆ ани…      │\n",
              "│ f2e1cfc27a ┆ 2020-05-18 ┆ 981    ┆ 0        ┆ … ┆ 2          ┆ [\"Обучени ┆ [\"Методы  ┆ []        │\n",
              "│ 724879ac2a ┆ 18:22:26   ┆        ┆          ┆   ┆            ┆ е с подкр ┆ сжатия и  ┆           │\n",
              "│ 8c98004c14 ┆            ┆        ┆          ┆   ┆            ┆ еплением\" ┆ передачи  ┆           │\n",
              "│ …          ┆            ┆        ┆          ┆   ┆            ┆ , \"…      ┆ мед…      ┆           │\n",
              "│ f5d9f99cb8 ┆ 2020-05-18 ┆ 516    ┆ 187      ┆ … ┆ 1          ┆ [\"Промышл ┆ [\"Машинно ┆ [\"Компьют │\n",
              "│ 76ca0888d1 ┆ 19:36:51   ┆        ┆          ┆   ┆            ┆ енное про ┆ е         ┆ ерные     │\n",
              "│ 8b6e444fa1 ┆            ┆        ┆          ┆   ┆            ┆ граммиров ┆ обучение  ┆ сети\"]    │\n",
              "│ …          ┆            ┆        ┆          ┆   ┆            ┆ ани…      ┆ 2\"]       ┆           │\n",
              "│ 79d14db48e ┆ 2020-05-23 ┆ 966    ┆ 0        ┆ … ┆ 2          ┆ [\"Проекти ┆ [\"Компьют ┆ []        │\n",
              "│ 4737af7319 ┆ 21:16:40   ┆        ┆          ┆   ┆            ┆ рование и ┆ ерное     ┆           │\n",
              "│ 60ae212d51 ┆            ┆        ┆          ┆   ┆            ┆ разработк ┆ зрение\"]  ┆           │\n",
              "│ …          ┆            ┆        ┆          ┆   ┆            ┆ а …       ┆           ┆           │\n",
              "│ 40b18d4019 ┆ 2020-05-18 ┆ 515    ┆ 188      ┆ … ┆ 1          ┆ [\"Промышл ┆ [\"Компьют ┆ [\"Анализ  │\n",
              "│ 7e3db66312 ┆ 22:29:14   ┆        ┆          ┆   ┆            ┆ енное про ┆ ерные     ┆ данных в  │\n",
              "│ a026e06b8f ┆            ┆        ┆          ┆   ┆            ┆ граммиров ┆ сети\"]    ┆ бизнесе\"] │\n",
              "│ …          ┆            ┆        ┆          ┆   ┆            ┆ ани…      ┆           ┆           │\n",
              "│ be4fa2120d ┆ 2020-05-18 ┆ 502    ┆ 187      ┆ … ┆ 1          ┆ [\"Промышл ┆ [\"Численн ┆ [\"Машинно │\n",
              "│ e3397ae21e ┆ 21:12:00   ┆        ┆          ┆   ┆            ┆ енное про ┆ ые        ┆ е         │\n",
              "│ ac38ff0060 ┆            ┆        ┆          ┆   ┆            ┆ граммиров ┆ методы\"]  ┆ обучение  │\n",
              "│ …          ┆            ┆        ┆          ┆   ┆            ┆ ани…      ┆           ┆ 2\"]       │\n",
              "│ d539461bf2 ┆ 2020-05-18 ┆ 964    ┆ 0        ┆ … ┆ 1          ┆ [\"Обучени ┆ [\"Компьют ┆ [\"Проекти │\n",
              "│ 54cf8b3201 ┆ 23:12:29   ┆        ┆          ┆   ┆            ┆ е с подкр ┆ ерное     ┆ рование и │\n",
              "│ cdf7990b11 ┆            ┆        ┆          ┆   ┆            ┆ еплением\" ┆ зрение\"]  ┆ разработк │\n",
              "│ …          ┆            ┆        ┆          ┆   ┆            ┆ ]         ┆           ┆ а …       │\n",
              "│ 7a21ef645e ┆ 2020-05-20 ┆ 495    ┆ 188      ┆ … ┆ 1          ┆ [\"Анализ  ┆ [\"Промышл ┆ [\"Дополни │\n",
              "│ cb42198be4 ┆ 11:34:10   ┆        ┆          ┆   ┆            ┆ данных в  ┆ енное про ┆ тельные   │\n",
              "│ 93dd65320e ┆            ┆        ┆          ┆   ┆            ┆ бизнесе\"] ┆ граммиров ┆ главы     │\n",
              "│ …          ┆            ┆        ┆          ┆   ┆            ┆           ┆ ани…      ┆ приклад…  │\n",
              "└────────────┴────────────┴────────┴──────────┴───┴────────────┴───────────┴───────────┴───────────┘"
            ],
            "text/html": [
              "<div><style>\n",
              ".dataframe > thead > tr,\n",
              ".dataframe > tbody > tr {\n",
              "  text-align: right;\n",
              "  white-space: pre-wrap;\n",
              "}\n",
              "</style>\n",
              "<small>shape: (10, 26)</small><table border=\"1\" class=\"dataframe\"><thead><tr><th>ID</th><th>timestamp</th><th>rating</th><th>18_group</th><th>is_mi</th><th>fall_1</th><th>fall_2</th><th>fall_3</th><th>spring_1</th><th>spring_2</th><th>spring_3</th><th>is_first_time</th><th>percentile</th><th>17_group</th><th>blended</th><th>is_ml_student</th><th>fall_courses_amount</th><th>f_1</th><th>f_2</th><th>f_3</th><th>course1</th><th>course2</th><th>spring_courses_amount</th><th>s_1</th><th>s_2</th><th>s_3</th></tr><tr><td>str</td><td>datetime[μs]</td><td>i64</td><td>i64</td><td>bool</td><td>str</td><td>str</td><td>str</td><td>str</td><td>str</td><td>str</td><td>bool</td><td>f64</td><td>i64</td><td>str</td><td>bool</td><td>i32</td><td>list[str]</td><td>list[str]</td><td>list[str]</td><td>str</td><td>str</td><td>i32</td><td>list[str]</td><td>list[str]</td><td>list[str]</td></tr></thead><tbody><tr><td>&quot;c1e88502b6673d22c38ee1352e3a1d…</td><td>2020-05-17 18:04:39</td><td>985</td><td>0</td><td>false</td><td>&quot;Анализ неструктурированных дан…</td><td>&quot;Моделирование временных рядов&quot;</td><td>&quot;Сбор и обработка данных с помо…</td><td>&quot;Обучение с подкреплением&quot;</td><td>&quot;Компьютерное зрение&quot;</td><td>&quot;Генеративные модели в машинном…</td><td>true</td><td>0.971014</td><td>172</td><td>&quot;Соревновательный анализ данных&quot;</td><td>false</td><td>2</td><td>[&quot;Анализ неструктурированных данных&quot;, &quot;Моделирование временных рядов&quot;]</td><td>[&quot;Сбор и обработка данных с помощью краудсорсинга&quot;]</td><td>[]</td><td>&quot;Обучение с подкреплением&quot;</td><td>&quot;Компьютерное зрение&quot;</td><td>2</td><td>[&quot;Обучение с подкреплением&quot;, &quot;Компьютерное зрение&quot;]</td><td>[&quot;Генеративные модели в машинном обучении&quot;]</td><td>[]</td></tr><tr><td>&quot;af20596134e83f3ca61259b325aa96…</td><td>2020-05-15 19:44:33</td><td>519</td><td>182</td><td>false</td><td>&quot;Statistical Learning Theory&quot;</td><td>&quot;Сбор и обработка данных с помо…</td><td>&quot;Высокопроизводительные вычисле…</td><td>&quot;Машинное обучение 2&quot;</td><td>&quot;Дополнительные главы прикладно…</td><td>&quot;Анализ данных в бизнесе&quot;</td><td>true</td><td>0.973094</td><td>0</td><td>&quot;&quot;</td><td>false</td><td>1</td><td>[&quot;Statistical Learning Theory&quot;]</td><td>[&quot;Сбор и обработка данных с помощью краудсорсинга&quot;]</td><td>[&quot;Высокопроизводительные вычисления&quot;]</td><td>&quot;Машинное обучение 2&quot;</td><td>&quot;-&quot;</td><td>1</td><td>[&quot;Машинное обучение 2&quot;]</td><td>[&quot;Дополнительные главы прикладной статистики&quot;]</td><td>[&quot;Анализ данных в бизнесе&quot;]</td></tr><tr><td>&quot;bd416140ecdb32b6dbd7f40820bf63…</td><td>2020-05-20 11:49:38</td><td>518</td><td>185</td><td>false</td><td>&quot;Безопасность компьютерных сист…</td><td>&quot;Теория баз данных&quot;</td><td>&quot;Язык SQL&quot;</td><td>&quot;Машинное обучение 2&quot;</td><td>&quot;Компьютерные сети&quot;</td><td>&quot;Промышленное программирование …</td><td>true</td><td>0.977578</td><td>0</td><td>&quot;&quot;</td><td>false</td><td>1</td><td>[&quot;Безопасность компьютерных систем&quot;]</td><td>[&quot;Теория баз данных&quot;]</td><td>[&quot;Язык SQL&quot;]</td><td>&quot;???&quot;</td><td>&quot;-&quot;</td><td>1</td><td>[&quot;Машинное обучение 2&quot;]</td><td>[&quot;Компьютерные сети&quot;]</td><td>[&quot;Промышленное программирование на языке Java&quot;]</td></tr><tr><td>&quot;f2e1cfc27a724879ac2a8c98004c14…</td><td>2020-05-18 18:22:26</td><td>981</td><td>0</td><td>false</td><td>&quot;Принятие решений в условиях ри…</td><td>&quot;Моделирование временных рядов&quot;</td><td>&quot;Глубинное обучение в обработке…</td><td>&quot;Обучение с подкреплением&quot;</td><td>&quot;Компьютерное зрение&quot;</td><td>&quot;Методы сжатия и передачи медиа…</td><td>true</td><td>0.978261</td><td>173</td><td>&quot;DevOps&quot;</td><td>false</td><td>2</td><td>[&quot;Принятие решений в условиях риска и неопределённости&quot;, &quot;Моделирование временных рядов&quot;]</td><td>[&quot;Глубинное обучение в обработке звука&quot;]</td><td>[]</td><td>&quot;Обучение с подкреплением&quot;</td><td>&quot;Компьютерное зрение&quot;</td><td>2</td><td>[&quot;Обучение с подкреплением&quot;, &quot;Компьютерное зрение&quot;]</td><td>[&quot;Методы сжатия и передачи медиаданных&quot;]</td><td>[]</td></tr><tr><td>&quot;f5d9f99cb876ca0888d18b6e444fa1…</td><td>2020-05-18 19:36:51</td><td>516</td><td>187</td><td>false</td><td>&quot;Сбор и обработка данных с помо…</td><td>&quot;Язык SQL&quot;</td><td>&quot;Теория баз данных&quot;</td><td>&quot;Промышленное программирование …</td><td>&quot;Машинное обучение 2&quot;</td><td>&quot;Компьютерные сети&quot;</td><td>false</td><td>0.982063</td><td>0</td><td>&quot;&quot;</td><td>false</td><td>1</td><td>[&quot;Сбор и обработка данных с помощью краудсорсинга&quot;]</td><td>[&quot;Язык SQL&quot;]</td><td>[&quot;Теория баз данных&quot;]</td><td>&quot;???&quot;</td><td>&quot;-&quot;</td><td>1</td><td>[&quot;Промышленное программирование на языке Java&quot;]</td><td>[&quot;Машинное обучение 2&quot;]</td><td>[&quot;Компьютерные сети&quot;]</td></tr><tr><td>&quot;79d14db48e4737af731960ae212d51…</td><td>2020-05-23 21:16:40</td><td>966</td><td>0</td><td>false</td><td>&quot;Безопасность компьютерных сист…</td><td>&quot;Принятие решений в условиях ри…</td><td>&quot;Анализ неструктурированных дан…</td><td>&quot;Проектирование и разработка вы…</td><td>&quot;Методы сжатия и передачи медиа…</td><td>&quot;Компьютерное зрение&quot;</td><td>true</td><td>0.985507</td><td>172</td><td>&quot;DevOps&quot;</td><td>false</td><td>2</td><td>[&quot;Безопасность компьютерных систем&quot;, &quot;Принятие решений в условиях риска и неопределённости&quot;]</td><td>[&quot;Анализ неструктурированных данных&quot;]</td><td>[]</td><td>&quot;Методы сжатия и передачи медиа…</td><td>&quot;???&quot;</td><td>2</td><td>[&quot;Проектирование и разработка высоконагруженных сервисов&quot;, &quot;Методы сжатия и передачи медиаданных&quot;]</td><td>[&quot;Компьютерное зрение&quot;]</td><td>[]</td></tr><tr><td>&quot;40b18d40197e3db66312a026e06b8f…</td><td>2020-05-18 22:29:14</td><td>515</td><td>188</td><td>false</td><td>&quot;Безопасность компьютерных сист…</td><td>&quot;Язык SQL&quot;</td><td>&quot;Сбор и обработка данных с помо…</td><td>&quot;Промышленное программирование …</td><td>&quot;Компьютерные сети&quot;</td><td>&quot;Анализ данных в бизнесе&quot;</td><td>false</td><td>0.986547</td><td>0</td><td>&quot;&quot;</td><td>false</td><td>1</td><td>[&quot;Безопасность компьютерных систем&quot;]</td><td>[&quot;Язык SQL&quot;]</td><td>[&quot;Сбор и обработка данных с помощью краудсорсинга&quot;]</td><td>&quot;Анализ данных в бизнесе&quot;</td><td>&quot;-&quot;</td><td>1</td><td>[&quot;Промышленное программирование на языке Java&quot;]</td><td>[&quot;Компьютерные сети&quot;]</td><td>[&quot;Анализ данных в бизнесе&quot;]</td></tr><tr><td>&quot;be4fa2120de3397ae21eac38ff0060…</td><td>2020-05-18 21:12:00</td><td>502</td><td>187</td><td>false</td><td>&quot;Безопасность компьютерных сист…</td><td>&quot;Язык SQL&quot;</td><td>&quot;Матричные вычисления&quot;</td><td>&quot;Промышленное программирование …</td><td>&quot;Численные методы&quot;</td><td>&quot;Машинное обучение 2&quot;</td><td>true</td><td>0.991031</td><td>0</td><td>&quot;&quot;</td><td>false</td><td>1</td><td>[&quot;Безопасность компьютерных систем&quot;]</td><td>[&quot;Язык SQL&quot;]</td><td>[&quot;Матричные вычисления&quot;]</td><td>&quot;Численные методы&quot;</td><td>&quot;-&quot;</td><td>1</td><td>[&quot;Промышленное программирование на языке Java&quot;]</td><td>[&quot;Численные методы&quot;]</td><td>[&quot;Машинное обучение 2&quot;]</td></tr><tr><td>&quot;d539461bf254cf8b3201cdf7990b11…</td><td>2020-05-18 23:12:29</td><td>964</td><td>0</td><td>false</td><td>&quot;Анализ неструктурированных дан…</td><td>&quot;Глубинное обучение в обработке…</td><td>&quot;Statistical Learning Theory&quot;</td><td>&quot;Обучение с подкреплением&quot;</td><td>&quot;Компьютерное зрение&quot;</td><td>&quot;Проектирование и разработка вы…</td><td>true</td><td>0.992754</td><td>174</td><td>&quot;DevOps&quot;</td><td>false</td><td>1</td><td>[&quot;Анализ неструктурированных данных&quot;]</td><td>[&quot;Глубинное обучение в обработке звука&quot;]</td><td>[&quot;Statistical Learning Theory&quot;]</td><td>&quot;???&quot;</td><td>&quot;-&quot;</td><td>1</td><td>[&quot;Обучение с подкреплением&quot;]</td><td>[&quot;Компьютерное зрение&quot;]</td><td>[&quot;Проектирование и разработка высоконагруженных сервисов&quot;]</td></tr><tr><td>&quot;7a21ef645ecb42198be493dd65320e…</td><td>2020-05-20 11:34:10</td><td>495</td><td>188</td><td>false</td><td>&quot;Принятие решений в условиях ри…</td><td>&quot;Язык SQL&quot;</td><td>&quot;Сбор и обработка данных с помо…</td><td>&quot;Анализ данных в бизнесе&quot;</td><td>&quot;Промышленное программирование …</td><td>&quot;Дополнительные главы прикладно…</td><td>true</td><td>0.995516</td><td>0</td><td>&quot;&quot;</td><td>false</td><td>1</td><td>[&quot;Принятие решений в условиях риска и неопределённости&quot;]</td><td>[&quot;Язык SQL&quot;]</td><td>[&quot;Сбор и обработка данных с помощью краудсорсинга&quot;]</td><td>&quot;Анализ данных в бизнесе&quot;</td><td>&quot;-&quot;</td><td>1</td><td>[&quot;Анализ данных в бизнесе&quot;]</td><td>[&quot;Промышленное программирование на языке Java&quot;]</td><td>[&quot;Дополнительные главы прикладной статистики&quot;]</td></tr></tbody></table></div>"
            ]
          },
          "metadata": {},
          "execution_count": 89
        }
      ]
    },
    {
      "cell_type": "code",
      "source": [
        "df_full_spring.select(\"ID\", \"course1\", \"course2\").sort(by=\"ID\").write_csv(\"res_spring.csv\")\n",
        "# я - vvluzin_1@edu.hse.ru\n",
        "# https://contest.yandex.ru/contest/68637/run-report/119624625/"
      ],
      "metadata": {
        "id": "_5m9I_xf3q2u"
      },
      "execution_count": 90,
      "outputs": []
    },
    {
      "cell_type": "markdown",
      "metadata": {
        "id": "xw9tt9dH3JKx"
      },
      "source": [
        "**Отправьте свой файл res_spring.csv в контест (будет в ближайшее время, следите за новостями) и прикрепите/укажите ниже ваш никнейм и ссылку на успешную посылку.**"
      ]
    },
    {
      "cell_type": "markdown",
      "metadata": {
        "id": "7aB4Q1fs3JKx"
      },
      "source": [
        "На всякий случай просим вас сдать вместе с ноутбуком файл res_spring.csv в anytask"
      ]
    },
    {
      "cell_type": "markdown",
      "metadata": {
        "id": "M1LivaOx3JKx"
      },
      "source": [
        "Вставьте картинку, описывающую ваш опыт выполнения этого задания:\n",
        "\n",
        "<img src=\"https://imgur.com/LVpcdkJ.gif\" width=\"400px\">"
      ]
    }
  ],
  "metadata": {
    "colab": {
      "provenance": []
    },
    "kernelspec": {
      "display_name": "Python 3",
      "language": "python",
      "name": "python3"
    },
    "language_info": {
      "codemirror_mode": {
        "name": "ipython",
        "version": 3
      },
      "file_extension": ".py",
      "mimetype": "text/x-python",
      "name": "python",
      "nbconvert_exporter": "python",
      "pygments_lexer": "ipython3",
      "version": "3.10.13"
    }
  },
  "nbformat": 4,
  "nbformat_minor": 0
}